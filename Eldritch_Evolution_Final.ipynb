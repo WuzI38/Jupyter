{
  "nbformat": 4,
  "nbformat_minor": 0,
  "metadata": {
    "colab": {
      "provenance": [],
      "collapsed_sections": [
        "kk1pjjGdwYMZ"
      ],
      "authorship_tag": "ABX9TyM0M463KxSphbdX/JwhIvnt",
      "include_colab_link": true
    },
    "kernelspec": {
      "name": "python3",
      "display_name": "Python 3"
    },
    "language_info": {
      "name": "python"
    },
    "accelerator": "GPU",
    "gpuClass": "standard"
  },
  "cells": [
    {
      "cell_type": "markdown",
      "metadata": {
        "id": "view-in-github",
        "colab_type": "text"
      },
      "source": [
        "<a href=\"https://colab.research.google.com/github/WuzI38/Data/blob/main/Eldritch_Evolution_Final.ipynb\" target=\"_parent\"><img src=\"https://colab.research.google.com/assets/colab-badge.svg\" alt=\"Open In Colab\"/></a>"
      ]
    },
    {
      "cell_type": "markdown",
      "source": [
        "# The final version of eldritch evolution\n",
        "Good parts only + new mutation + new way of choosing specimens to reproduce"
      ],
      "metadata": {
        "id": "nfTCIUq6fWCW"
      }
    },
    {
      "cell_type": "markdown",
      "source": [
        "## Basic parameters"
      ],
      "metadata": {
        "id": "V0kycJKDgH7f"
      }
    },
    {
      "cell_type": "code",
      "source": [
        "MUTATION_RATE = 0.9 # Probability of mutation\n",
        "MUTATION_DROP_RATE = 650 # Muation is reduced for generations 100, 200, 300... \n",
        "MUTATION_SWAPS = 15 # The amount of swaps applied to specimen if mutation is applied\n",
        "MUTATION_REDUCTION = 0.2 # This number if subtracted from MUTATION_RATE every MUTATION_DROP_RATE generations\n",
        "MUTATION_SWAPS_REDUCTION = 0 # This number is subtracted from MUTATION_SWAPS every MUTATION_DROP_RATE generations\n",
        "GENERATIONS = 3000 # Number of generations\n",
        "SPECIMEN_GENERATION_METHOD = 0 # 0 for taking each segment separately, 1 for taking the first half of segments from the same specimen\n",
        "BREEDING_POOL_SELECTION = 0 # 0 for tournament and 1 for fitness based roulette \n",
        "FAVOUR_THE_BEST_ONLY = True # If roulette method is chosen greatly increases the chance of best specimen beeing chosen\n",
        "BEST_ONLY_MODIFIER = 0.9 # Slightly reduces (if < 1, cannot be > 1) the probability of the best one being chosen\n",
        "TOURNAMENT_K = 2 # Number of specimens chosen for each duel in tournament method\n",
        "\n",
        "# DO NOT CHANGE PARAMETERS BELOW AFTER GENERATING THE INITIAL POOL OF SPECIMENS!!!\n",
        "\n",
        "# Benchmark constants\n",
        "USE_BENCHMARK = False # Should benchmark be used\n",
        "PATH = \"/content/m25.txt\" # Path to the downloaded benchmark data\n",
        "PROCESSORS = 0 # The initial amount of processors\n",
        "INIT_TASKS = 0 # The initial amount of task\n",
        "MAX_TASK_SIZE = 0 # Max len of a single task\n",
        "TASKS_LEN = INIT_TASKS + PROCESSORS # After benchmark generation 1 task is added to each of the processors\n",
        "# TASKS = None # Calculated after benchmark creation\n",
        "\n",
        "# Specimen generation constants\n",
        "POPULATION_SIZE = 20 # Initial size of poplation"
      ],
      "metadata": {
        "id": "9h7YvCSOf0Yj"
      },
      "execution_count": null,
      "outputs": []
    },
    {
      "cell_type": "markdown",
      "source": [
        "## Getting data"
      ],
      "metadata": {
        "id": "YHIKgCpXgocc"
      }
    },
    {
      "cell_type": "markdown",
      "source": [
        "### Benchmark generation"
      ],
      "metadata": {
        "id": "CVrpZbx-gcUb"
      }
    },
    {
      "cell_type": "code",
      "source": [
        "import numpy as np\n",
        "from random import randint\n",
        "\n",
        "if USE_BENCHMARK:\n",
        "  tasks = np.random.randint(MAX_TASK_SIZE, size=INIT_TASKS) + 1\n",
        "  proc_order = np.empty([INIT_TASKS])\n",
        "  greedy = np.array([0 for _ in range(PROCESSORS)])\n",
        "\n",
        "  for task_index, task in enumerate(tasks):\n",
        "    index_min = np.argmin(greedy)\n",
        "    greedy[index_min] += task\n",
        "    proc_order[task_index] = index_min\n",
        "\n",
        "  spec = np.column_stack((tasks, proc_order))\n",
        "  lens = np.empty([PROCESSORS])\n",
        "  for proc in range(PROCESSORS):\n",
        "    sum_len = spec[spec[:, 1] == proc]\n",
        "    sum_len = np.sum(sum_len[:, 0]).astype(int)\n",
        "    lens[proc] = sum_len\n",
        "\n",
        "  max_value = max(lens)\n",
        "  max_value_index = np.argmax(lens)\n",
        "  rand = randint(1, 10)\n",
        "\n",
        "  additional = np.empty(PROCESSORS)\n",
        "\n",
        "  for x in range(PROCESSORS):\n",
        "    additional[x] = max_value + rand - lens[x]\n",
        "\n",
        "  final = np.concatenate((spec[:, 0], additional), axis=None)\n",
        "\n",
        "  TASKS = final\n",
        "  print(np.sort(final))\n",
        "  print(f\"Optimal solution: {sum(TASKS)/PROCESSORS}\")"
      ],
      "metadata": {
        "id": "2h1PBtHXgtSa"
      },
      "execution_count": null,
      "outputs": []
    },
    {
      "cell_type": "markdown",
      "source": [
        "### Data from file"
      ],
      "metadata": {
        "id": "g3gp_C6kyYqX"
      }
    },
    {
      "cell_type": "code",
      "source": [
        "if not USE_BENCHMARK:\n",
        "  arr = []\n",
        "\n",
        "  with open(PATH) as file:\n",
        "    for index, value in enumerate(file):\n",
        "      if index == 0: # First number is the amount of processors\n",
        "        PROCESSORS = int(value)\n",
        "      if index == 1:\n",
        "        TASKS_LEN = int(value) # Number of tasks\n",
        "      if index > 1:\n",
        "        arr.append(int(value)) # The numbers represent the length of particular tasks\n",
        "\n",
        "  TASKS = np.array(arr) \n",
        "  print(TASKS, TASKS_LEN, PROCESSORS, np.max(TASKS))\n",
        "  print(np.sum(TASKS))"
      ],
      "metadata": {
        "id": "rsrOJNF7ghUK",
        "colab": {
          "base_uri": "https://localhost:8080/"
        },
        "outputId": "1e26d1e7-88ce-4852-bf10-8974f5e93a02"
      },
      "execution_count": null,
      "outputs": [
        {
          "output_type": "stream",
          "name": "stdout",
          "text": [
            "[ 157  462  779    6   98  316  450  901  372  941   94  366  781   23\n",
            "   16  200  686   45  311  744  784  842  168  467  214  547   74   14\n",
            "  499  283  981  822  621  140  895  364  185  128  794   18  646  260\n",
            "  419  751  532  743  923  490  478  527  543   60  915  359   90   28\n",
            "   44  907   18  484  718   17  820  592   11  431  657  428  373    3\n",
            "   58  618    7   60  980  508  813   15  568  832  625  300    2   29\n",
            "    6   11    8  198  701  150  500  480  478  878  380  193  367  971\n",
            "  276  846  590  923  961  777  241   16   91    6  419  403  456  982\n",
            "   41  557  204  374  908   45  686   37  681  576  133   16  420  749\n",
            "  454  597  820  279  571  606  461  271  614  933 1000    2  461   16\n",
            "  171  478   92  225   39  899  405  670  581  833  867  880  874  838\n",
            "  246    1  563   23  280  762  211  836   25  439  858    1  368    1\n",
            "  932  945  917  873  100   41  357  373  509  871  386  976   96  272\n",
            "  417  303  334   14  576   99  781  494  159  833  555  502  943  144\n",
            "   10   82] 198 25 1000\n",
            "86450\n"
          ]
        }
      ]
    },
    {
      "cell_type": "markdown",
      "source": [
        "## Creation of the initial pool of specimens"
      ],
      "metadata": {
        "id": "W3UrQPV8iICq"
      }
    },
    {
      "cell_type": "code",
      "source": [
        "# Create empty specimen list\n",
        "specimens = np.empty([POPULATION_SIZE, TASKS_LEN, 2])"
      ],
      "metadata": {
        "id": "KptCaWJoib0D"
      },
      "execution_count": null,
      "outputs": []
    },
    {
      "cell_type": "markdown",
      "source": [
        "### Applying greedy initialization"
      ],
      "metadata": {
        "id": "ORGleuxpi1Dj"
      }
    },
    {
      "cell_type": "code",
      "source": [
        "def random_greedy_init(specimens, tasks=TASKS, tasks_len=TASKS_LEN, processors=PROCESSORS, pop_size=POPULATION_SIZE):\n",
        "  tasks_shuffled = np.copy(tasks)\n",
        "  proc_order = np.empty([tasks_len])\n",
        "  np.random.shuffle(tasks_shuffled)\n",
        "  greedy = np.array([0 for _ in range(processors)])\n",
        "\n",
        "  for i in range(pop_size):\n",
        "    for task_index, task in enumerate(tasks_shuffled):\n",
        "      index_min = np.argmin(greedy)\n",
        "      greedy[index_min] += task\n",
        "      proc_order[task_index] = index_min\n",
        "    \n",
        "    spec = np.column_stack((tasks_shuffled, proc_order))\n",
        "    spec = spec[np.argsort(spec[:, 0])]\n",
        "    specimens[i, :, :] = spec\n",
        "    np.random.shuffle(tasks_shuffled)"
      ],
      "metadata": {
        "id": "rzZdcFPqi4xR"
      },
      "execution_count": null,
      "outputs": []
    },
    {
      "cell_type": "code",
      "source": [
        "random_greedy_init(specimens)\n",
        "specimens[0][:5]"
      ],
      "metadata": {
        "id": "aOxA5Zb-i9Ma",
        "colab": {
          "base_uri": "https://localhost:8080/"
        },
        "outputId": "b50e5511-8c86-488c-bb8c-4a878e3bfbbf"
      },
      "execution_count": null,
      "outputs": [
        {
          "output_type": "execute_result",
          "data": {
            "text/plain": [
              "array([[ 1.,  6.],\n",
              "       [ 1., 19.],\n",
              "       [ 1.,  8.],\n",
              "       [ 2., 16.],\n",
              "       [ 2.,  4.]])"
            ]
          },
          "metadata": {},
          "execution_count": 98
        }
      ]
    },
    {
      "cell_type": "markdown",
      "source": [
        "### Visualize particular specimens"
      ],
      "metadata": {
        "id": "ppdIKXVWkDDz"
      }
    },
    {
      "cell_type": "code",
      "source": [
        "# Create function to plot the best specimen\n",
        "import pandas as pd\n",
        "import matplotlib.pyplot as plt\n",
        "\n",
        "def plot_results(specimen, processors=PROCESSORS):\n",
        "  processors = dict(zip([f\"Processor {x}\" for x in range(PROCESSORS)], [0 for _ in range(PROCESSORS)]))\n",
        "  proc_df = pd.Series(processors).to_frame(\"time\")\n",
        "  \n",
        "  for task in specimen:\n",
        "    proc_df.loc[f\"Processor {task[1].astype(int)}\"] += task[0]\n",
        "\n",
        "  proc_df.plot.bar(figsize=(10, 7))\n",
        "  plt.title(f\"Max time value: {proc_df.max()['time']}\")\n",
        "  plt.show()"
      ],
      "metadata": {
        "id": "722HftiQkJ6O"
      },
      "execution_count": null,
      "outputs": []
    },
    {
      "cell_type": "code",
      "source": [
        "# Plot greedy solution for specimen 0\n",
        "plot_results(specimens[0])"
      ],
      "metadata": {
        "colab": {
          "base_uri": "https://localhost:8080/",
          "height": 498
        },
        "id": "r49Ua9hLkOAS",
        "outputId": "b7d0cbd5-de68-4340-dcbd-c0c5dff7345a"
      },
      "execution_count": null,
      "outputs": [
        {
          "output_type": "display_data",
          "data": {
            "text/plain": [
              "<Figure size 720x504 with 1 Axes>"
            ],
            "image/png": "[encoded data removed]"
          },
          "metadata": {
            "needs_background": "light"
          }
        }
      ]
    },
    {
      "cell_type": "markdown",
      "source": [
        "## Offspring creation, mutation, fitness calculation"
      ],
      "metadata": {
        "id": "Qfwpe8hHlZKi"
      }
    },
    {
      "cell_type": "markdown",
      "source": [
        "### Offspring creation\n",
        "```generate_offspring``` is a function that takes segments one by one with probability of taking the segment from first specimen equal to 50%\n",
        "\n",
        "```generate_offspring_2``` combines first half of one of the specimens with second half of the other"
      ],
      "metadata": {
        "id": "LVyLVx2UlkAx"
      }
    },
    {
      "cell_type": "code",
      "source": [
        "def generate_offspring(parent_a, parent_b, tasks_len=TASKS_LEN):\n",
        "  '''\n",
        "    This thing randomly chooses (50% probability) a task assigned to certain processor\n",
        "    from one of the parents and passes it to the baby\n",
        "  '''\n",
        "  choice = np.random.randint(2, size=tasks_len).astype(bool)\n",
        "  choice2d = np.column_stack((choice, choice))\n",
        "  mix = np.where(choice2d, parent_a, parent_b)\n",
        "  return mix\n",
        "\n",
        "generate_offspring(specimens[0], specimens[1])[:5, :]"
      ],
      "metadata": {
        "colab": {
          "base_uri": "https://localhost:8080/"
        },
        "id": "37WslWsBmc3b",
        "outputId": "67cf0130-bcb4-4a74-af97-8d1da5254760"
      },
      "execution_count": null,
      "outputs": [
        {
          "output_type": "execute_result",
          "data": {
            "text/plain": [
              "array([[ 1.,  6.],\n",
              "       [ 1., 19.],\n",
              "       [ 1.,  5.],\n",
              "       [ 2., 16.],\n",
              "       [ 2.,  4.]])"
            ]
          },
          "metadata": {},
          "execution_count": 101
        }
      ]
    },
    {
      "cell_type": "code",
      "source": [
        "def generate_offspring_2(parent_a, parent_b, tasks_len=TASKS_LEN):\n",
        "  '''\n",
        "    This thing takes half of parent_a and joins it with half of parent_b\n",
        "  '''\n",
        "  div = len(parent_a) // 2\n",
        "  choice = np.random.randint(2)\n",
        "  if(choice):\n",
        "    offspring = np.concatenate((parent_a[:div], parent_b[div:]), axis=0)\n",
        "  else:\n",
        "    offspring = np.concatenate((parent_b[:div], parent_a[div:]), axis=0)\n",
        "  return offspring\n",
        "\n",
        "generate_offspring_2(specimens[0], specimens[1])[:5, :]"
      ],
      "metadata": {
        "colab": {
          "base_uri": "https://localhost:8080/"
        },
        "id": "uMl32Cjcmne6",
        "outputId": "664d4f1b-06b3-4b15-9be0-79438e658a6a"
      },
      "execution_count": null,
      "outputs": [
        {
          "output_type": "execute_result",
          "data": {
            "text/plain": [
              "array([[ 1.,  5.],\n",
              "       [ 1., 22.],\n",
              "       [ 1.,  5.],\n",
              "       [ 2.,  3.],\n",
              "       [ 2., 20.]])"
            ]
          },
          "metadata": {},
          "execution_count": 102
        }
      ]
    },
    {
      "cell_type": "markdown",
      "source": [
        "### Calculate fitness for a single specimen"
      ],
      "metadata": {
        "id": "OZi1JSKvmtki"
      }
    },
    {
      "cell_type": "code",
      "source": [
        "def calculate_fitness(specimen, tasks_len=TASKS_LEN):\n",
        "  '''\n",
        "    Calculate length value of certain specimen (max time for single processor)\n",
        "  '''\n",
        "  lens = np.zeros(tasks_len)\n",
        "  for x in range(tasks_len):\n",
        "    lens[specimen[x, 1].astype(int)] += specimen[x, 0] # Why this is not an int? No idea\n",
        "  return np.amax(lens)\n",
        "\n",
        "# This value is also visible on the graph above\n",
        "print(calculate_fitness(specimens[0]))"
      ],
      "metadata": {
        "colab": {
          "base_uri": "https://localhost:8080/"
        },
        "id": "1S-3BI7Jmz_B",
        "outputId": "52c11bf9-88d8-4e22-81d5-9d4251185960"
      },
      "execution_count": null,
      "outputs": [
        {
          "output_type": "stream",
          "name": "stdout",
          "text": [
            "3962.0\n"
          ]
        }
      ]
    },
    {
      "cell_type": "markdown",
      "source": [
        "### New version of mutation tries to fix the specimen by moving tasks from the most to least busy processors"
      ],
      "metadata": {
        "id": "8WvVTTaTnXiL"
      }
    },
    {
      "cell_type": "code",
      "source": [
        "def mutate(specimen, swaps=MUTATION_SWAPS, tasks_len=TASKS_LEN, processors=PROCESSORS):\n",
        "  # Very simmilar to calculate_fitness\n",
        "  max_tasks = np.zeros(processors)\n",
        "  for index, value in enumerate(specimen):\n",
        "    max_tasks[value[1].astype(int)] += value[0]\n",
        "\n",
        "  specimen_cp = np.copy(specimen)  \n",
        "\n",
        "  for _ in range(swaps):\n",
        "    # Find indices of most and least busy processors\n",
        "    max_len = np.amax(max_tasks)\n",
        "    min_len = np.amin(max_tasks)\n",
        "\n",
        "    # Find indices of tasks performed by most and least busy processors\n",
        "    max_index = np.where(max_tasks == max_len)[0][0]\n",
        "    min_index = np.where(max_tasks == min_len)[0][0]\n",
        "\n",
        "    # Find task performed by most busy processor with min len\n",
        "    elems_of_max_processor = specimen_cp[np.where(specimen_cp[:, 1] == max_index)]\n",
        "    min_elem_of_max_processor = np.min(elems_of_max_processor[:, 0]).astype(int)\n",
        "\n",
        "    # Check if moving the task to least busy processor would increase performance. If so make a swap\n",
        "    max_tasks_temp = np.copy(max_tasks)\n",
        "    max_tasks_temp[max_index] -= min_elem_of_max_processor\n",
        "    max_tasks_temp[min_index] += min_elem_of_max_processor\n",
        "    if np.amax(elems_of_max_processor) <= max_len:\n",
        "      # Make a swap\n",
        "      max_tasks[max_index] -= min_elem_of_max_processor\n",
        "      max_tasks[min_index] += min_elem_of_max_processor\n",
        "      swap_index = np.where((specimen_cp[:, 0] == min_elem_of_max_processor) & (specimen_cp[:, 1] == max_index))\n",
        "      specimen_cp[swap_index, 1] = min_index\n",
        "  return specimen_cp\n",
        "      \n",
        "scp = mutate(specimens[0])"
      ],
      "metadata": {
        "id": "EK-cTJNxm21h"
      },
      "execution_count": null,
      "outputs": []
    },
    {
      "cell_type": "code",
      "source": [
        "# Plot greedy solution for specimen 0\n",
        "plot_results(scp)"
      ],
      "metadata": {
        "colab": {
          "base_uri": "https://localhost:8080/",
          "height": 498
        },
        "id": "GyxGS8JAqGFL",
        "outputId": "99702356-7058-48dc-dfb4-0c77ae6b99c0"
      },
      "execution_count": null,
      "outputs": [
        {
          "output_type": "display_data",
          "data": {
            "text/plain": [
              "<Figure size 720x504 with 1 Axes>"
            ],
            "image/png": "[encoded data removed]"
          },
          "metadata": {
            "needs_background": "light"
          }
        }
      ]
    },
    {
      "cell_type": "markdown",
      "source": [
        "### Fitness calculation for all of the specimens"
      ],
      "metadata": {
        "id": "Don6_DEit0oT"
      }
    },
    {
      "cell_type": "code",
      "source": [
        "# Returns calculated lenghts of all specimens as np array\n",
        "def calculate_lenghts(specimens):\n",
        "  return np.array(list(map(calculate_fitness, specimens)))\n",
        "\n",
        "lens = calculate_lenghts(specimens)\n",
        "print(lens, np.min(lens))"
      ],
      "metadata": {
        "colab": {
          "base_uri": "https://localhost:8080/"
        },
        "id": "dUPYe6LjubyZ",
        "outputId": "cd87d438-01e9-42db-e7d6-0ca2d21bad46"
      },
      "execution_count": null,
      "outputs": [
        {
          "output_type": "stream",
          "name": "stdout",
          "text": [
            "[3962. 3828. 3906. 3933. 4121. 3855. 4078. 4215. 4133. 4295. 4313. 4140.\n",
            " 4291. 4216. 4104. 4128. 4144. 4214. 3974. 4053.] 3828.0\n"
          ]
        }
      ]
    },
    {
      "cell_type": "markdown",
      "source": [
        "## Choosing specimens for reproduction"
      ],
      "metadata": {
        "id": "bj28WYQ9vLmI"
      }
    },
    {
      "cell_type": "markdown",
      "source": [
        "### Tournament method"
      ],
      "metadata": {
        "id": "29NuqPsJwrR1"
      }
    },
    {
      "cell_type": "code",
      "source": [
        "def tournament_generation(specimens, pop_size=POPULATION_SIZE, k=TOURNAMENT_K):\n",
        "  if k > pop_size:\n",
        "    return\n",
        "  tournament_winners = np.empty((pop_size * 2))\n",
        "  indices = np.array(range(pop_size))\n",
        "  specimens_mapped = calculate_lenghts(specimens)\n",
        "  for index in range(pop_size * 2):\n",
        "    repeat = True\n",
        "    while repeat:\n",
        "      np.random.shuffle(indices)\n",
        "      winner = np.min(specimens_mapped[indices[:k]])\n",
        "      winner_index = np.where(specimens_mapped[indices[:k]] == winner)[0][0]\n",
        "      tournament_winners[index] = indices[winner_index]\n",
        "      repeat = (index % 2 == 1 and tournament_winners[index] == tournament_winners[index - 1])\n",
        "  return tournament_winners.reshape((pop_size, 2)).astype(int)\n",
        "\n",
        "tournament_generation(specimens)[:5]"
      ],
      "metadata": {
        "colab": {
          "base_uri": "https://localhost:8080/"
        },
        "id": "zblgy6fo1ZFf",
        "outputId": "8dd803a0-fb2e-4cbe-c745-051155607496"
      },
      "execution_count": null,
      "outputs": [
        {
          "output_type": "execute_result",
          "data": {
            "text/plain": [
              "array([[ 4,  5],\n",
              "       [11,  8],\n",
              "       [ 8, 19],\n",
              "       [ 8,  1],\n",
              "       [ 3, 16]])"
            ]
          },
          "metadata": {},
          "execution_count": 107
        }
      ]
    },
    {
      "cell_type": "code",
      "source": [
        "def create_fitness_array(specimens, favour_the_best=False, modifier=BEST_ONLY_MODIFIER):\n",
        "  '''\n",
        "    Calculate inverse probability values for each specimen\n",
        "  '''\n",
        "  specimens_mapped = calculate_lenghts(specimens) # Calculate lengths of all specimens\n",
        "  if favour_the_best:\n",
        "    specimens_mapped -= (np.min(specimens_mapped) * modifier - 1)\n",
        "  weights = np.reciprocal(specimens_mapped) # invert weights\n",
        "  weights = weights / np.sum(weights) # normalize\n",
        "  return weights # Return the probability for each specimen (greater len -> lesser probability)\n",
        "\n",
        "fit_arr = create_fitness_array(specimens, False)\n",
        "print(fit_arr)\n",
        "print(f\"Max value of fitness: {np.max(fit_arr)}\\nMin value of fitness: {np.min(fit_arr)}\")"
      ],
      "metadata": {
        "colab": {
          "base_uri": "https://localhost:8080/"
        },
        "id": "fnKOQ2FvDHfL",
        "outputId": "ef5ca918-757f-4c02-8af2-22f22a8704c4"
      },
      "execution_count": null,
      "outputs": [
        {
          "output_type": "stream",
          "name": "stdout",
          "text": [
            "[0.05161767 0.05342455 0.0523577  0.05199827 0.04962611 0.05305037\n",
            " 0.05014938 0.04851938 0.04948202 0.04761564 0.04741692 0.04939836\n",
            " 0.04766003 0.04850787 0.04983167 0.04954196 0.04935067 0.04853089\n",
            " 0.0514618  0.05045872]\n",
            "Max value of fitness: 0.053424553409087534\n",
            "Min value of fitness: 0.047416923359607475\n"
          ]
        }
      ]
    },
    {
      "cell_type": "code",
      "source": [
        "def roulette_generation(fitness_array, pop_size=POPULATION_SIZE):\n",
        "  options = np.array(range(pop_size))\n",
        "  parents = np.empty([pop_size, 2])\n",
        "  for index in range(pop_size):\n",
        "    index_a = np.random.choice(options, p=fitness_array)\n",
        "    index_b = np.random.choice(options, p=fitness_array)\n",
        "    # Do not allow one parent to breed with itself - if same index was chosen twice swap second index with a random index\n",
        "    if index_a == index_b:\n",
        "      options_cp = np.append(options[:index_a], options[index_a+1:])\n",
        "      index_b = np.random.choice(options_cp)\n",
        "    parents[index] = np.array([index_a, index_b])\n",
        "  return parents.astype(int)\n",
        "\n",
        "roulette_generation(fit_arr)[:5]"
      ],
      "metadata": {
        "id": "8k0NQHaeEVhT",
        "colab": {
          "base_uri": "https://localhost:8080/"
        },
        "outputId": "a012a0b2-18ab-41d1-94df-603ebdb5f81c"
      },
      "execution_count": null,
      "outputs": [
        {
          "output_type": "execute_result",
          "data": {
            "text/plain": [
              "array([[ 4, 12],\n",
              "       [16, 17],\n",
              "       [10, 18],\n",
              "       [18,  0],\n",
              "       [ 7, 11]])"
            ]
          },
          "metadata": {},
          "execution_count": 109
        }
      ]
    },
    {
      "cell_type": "markdown",
      "source": [
        "## Simulation"
      ],
      "metadata": {
        "id": "orHCrhtIwMpj"
      }
    },
    {
      "cell_type": "markdown",
      "source": [
        "### Save generated specimens for further tests"
      ],
      "metadata": {
        "id": "kk1pjjGdwYMZ"
      }
    },
    {
      "cell_type": "code",
      "source": [
        "\"\"\"try: \n",
        "  specimens_copy\n",
        "except NameError:\n",
        "  specimens_copy = np.copy(specimens)\n",
        "else:\n",
        "  specimens = np.copy(specimens_copy)\"\"\""
      ],
      "metadata": {
        "id": "acRUXZ-Hwceh",
        "colab": {
          "base_uri": "https://localhost:8080/",
          "height": 1000
        },
        "outputId": "d5808986-db11-4fc9-ea6d-7e6e248481d0"
      },
      "execution_count": null,
      "outputs": [
        {
          "output_type": "execute_result",
          "data": {
            "text/plain": [
              "'try: \\n  specimens_copy\\nexcept NameError:\\n  specimens_copy = np.copy(specimens)\\nelse:\\n  specimens = np.copy(specimens_copy)'"
            ],
            "application/vnd.google.colaboratory.intrinsic+json": {
              "type": "string"
            }
          },
          "metadata": {},
          "execution_count": 110
        }
      ]
    },
    {
      "cell_type": "code",
      "source": [
        "# specimens_copy = specimens"
      ],
      "metadata": {
        "id": "SyTOjv8DaD8o"
      },
      "execution_count": null,
      "outputs": []
    },
    {
      "cell_type": "markdown",
      "source": [
        "### Main algorithm"
      ],
      "metadata": {
        "id": "Zs05SIEbyJ7x"
      }
    },
    {
      "cell_type": "code",
      "source": [
        "from random import random\n",
        "\n",
        "# Save the best specimen for every generation\n",
        "lenghts_best_of_gen = np.empty([GENERATIONS])\n",
        "best_of_gen = np.empty([GENERATIONS, TASKS_LEN, 2])\n",
        "\n",
        "# Save best \n",
        "best_specimens_set = np.empty([POPULATION_SIZE, TASKS_LEN, 2])\n",
        "best_set_shortest_specimen = calculate_fitness(specimens[0])\n",
        "\n",
        "# Simulate X generations (by default X = 20)\n",
        "for gen_num in range(GENERATIONS): \n",
        "  # Save shortest generated specimen\n",
        "  specimens_lenghts = calculate_lenghts(specimens) # Calculate all lens\n",
        "  shortest_specimen_len = np.min(specimens_lenghts) # Find the shortest specimen's len\n",
        "  shortest_specimen = np.copy(specimens[np.where(specimens_lenghts == shortest_specimen_len)]) # Save the shortest specimen\n",
        "  lenghts_best_of_gen[gen_num] = shortest_specimen_len\n",
        "  best_of_gen[gen_num] = shortest_specimen[0]\n",
        "\n",
        "  if shortest_specimen_len < best_set_shortest_specimen:\n",
        "    best_set_shortest_specimen = shortest_specimen_len\n",
        "    best_specimens_set = np.copy(specimens)\n",
        "  \n",
        "  specimens_new = np.empty([POPULATION_SIZE, TASKS_LEN, 2]) # Create new population\n",
        "\n",
        "  if not BREEDING_POOL_SELECTION: # tournament_selection\n",
        "    parents = tournament_generation(specimens, k=TOURNAMENT_K)\n",
        "  else:\n",
        "    fit_arr = create_fitness_array(specimens, FAVOUR_THE_BEST_ONLY, BEST_ONLY_MODIFIER)\n",
        "    parets = roulette_generation(fit_arr)\n",
        "\n",
        "  for i in range(POPULATION_SIZE): # Create a new set of babies (size = POPULATION_SIZE)\n",
        "    parent_a = specimens[parents[i, 0]]\n",
        "    parent_b = specimens[parents[i, 1]]\n",
        "\n",
        "    # Create a new specimen\n",
        "    if not SPECIMEN_GENERATION_METHOD:\n",
        "      new_specimen = generate_offspring(parent_a, parent_b)\n",
        "    else:\n",
        "      new_specimen = generate_offspring_2(parent_a, parent_b)\n",
        "\n",
        "    # Apply mutation\n",
        "    if random() <= MUTATION_RATE:\n",
        "      new_specimen = mutate(new_specimen)\n",
        "\n",
        "    specimens_new[i, :, :] = new_specimen # Add new specimens to next generation\n",
        "\n",
        "  specimens = np.copy(specimens_new)\n",
        "  if len(set(calculate_lenghts(specimens))) == 1:\n",
        "    specimens = np.copy(best_specimens_set)\n",
        "\n",
        "  # Decrease mutation rate by MUTATION_REDUCTION every MUTATION_DROP_RATE iterations\n",
        "  if MUTATION_DROP_RATE >= 1:\n",
        "    if gen_num % MUTATION_DROP_RATE == 0 and gen_num:\n",
        "      MUTATION_RATE -= MUTATION_REDUCTION"
      ],
      "metadata": {
        "id": "_KK83wLzyPiJ"
      },
      "execution_count": null,
      "outputs": []
    },
    {
      "cell_type": "markdown",
      "source": [
        "## Analysing the results"
      ],
      "metadata": {
        "id": "isyvl8-a2teL"
      }
    },
    {
      "cell_type": "code",
      "source": [
        "# Check the improvement over generations\n",
        "lenghts_best_of_gen, np.min(lenghts_best_of_gen)"
      ],
      "metadata": {
        "colab": {
          "base_uri": "https://localhost:8080/"
        },
        "id": "Oekl93NH27JA",
        "outputId": "9c919aab-1529-4f4f-c7ed-d7eb2d657cad"
      },
      "execution_count": null,
      "outputs": [
        {
          "output_type": "execute_result",
          "data": {
            "text/plain": [
              "(array([3828., 4097., 4240., ..., 3465., 3466., 3462.]), 3460.0)"
            ]
          },
          "metadata": {},
          "execution_count": 113
        }
      ]
    },
    {
      "cell_type": "code",
      "source": [
        "# Plot best specimen\n",
        "best_specimen = best_of_gen[np.where(lenghts_best_of_gen == np.min(lenghts_best_of_gen))][0]\n",
        "plot_results(best_specimen)"
      ],
      "metadata": {
        "colab": {
          "base_uri": "https://localhost:8080/",
          "height": 498
        },
        "id": "KdOJfErM2-TY",
        "outputId": "a6c05af5-948d-4654-a78f-1018f65cb1b1"
      },
      "execution_count": null,
      "outputs": [
        {
          "output_type": "display_data",
          "data": {
            "text/plain": [
              "<Figure size 720x504 with 1 Axes>"
            ],
            "image/png": "[encoded data removed]"
          },
          "metadata": {
            "needs_background": "light"
          }
        }
      ]
    },
    {
      "cell_type": "code",
      "source": [
        "# Plot the last\n",
        "last_specimen = best_of_gen[-1]\n",
        "plot_results(last_specimen)"
      ],
      "metadata": {
        "colab": {
          "base_uri": "https://localhost:8080/",
          "height": 498
        },
        "id": "2BYAP7yA3Ace",
        "outputId": "52db2797-26dc-4f16-ba8f-3ede6cf7432b"
      },
      "execution_count": null,
      "outputs": [
        {
          "output_type": "display_data",
          "data": {
            "text/plain": [
              "<Figure size 720x504 with 1 Axes>"
            ],
            "image/png": "[encoded data removed]"
          },
          "metadata": {
            "needs_background": "light"
          }
        }
      ]
    },
    {
      "cell_type": "code",
      "source": [
        "fit_arr = create_fitness_array(specimens) # Check if local minimum was achieved\n",
        "fit_arr = set(fit_arr)\n",
        "fit_arr"
      ],
      "metadata": {
        "colab": {
          "base_uri": "https://localhost:8080/"
        },
        "id": "dVIGBkdeLjio",
        "outputId": "22290b23-b5cc-4630-c558-50befec1b216"
      },
      "execution_count": null,
      "outputs": [
        {
          "output_type": "execute_result",
          "data": {
            "text/plain": [
              "{0.04955289359150999,\n",
              " 0.04968027892207942,\n",
              " 0.049808320878064166,\n",
              " 0.04985114832507884,\n",
              " 0.049865440512098645,\n",
              " 0.04998007370867818,\n",
              " 0.049994439927048016,\n",
              " 0.05002319715450102,\n",
              " 0.05005198748379858,\n",
              " 0.050066395079504916,\n",
              " 0.05008081097212786,\n",
              " 0.050095235168836426,\n",
              " 0.050109667676807856,\n",
              " 0.05012410850322769,\n",
              " 0.05013855765528973,\n",
              " 0.0501530151401961}"
            ]
          },
          "metadata": {},
          "execution_count": 116
        }
      ]
    }
  ]
}