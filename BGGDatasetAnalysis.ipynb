{
  "nbformat": 4,
  "nbformat_minor": 0,
  "metadata": {
    "colab": {
      "provenance": [],
      "toc_visible": true
    },
    "kernelspec": {
      "name": "python3",
      "display_name": "Python 3"
    },
    "language_info": {
      "name": "python"
    }
  },
  "cells": [
    {
      "cell_type": "markdown",
      "source": [
        "# Pobranie danych oraz odfiltrowanie informacji nie związanych z badanymi zagadnieniami"
      ],
      "metadata": {
        "id": "ICWNdp3Tgfbo"
      }
    },
    {
      "cell_type": "markdown",
      "source": [
        "## Import danych z Google Drive"
      ],
      "metadata": {
        "id": "GoYRGHgilGrp"
      }
    },
    {
      "cell_type": "code",
      "source": [
        "from google.colab import drive\n",
        "drive.mount('/content/gdrive/')"
      ],
      "metadata": {
        "colab": {
          "base_uri": "https://localhost:8080/"
        },
        "id": "68nXL31hmIfd",
        "outputId": "c239d694-893b-46a9-cbac-9e5e477eca7d"
      },
      "execution_count": 1,
      "outputs": [
        {
          "output_type": "stream",
          "name": "stdout",
          "text": [
            "Mounted at /content/gdrive/\n"
          ]
        }
      ]
    },
    {
      "cell_type": "code",
      "source": [
        "import os\n",
        "\n",
        "os.chdir('/content')\n",
        "zip_dir = '/content/gdrive/MyDrive/Kaggle/BGGData.zip'\n",
        "\n",
        "!cp '{zip_dir}' .\n",
        "!unzip -q 'BGGData.zip'\n",
        "\n",
        "os.listdir()"
      ],
      "metadata": {
        "colab": {
          "base_uri": "https://localhost:8080/"
        },
        "id": "38pw1OhHCCvY",
        "outputId": "810c84c2-9c14-4453-9f9d-5decf60eaaf3"
      },
      "execution_count": 2,
      "outputs": [
        {
          "output_type": "execute_result",
          "data": {
            "text/plain": [
              "['.config',\n",
              " 'mechanics.csv',\n",
              " 'ratings_distribution.csv',\n",
              " 'themes.csv',\n",
              " 'gdrive',\n",
              " 'subcategories.csv',\n",
              " 'BGGData.zip',\n",
              " 'games.csv',\n",
              " 'sample_data']"
            ]
          },
          "metadata": {},
          "execution_count": 2
        }
      ]
    },
    {
      "cell_type": "markdown",
      "source": [
        "## Wstępne zapoznanie z danymi"
      ],
      "metadata": {
        "id": "GcZj5kGuFLxq"
      }
    },
    {
      "cell_type": "markdown",
      "source": [
        "### Utworzenie funkcji wypisującej przykładowy rekord"
      ],
      "metadata": {
        "id": "3pENe3B0HbVG"
      }
    },
    {
      "cell_type": "code",
      "source": [
        "import pandas as pd\n",
        "\n",
        "df = pd.read_csv('games.csv')\n",
        "# BayesAvgRating - estimated mean of a population\n",
        "\n",
        "def print_columns(df, index=0):\n",
        "  column_names = df.columns.tolist()\n",
        "\n",
        "  # Get the values from the first row\n",
        "  first_row_values = df.iloc[index].tolist()\n",
        "\n",
        "  # Create a dictionary with column names as keys and values from the first row\n",
        "  result_dict = dict(zip(column_names, first_row_values))\n",
        "\n",
        "  # Display the resulting dictionary\n",
        "  for key, value in result_dict.items():\n",
        "      print(f\"{key}: {value}\")\n",
        "\n",
        "print_columns(df)"
      ],
      "metadata": {
        "colab": {
          "base_uri": "https://localhost:8080/"
        },
        "id": "AG1-0pCubNR9",
        "outputId": "fe6b2d37-5389-43cc-adcc-bdf1963f5891"
      },
      "execution_count": 3,
      "outputs": [
        {
          "output_type": "stream",
          "name": "stdout",
          "text": [
            "BGGId: 1\n",
            "Name: Die Macher\n",
            "Description: die macher game seven sequential political race different region germany player charge national political party manage limited resource help party victory win party victory point regional election different way score victory point regional election supply eighty victory point depend size region party second party win regional election medium influence region party receive mediacontrol victory point party national party membership grow game progress supply fair number victory point lastly party score victory point party platform match national opinion end gamethe   edition feature party old west germany support   player   edition support player reunite germany update feature rule     edition support player add short fiveround variant additional rule update original designer\n",
            "YearPublished: 1986\n",
            "GameWeight: 4.3206\n",
            "AvgRating: 7.61428\n",
            "BayesAvgRating: 7.10363\n",
            "StdDev: 1.57979\n",
            "MinPlayers: 3\n",
            "MaxPlayers: 5\n",
            "ComAgeRec: 14.366666666666667\n",
            "LanguageEase: 1.3958333333333333\n",
            "BestPlayers: 5\n",
            "GoodPlayers: ['4', '5']\n",
            "NumOwned: 7498\n",
            "NumWant: 501\n",
            "NumWish: 2039\n",
            "NumWeightVotes: 761\n",
            "MfgPlaytime: 240\n",
            "ComMinPlaytime: 240\n",
            "ComMaxPlaytime: 240\n",
            "MfgAgeRec: 14\n",
            "NumUserRatings: 5354\n",
            "NumComments: 0\n",
            "NumAlternates: 2\n",
            "NumExpansions: 0\n",
            "NumImplementations: 0\n",
            "IsReimplementation: 0\n",
            "Family: Classic Line (Valley Games)\n",
            "Kickstarted: 0\n",
            "ImagePath: https://cf.geekdo-images.com/rpwCZAjYLD940NWwP3SRoA__original/img/yR0aoBVKNrAmmCuBeSzQnMflLYg=/0x0/filters:format(jpeg)/pic4718279.jpg\n",
            "Rank:boardgame: 316\n",
            "Rank:strategygames: 180\n",
            "Rank:abstracts: 21926\n",
            "Rank:familygames: 21926\n",
            "Rank:thematic: 21926\n",
            "Rank:cgs: 21926\n",
            "Rank:wargames: 21926\n",
            "Rank:partygames: 21926\n",
            "Rank:childrensgames: 21926\n",
            "Cat:Thematic: 0\n",
            "Cat:Strategy: 1\n",
            "Cat:War: 0\n",
            "Cat:Family: 0\n",
            "Cat:CGS: 0\n",
            "Cat:Abstract: 0\n",
            "Cat:Party: 0\n",
            "Cat:Childrens: 0\n"
          ]
        }
      ]
    },
    {
      "cell_type": "markdown",
      "source": [
        "### Usunięcie nadmiarowych kolumn"
      ],
      "metadata": {
        "id": "Y_56q6Lvbmad"
      }
    },
    {
      "cell_type": "code",
      "source": [
        "# Remove columns\n",
        "\n",
        "cols_to_remove = [\n",
        "    \"BGGId\",\n",
        "    \"Description\",\n",
        "    \"GameWeight\",\n",
        "    \"ComAgeRec\",\n",
        "    \"LanguageEase\",\n",
        "    \"GoodPlayers\",\n",
        "    \"MinPlayers\",\n",
        "    \"MaxPlayers\",\n",
        "    \"NumWant\",\n",
        "    \"NumWish\",\n",
        "    \"NumWeightVotes\",\n",
        "    \"MfgAgeRec\",\n",
        "    \"ComMinPlaytime\",\n",
        "    \"ComMaxPlaytime\",\n",
        "    \"NumComments\",\n",
        "    \"NumAlternates\",\n",
        "    \"NumExpansions\",\n",
        "    \"NumImplementations\",\n",
        "    \"IsReimplementation\",\n",
        "    \"Kickstarted\",\n",
        "    \"ImagePath\",\n",
        "    \"Family\"\n",
        "]\n",
        "\n",
        "ranks_to_remove = [col for col in df.columns if col.startswith('Rank:') and col != 'Rank:boardgame']\n",
        "\n",
        "cols_to_remove += ranks_to_remove\n",
        "\n",
        "df.drop(cols_to_remove, axis=1, inplace=True)"
      ],
      "metadata": {
        "id": "ky1_f4GVbvRW"
      },
      "execution_count": 4,
      "outputs": []
    },
    {
      "cell_type": "markdown",
      "source": [
        "# Zadanie: Analiza eksploracyjna + test statystyczny\n",
        "Wybrany zbiór danych znaleźć można na platformie kaggle pod adresem:\n",
        "https://www.kaggle.com/datasets/threnjen/board-games-database-from-boardgamegeek?select=ratings_distribution.csv\n",
        "\n",
        "Został on utworzony przy wykorzystaniu danych pochodzących z BoardGameGeek - serwisu poświęconego grom planszowym. \n",
        "\n",
        "Do analizy wybrałem plik games.csv, stanowiący część datasetu. Zawiera on informacje dotyczące między innymi nazwy, roku wydania, kategorii, liczby graczy, czasu gry, a także popularności i pozycji w rankingu ustalonej na podstawie ocen użytkwników serwisu.\n",
        "\n",
        "W dalszej części zadania postaram się odpowiedzieć na kilka pytań:\n",
        "* Czy popularność gier planszowych rośnie czy maleje - czy dawniej wydawano mniej czy więcej gier niż obecnie?\n",
        "* Jaka kategoria gier jest produkowana najczęściej? \n",
        "* Jaka jest optymalna liczba graczy?\n",
        "* Jak wygląda rozkład ocen dla poszczególnych kategorii?\n",
        "* Czy istnieje korelacja między parametrami gier?\n",
        "\n",
        "A także postawić 2 hipotezy dotyczące obserwacji wykresów utworzonych w pierwszej części zadania."
      ],
      "metadata": {
        "id": "_weJYSYniRYI"
      }
    },
    {
      "cell_type": "code",
      "source": [
        "# Dataset size\n",
        "df.shape"
      ],
      "metadata": {
        "colab": {
          "base_uri": "https://localhost:8080/"
        },
        "id": "sbGnDfY7tYIh",
        "outputId": "e17b1a89-40c9-42ff-8b38-3141a15b9054"
      },
      "execution_count": 5,
      "outputs": [
        {
          "output_type": "execute_result",
          "data": {
            "text/plain": [
              "(21925, 18)"
            ]
          },
          "metadata": {},
          "execution_count": 5
        }
      ]
    },
    {
      "cell_type": "code",
      "source": [
        "# Example row\n",
        "print_columns(df, 4)"
      ],
      "metadata": {
        "colab": {
          "base_uri": "https://localhost:8080/"
        },
        "id": "87NndpactmyR",
        "outputId": "6111b29f-6137-4235-a6c0-045b515050ba"
      },
      "execution_count": 6,
      "outputs": [
        {
          "output_type": "stream",
          "name": "stdout",
          "text": [
            "Name: Acquire\n",
            "YearPublished: 1964\n",
            "AvgRating: 7.33861\n",
            "BayesAvgRating: 7.14189\n",
            "StdDev: 1.33583\n",
            "BestPlayers: 4\n",
            "NumOwned: 23735\n",
            "MfgPlaytime: 90\n",
            "NumUserRatings: 18655\n",
            "Rank:boardgame: 290\n",
            "Cat:Thematic: 0\n",
            "Cat:Strategy: 1\n",
            "Cat:War: 0\n",
            "Cat:Family: 0\n",
            "Cat:CGS: 0\n",
            "Cat:Abstract: 0\n",
            "Cat:Party: 0\n",
            "Cat:Childrens: 0\n"
          ]
        }
      ]
    },
    {
      "cell_type": "markdown",
      "source": [
        "## Analiza eksploracyjna\n"
      ],
      "metadata": {
        "id": "BI9qXDqSg0ap"
      }
    },
    {
      "cell_type": "markdown",
      "source": [
        "Jako że podstawowa funkcja describe() w pandas pomija część statystyk opisowych zdecydowałem się na utworzenie własnej funkcji"
      ],
      "metadata": {
        "id": "iOhEJylvHCuI"
      }
    },
    {
      "cell_type": "code",
      "source": [
        "def get_descriptive_stats(df_column):\n",
        "  print(f\"Podstawowe:\\n{df_column.describe()}\\n\")\n",
        "  print(f\"Wartości unikatowych: {df_column.nunique()}\")\n",
        "  print(f\"Skośność: {df_column.skew()}\")\n",
        "  print(f\"Kurtoza: {df_column.kurtosis()}\")\n",
        "  print(f\"Rozstęp: {df_column.max() - df_column.min()}\")"
      ],
      "metadata": {
        "id": "QPnz6AYVEpDK"
      },
      "execution_count": 7,
      "outputs": []
    },
    {
      "cell_type": "markdown",
      "source": [
        "### 1. Produkcja gier planszowych na przestrzeni lat"
      ],
      "metadata": {
        "id": "KpT3fFhGtIlz"
      }
    },
    {
      "cell_type": "markdown",
      "source": [
        "Mimo że dane zebrane zostały zebrane w latach 3500 p.n.e. do 2021, zdecydowałem się ograniczyć do lat 1976 do 2021, jako że gry wyprodukowane w tych latach stanowią 95% zbioru. Umożliwi to ograniczenie rozmiaru przedziałów i utworzenie bardziej czytelnych wykresów."
      ],
      "metadata": {
        "id": "kFJ8dLENAbN1"
      }
    },
    {
      "cell_type": "code",
      "source": [
        "print(df['YearPublished'].quantile([0.05, 0.25, 0.5, 0.75, 0.95]))"
      ],
      "metadata": {
        "colab": {
          "base_uri": "https://localhost:8080/"
        },
        "id": "FWYs6lOh_lEg",
        "outputId": "c63aeb67-fc26-401f-8243-2cf7b442bac6"
      },
      "execution_count": 8,
      "outputs": [
        {
          "output_type": "stream",
          "name": "stdout",
          "text": [
            "0.05    1976.0\n",
            "0.25    2001.0\n",
            "0.50    2011.0\n",
            "0.75    2017.0\n",
            "0.95    2020.0\n",
            "Name: YearPublished, dtype: float64\n"
          ]
        }
      ]
    },
    {
      "cell_type": "code",
      "source": [
        "print(f\"Najmłodsza: {df['YearPublished'].max()}\", f\"Najstarsza {df['YearPublished'].min()}\") "
      ],
      "metadata": {
        "colab": {
          "base_uri": "https://localhost:8080/"
        },
        "id": "RdnsBk7Lxkp2",
        "outputId": "7db376bd-f10f-4477-afcb-98318e421f0e"
      },
      "execution_count": 9,
      "outputs": [
        {
          "output_type": "stream",
          "name": "stdout",
          "text": [
            "Najmłodsza: 2021 Najstarsza -3500\n"
          ]
        }
      ]
    },
    {
      "cell_type": "markdown",
      "source": [
        "Wartości statystyk"
      ],
      "metadata": {
        "id": "IWv7Wi2rZ9hJ"
      }
    },
    {
      "cell_type": "code",
      "source": [
        "df_years = df['YearPublished'].where(df['YearPublished'] >= 1976).dropna(axis=0).astype(int)\n",
        "get_descriptive_stats(df_years)"
      ],
      "metadata": {
        "colab": {
          "base_uri": "https://localhost:8080/"
        },
        "id": "B6WEhhU9-pHP",
        "outputId": "92217e2e-0403-43aa-94c0-9fc56e3e0c0d"
      },
      "execution_count": 10,
      "outputs": [
        {
          "output_type": "stream",
          "name": "stdout",
          "text": [
            "Podstawowe:\n",
            "count    20853.000000\n",
            "mean      2008.578334\n",
            "std         10.795536\n",
            "min       1976.000000\n",
            "25%       2004.000000\n",
            "50%       2012.000000\n",
            "75%       2017.000000\n",
            "max       2021.000000\n",
            "Name: YearPublished, dtype: float64\n",
            "\n",
            "Wartości unikatowych: 46\n",
            "Skośność: -1.1702616790518785\n",
            "Kurtoza: 0.6129803828140905\n",
            "Rozstęp: 45\n"
          ]
        }
      ]
    },
    {
      "cell_type": "code",
      "source": [
        "import matplotlib.pyplot as plt\n",
        "\n",
        "grouped = df_years.groupby(df_years)\n",
        "\n",
        "group_counts = grouped.size()\n",
        "\n",
        "plt.subplots(figsize=(10, 8))\n",
        "group_counts.plot(kind='bar')\n",
        "plt.xlabel('Year')\n",
        "plt.ylabel('Count')\n",
        "plt.title('Board game production')\n",
        "\n",
        "plt.show()"
      ],
      "metadata": {
        "colab": {
          "base_uri": "https://localhost:8080/",
          "height": 738
        },
        "id": "dxEKMF0CJwvk",
        "outputId": "66990d50-ebb4-46f0-f491-10462287e87f"
      },
      "execution_count": 11,
      "outputs": [
        {
          "output_type": "display_data",
          "data": {
            "text/plain": [
              "<Figure size 1000x800 with 1 Axes>"
            ],
            "image/png": "[encoded data removed]"
          },
          "metadata": {}
        }
      ]
    },
    {
      "cell_type": "markdown",
      "source": [
        "Jak widać na serwisie BGG z biegiem lat pojawiało się coraz więcej nowych gier. Spadek nastąpił koło roku 2020. Możliwe, że miał on związek z trudną sytuacją ekonomiczną będącą konsekwencją pandemii."
      ],
      "metadata": {
        "id": "boBKIvZQWTsS"
      }
    },
    {
      "cell_type": "markdown",
      "source": [
        "### 2. Popularność gier należących do konkretnych kategorii"
      ],
      "metadata": {
        "id": "q0ugRdJmSs5y"
      }
    },
    {
      "cell_type": "code",
      "source": [
        "categories = [col[col.find(\":\") + 1:] for col in df.columns if col.startswith('Cat:')]\n",
        "values = [df[f\"Cat:{v}\"].sum() for v in categories]\n",
        "\n",
        "plt.subplots(figsize=(10, 8))\n",
        "plt.bar(categories, values)\n",
        "plt.xlabel('Type')\n",
        "plt.ylabel('Count')\n",
        "plt.title('Most popular types of board games')\n",
        "\n",
        "plt.show()"
      ],
      "metadata": {
        "colab": {
          "base_uri": "https://localhost:8080/",
          "height": 716
        },
        "id": "S4uQP_b4S2sY",
        "outputId": "bfeedf3a-5081-4219-f27d-34a49fb6062d"
      },
      "execution_count": 12,
      "outputs": [
        {
          "output_type": "display_data",
          "data": {
            "text/plain": [
              "<Figure size 1000x800 with 1 Axes>"
            ],
            "image/png": "[encoded data removed]"
          },
          "metadata": {}
        }
      ]
    },
    {
      "cell_type": "markdown",
      "source": [
        "Najliczniej reprezentowane gatunki stanowią gry wojenne, strategiczne i familijne. W kolejnym kroku postaram się sprawdzić, czy gatunki te należą również do najlepiej ocenianych."
      ],
      "metadata": {
        "id": "nWql-m4iX0ei"
      }
    },
    {
      "cell_type": "markdown",
      "source": [
        "### 3. Optymalna liczba graczy"
      ],
      "metadata": {
        "id": "s_JQZ2tYWh5N"
      }
    },
    {
      "cell_type": "code",
      "source": [
        "bp_zero = df.groupby('BestPlayers').size().values[0]\n",
        "bp_zero"
      ],
      "metadata": {
        "colab": {
          "base_uri": "https://localhost:8080/"
        },
        "id": "iTYW5_GDaQOa",
        "outputId": "72441da0-dd53-4020-97ab-55be38f7326a"
      },
      "execution_count": 13,
      "outputs": [
        {
          "output_type": "execute_result",
          "data": {
            "text/plain": [
              "19944"
            ]
          },
          "metadata": {},
          "execution_count": 13
        }
      ]
    },
    {
      "cell_type": "code",
      "source": [
        "df_bp = df[df['BestPlayers'] != 0]"
      ],
      "metadata": {
        "id": "qS2TRwNYbRNW"
      },
      "execution_count": 14,
      "outputs": []
    },
    {
      "cell_type": "markdown",
      "source": [
        "Wiele gier w zbiorze danych nie posiada własnościwości BestPlayers (jest równa 0), uznałem również, że próba estymowania wartości jest bezcelowa, bo braki występują dla ponad 90% gier. Skupię się więc na próbce gier, dla ktorych liczba ta została podana"
      ],
      "metadata": {
        "id": "O_TPbdw4agDd"
      }
    },
    {
      "cell_type": "code",
      "source": [
        "counts = df_bp.groupby('BestPlayers').size()\n",
        "\n",
        "# plot the counts as a bar chart\n",
        "plt.figure(figsize=(12, 10))\n",
        "plt.bar(counts.index, counts.values)\n",
        "\n",
        "# add x and y axis labels and a title\n",
        "plt.xlabel('Optymalna liczba graczy')\n",
        "plt.ylabel('Liczba gier')\n",
        "plt.title('Liczba graczy')\n",
        "\n",
        "# show the plot\n",
        "plt.show()"
      ],
      "metadata": {
        "colab": {
          "base_uri": "https://localhost:8080/",
          "height": 745
        },
        "id": "oMoQCk2dZiO-",
        "outputId": "eb9eeca2-30e5-42fa-9ed8-0525aab17e7d"
      },
      "execution_count": 15,
      "outputs": [
        {
          "output_type": "display_data",
          "data": {
            "text/plain": [
              "<Figure size 1200x1000 with 1 Axes>"
            ],
            "image/png": "[encoded data removed]"
          },
          "metadata": {}
        }
      ]
    },
    {
      "cell_type": "code",
      "source": [
        "get_descriptive_stats(df_bp['BestPlayers'])"
      ],
      "metadata": {
        "colab": {
          "base_uri": "https://localhost:8080/"
        },
        "id": "G8TDwmwibmVC",
        "outputId": "e5c7dbfb-52aa-426f-cf62-a6a989950e4a"
      },
      "execution_count": 16,
      "outputs": [
        {
          "output_type": "stream",
          "name": "stdout",
          "text": [
            "Podstawowe:\n",
            "count    1981.000000\n",
            "mean        3.447754\n",
            "std         1.337086\n",
            "min         1.000000\n",
            "25%         2.000000\n",
            "50%         4.000000\n",
            "75%         4.000000\n",
            "max        15.000000\n",
            "Name: BestPlayers, dtype: float64\n",
            "\n",
            "Wartości unikatowych: 13\n",
            "Skośność: 1.1848326058119778\n",
            "Kurtoza: 6.745632800605776\n",
            "Rozstęp: 14\n"
          ]
        }
      ]
    },
    {
      "cell_type": "markdown",
      "source": [
        "Tak jak przypuszczałem optymalana liczba graczy wynosi 4 osoby, często występuje również wartość 2, jako że wiele gier jest przeznaczona dla dokładnie dwuch osób"
      ],
      "metadata": {
        "id": "XfL6n0-pco43"
      }
    },
    {
      "cell_type": "markdown",
      "source": [
        "### 4. Najlepiej oceniane gry - szeregi rozdzielcze\n",
        "Podczas obliczeń zamierzam wykorzystać BayesAvgRating, które jest estymacją mediany ocen danej gry planszowej - parametr ten potraktuję jako jej indywidualną ocenę w skali od 1 do 10. Typ razem wylosuję z populacji próbki po 100 gier z każdej kategorii w celu sporządzenia szeregu. Próbki wybrałem jedynie z gier należących do dokładnie jednej kategorii."
      ],
      "metadata": {
        "id": "Q8TOixoSboyD"
      }
    },
    {
      "cell_type": "markdown",
      "source": [
        "Uporządkowanie danych w celu wylosowania próbek"
      ],
      "metadata": {
        "id": "vS-czza2rhpN"
      }
    },
    {
      "cell_type": "code",
      "source": [
        "columns_to_check = [col for col in df.columns if col.startswith('Cat:')]\n",
        "cats_named = df[columns_to_check].apply(lambda row: '' if row.sum() > 1 else row[row == 1].index[0].split(':')[1] if 1 in row.values else '', axis=1)"
      ],
      "metadata": {
        "id": "UBzNksbEkIJu"
      },
      "execution_count": 17,
      "outputs": []
    },
    {
      "cell_type": "code",
      "source": [
        "cats_df = pd.concat([cats_named, df['BayesAvgRating']], axis=1)\n",
        "cats_df = cats_df.rename(columns={cats_df.columns[0]: 'Category'})\n",
        "cats_df = cats_df[cats_df[\"Category\"] != '']"
      ],
      "metadata": {
        "id": "npN-EmBxqVge"
      },
      "execution_count": 18,
      "outputs": []
    },
    {
      "cell_type": "code",
      "source": [
        "print(cats_df.head())"
      ],
      "metadata": {
        "colab": {
          "base_uri": "https://localhost:8080/"
        },
        "id": "Pdxsz9r1pgYH",
        "outputId": "2a4f54e5-475b-4c8b-c830-8cbe8bffefa6"
      },
      "execution_count": 19,
      "outputs": [
        {
          "output_type": "stream",
          "name": "stdout",
          "text": [
            "   Category  BayesAvgRating\n",
            "0  Strategy         7.10363\n",
            "1  Strategy         5.78447\n",
            "2  Strategy         7.23994\n",
            "4  Strategy         7.14189\n",
            "6  Abstract         6.13713\n"
          ]
        }
      ]
    },
    {
      "cell_type": "markdown",
      "source": [
        "Utorzenie słownika zawierającego próbki 100 elementów dla każdej kategorii "
      ],
      "metadata": {
        "id": "Xh1IpAXJt4yJ"
      }
    },
    {
      "cell_type": "code",
      "source": [
        "cats_df[\"Category\"].unique()"
      ],
      "metadata": {
        "colab": {
          "base_uri": "https://localhost:8080/"
        },
        "id": "DR5mI3f8ywwP",
        "outputId": "d32ec624-63f4-4bd1-ca7b-2a1a3cbeeea2"
      },
      "execution_count": 20,
      "outputs": [
        {
          "output_type": "execute_result",
          "data": {
            "text/plain": [
              "array(['Strategy', 'Abstract', 'Family', 'CGS', 'Thematic', 'War',\n",
              "       'Party', 'Childrens'], dtype=object)"
            ]
          },
          "metadata": {},
          "execution_count": 20
        }
      ]
    },
    {
      "cell_type": "code",
      "source": [
        "mn, mx = 10, 0\n",
        "samples = dict()\n",
        "for name in cats_df[\"Category\"].unique():\n",
        "  samples[name] = list(cats_df.loc[cats_df['Category'] == name, 'BayesAvgRating'].sample(n=100))\n",
        "  mn = min(mn, min(samples[name]))\n",
        "  mx = max(mx, max(samples[name]))"
      ],
      "metadata": {
        "id": "hWZ3HGWlwba9"
      },
      "execution_count": 21,
      "outputs": []
    },
    {
      "cell_type": "code",
      "source": [
        "samples_df = pd.DataFrame(samples) # Visualization\n",
        "samples_df"
      ],
      "metadata": {
        "colab": {
          "base_uri": "https://localhost:8080/",
          "height": 423
        },
        "id": "D2fRW_bjyub3",
        "outputId": "216f80ba-a996-409a-d666-1fae4ed437d5"
      },
      "execution_count": 22,
      "outputs": [
        {
          "output_type": "execute_result",
          "data": {
            "text/plain": [
              "    Strategy  Abstract   Family      CGS  Thematic      War    Party  \\\n",
              "0    5.70766   6.38633  5.52138  5.51275   6.17157  5.54447  7.13481   \n",
              "1    6.34813   5.52160  6.16254  5.89744   5.48962  5.88020  5.54959   \n",
              "2    6.90388   5.48243  5.94443  6.08280   5.66607  5.58723  7.01299   \n",
              "3    7.42125   5.48200  5.75331  5.50211   5.61343  5.53739  5.73378   \n",
              "4    6.83381   5.51044  5.58023  6.08206   5.70834  5.50427  5.48376   \n",
              "..       ...       ...      ...      ...       ...      ...      ...   \n",
              "95   5.86152   5.50875  5.85919  5.46118   5.82617  5.60635  5.48712   \n",
              "96   6.25969   5.54506  5.67456  5.51976   5.59655  5.50043  6.30162   \n",
              "97   5.79212   5.62231  5.74232  5.56769   5.55840  5.54894  5.59546   \n",
              "98   5.81182   5.47876  6.30870  5.86274   6.28813  5.53563  6.19379   \n",
              "99   5.87969   5.48809  5.51635  5.50446   5.76291  5.64503  5.55660   \n",
              "\n",
              "    Childrens  \n",
              "0     5.56075  \n",
              "1     5.49428  \n",
              "2     5.51123  \n",
              "3     5.49970  \n",
              "4     5.45707  \n",
              "..        ...  \n",
              "95    5.48588  \n",
              "96    5.52534  \n",
              "97    5.60834  \n",
              "98    5.51817  \n",
              "99    5.68384  \n",
              "\n",
              "[100 rows x 8 columns]"
            ],
            "text/html": [
              "\n",
              "  <div id=\"df-507f03b0-57b3-480c-93b1-d09ad2231525\">\n",
              "    <div class=\"colab-df-container\">\n",
              "      <div>\n",
              "<style scoped>\n",
              "    .dataframe tbody tr th:only-of-type {\n",
              "        vertical-align: middle;\n",
              "    }\n",
              "\n",
              "    .dataframe tbody tr th {\n",
              "        vertical-align: top;\n",
              "    }\n",
              "\n",
              "    .dataframe thead th {\n",
              "        text-align: right;\n",
              "    }\n",
              "</style>\n",
              "<table border=\"1\" class=\"dataframe\">\n",
              "  <thead>\n",
              "    <tr style=\"text-align: right;\">\n",
              "      <th></th>\n",
              "      <th>Strategy</th>\n",
              "      <th>Abstract</th>\n",
              "      <th>Family</th>\n",
              "      <th>CGS</th>\n",
              "      <th>Thematic</th>\n",
              "      <th>War</th>\n",
              "      <th>Party</th>\n",
              "      <th>Childrens</th>\n",
              "    </tr>\n",
              "  </thead>\n",
              "  <tbody>\n",
              "    <tr>\n",
              "      <th>0</th>\n",
              "      <td>5.70766</td>\n",
              "      <td>6.38633</td>\n",
              "      <td>5.52138</td>\n",
              "      <td>5.51275</td>\n",
              "      <td>6.17157</td>\n",
              "      <td>5.54447</td>\n",
              "      <td>7.13481</td>\n",
              "      <td>5.56075</td>\n",
              "    </tr>\n",
              "    <tr>\n",
              "      <th>1</th>\n",
              "      <td>6.34813</td>\n",
              "      <td>5.52160</td>\n",
              "      <td>6.16254</td>\n",
              "      <td>5.89744</td>\n",
              "      <td>5.48962</td>\n",
              "      <td>5.88020</td>\n",
              "      <td>5.54959</td>\n",
              "      <td>5.49428</td>\n",
              "    </tr>\n",
              "    <tr>\n",
              "      <th>2</th>\n",
              "      <td>6.90388</td>\n",
              "      <td>5.48243</td>\n",
              "      <td>5.94443</td>\n",
              "      <td>6.08280</td>\n",
              "      <td>5.66607</td>\n",
              "      <td>5.58723</td>\n",
              "      <td>7.01299</td>\n",
              "      <td>5.51123</td>\n",
              "    </tr>\n",
              "    <tr>\n",
              "      <th>3</th>\n",
              "      <td>7.42125</td>\n",
              "      <td>5.48200</td>\n",
              "      <td>5.75331</td>\n",
              "      <td>5.50211</td>\n",
              "      <td>5.61343</td>\n",
              "      <td>5.53739</td>\n",
              "      <td>5.73378</td>\n",
              "      <td>5.49970</td>\n",
              "    </tr>\n",
              "    <tr>\n",
              "      <th>4</th>\n",
              "      <td>6.83381</td>\n",
              "      <td>5.51044</td>\n",
              "      <td>5.58023</td>\n",
              "      <td>6.08206</td>\n",
              "      <td>5.70834</td>\n",
              "      <td>5.50427</td>\n",
              "      <td>5.48376</td>\n",
              "      <td>5.45707</td>\n",
              "    </tr>\n",
              "    <tr>\n",
              "      <th>...</th>\n",
              "      <td>...</td>\n",
              "      <td>...</td>\n",
              "      <td>...</td>\n",
              "      <td>...</td>\n",
              "      <td>...</td>\n",
              "      <td>...</td>\n",
              "      <td>...</td>\n",
              "      <td>...</td>\n",
              "    </tr>\n",
              "    <tr>\n",
              "      <th>95</th>\n",
              "      <td>5.86152</td>\n",
              "      <td>5.50875</td>\n",
              "      <td>5.85919</td>\n",
              "      <td>5.46118</td>\n",
              "      <td>5.82617</td>\n",
              "      <td>5.60635</td>\n",
              "      <td>5.48712</td>\n",
              "      <td>5.48588</td>\n",
              "    </tr>\n",
              "    <tr>\n",
              "      <th>96</th>\n",
              "      <td>6.25969</td>\n",
              "      <td>5.54506</td>\n",
              "      <td>5.67456</td>\n",
              "      <td>5.51976</td>\n",
              "      <td>5.59655</td>\n",
              "      <td>5.50043</td>\n",
              "      <td>6.30162</td>\n",
              "      <td>5.52534</td>\n",
              "    </tr>\n",
              "    <tr>\n",
              "      <th>97</th>\n",
              "      <td>5.79212</td>\n",
              "      <td>5.62231</td>\n",
              "      <td>5.74232</td>\n",
              "      <td>5.56769</td>\n",
              "      <td>5.55840</td>\n",
              "      <td>5.54894</td>\n",
              "      <td>5.59546</td>\n",
              "      <td>5.60834</td>\n",
              "    </tr>\n",
              "    <tr>\n",
              "      <th>98</th>\n",
              "      <td>5.81182</td>\n",
              "      <td>5.47876</td>\n",
              "      <td>6.30870</td>\n",
              "      <td>5.86274</td>\n",
              "      <td>6.28813</td>\n",
              "      <td>5.53563</td>\n",
              "      <td>6.19379</td>\n",
              "      <td>5.51817</td>\n",
              "    </tr>\n",
              "    <tr>\n",
              "      <th>99</th>\n",
              "      <td>5.87969</td>\n",
              "      <td>5.48809</td>\n",
              "      <td>5.51635</td>\n",
              "      <td>5.50446</td>\n",
              "      <td>5.76291</td>\n",
              "      <td>5.64503</td>\n",
              "      <td>5.55660</td>\n",
              "      <td>5.68384</td>\n",
              "    </tr>\n",
              "  </tbody>\n",
              "</table>\n",
              "<p>100 rows × 8 columns</p>\n",
              "</div>\n",
              "      <button class=\"colab-df-convert\" onclick=\"convertToInteractive('df-507f03b0-57b3-480c-93b1-d09ad2231525')\"\n",
              "              title=\"Convert this dataframe to an interactive table.\"\n",
              "              style=\"display:none;\">\n",
              "        \n",
              "  <svg xmlns=\"http://www.w3.org/2000/svg\" height=\"24px\"viewBox=\"0 0 24 24\"\n",
              "       width=\"24px\">\n",
              "    <path d=\"M0 0h24v24H0V0z\" fill=\"none\"/>\n",
              "    <path d=\"M18.56 5.44l.94 2.06.94-2.06 2.06-.94-2.06-.94-.94-2.06-.94 2.06-2.06.94zm-11 1L8.5 8.5l.94-2.06 2.06-.94-2.06-.94L8.5 2.5l-.94 2.06-2.06.94zm10 10l.94 2.06.94-2.06 2.06-.94-2.06-.94-.94-2.06-.94 2.06-2.06.94z\"/><path d=\"M17.41 7.96l-1.37-1.37c-.4-.4-.92-.59-1.43-.59-.52 0-1.04.2-1.43.59L10.3 9.45l-7.72 7.72c-.78.78-.78 2.05 0 2.83L4 21.41c.39.39.9.59 1.41.59.51 0 1.02-.2 1.41-.59l7.78-7.78 2.81-2.81c.8-.78.8-2.07 0-2.86zM5.41 20L4 18.59l7.72-7.72 1.47 1.35L5.41 20z\"/>\n",
              "  </svg>\n",
              "      </button>\n",
              "      \n",
              "  <style>\n",
              "    .colab-df-container {\n",
              "      display:flex;\n",
              "      flex-wrap:wrap;\n",
              "      gap: 12px;\n",
              "    }\n",
              "\n",
              "    .colab-df-convert {\n",
              "      background-color: #E8F0FE;\n",
              "      border: none;\n",
              "      border-radius: 50%;\n",
              "      cursor: pointer;\n",
              "      display: none;\n",
              "      fill: #1967D2;\n",
              "      height: 32px;\n",
              "      padding: 0 0 0 0;\n",
              "      width: 32px;\n",
              "    }\n",
              "\n",
              "    .colab-df-convert:hover {\n",
              "      background-color: #E2EBFA;\n",
              "      box-shadow: 0px 1px 2px rgba(60, 64, 67, 0.3), 0px 1px 3px 1px rgba(60, 64, 67, 0.15);\n",
              "      fill: #174EA6;\n",
              "    }\n",
              "\n",
              "    [theme=dark] .colab-df-convert {\n",
              "      background-color: #3B4455;\n",
              "      fill: #D2E3FC;\n",
              "    }\n",
              "\n",
              "    [theme=dark] .colab-df-convert:hover {\n",
              "      background-color: #434B5C;\n",
              "      box-shadow: 0px 1px 3px 1px rgba(0, 0, 0, 0.15);\n",
              "      filter: drop-shadow(0px 1px 2px rgba(0, 0, 0, 0.3));\n",
              "      fill: #FFFFFF;\n",
              "    }\n",
              "  </style>\n",
              "\n",
              "      <script>\n",
              "        const buttonEl =\n",
              "          document.querySelector('#df-507f03b0-57b3-480c-93b1-d09ad2231525 button.colab-df-convert');\n",
              "        buttonEl.style.display =\n",
              "          google.colab.kernel.accessAllowed ? 'block' : 'none';\n",
              "\n",
              "        async function convertToInteractive(key) {\n",
              "          const element = document.querySelector('#df-507f03b0-57b3-480c-93b1-d09ad2231525');\n",
              "          const dataTable =\n",
              "            await google.colab.kernel.invokeFunction('convertToInteractive',\n",
              "                                                     [key], {});\n",
              "          if (!dataTable) return;\n",
              "\n",
              "          const docLinkHtml = 'Like what you see? Visit the ' +\n",
              "            '<a target=\"_blank\" href=https://colab.research.google.com/notebooks/data_table.ipynb>data table notebook</a>'\n",
              "            + ' to learn more about interactive tables.';\n",
              "          element.innerHTML = '';\n",
              "          dataTable['output_type'] = 'display_data';\n",
              "          await google.colab.output.renderOutput(dataTable, element);\n",
              "          const docLink = document.createElement('div');\n",
              "          docLink.innerHTML = docLinkHtml;\n",
              "          element.appendChild(docLink);\n",
              "        }\n",
              "      </script>\n",
              "    </div>\n",
              "  </div>\n",
              "  "
            ]
          },
          "metadata": {},
          "execution_count": 22
        }
      ]
    },
    {
      "cell_type": "markdown",
      "source": [
        "Za liczbę klas w szeregu rozdzielczym przyjąłem pierwiastek z n, czyli w tym przypadku 10."
      ],
      "metadata": {
        "id": "NpfyMJt11l4B"
      }
    },
    {
      "cell_type": "code",
      "source": [
        "import math\n",
        "\n",
        "cn = math.sqrt(len(samples['Strategy']))\n",
        "ln = (mx - mn) / cn\n",
        "\n",
        "print(f\"Rozstęp: {mx - mn}\")\n",
        "print(f\"Min: {mn}\")\n",
        "print(f\"Max: {mx}\")\n",
        "print(f\"Liczba klas: {cn}\")\n",
        "print(f\"Długość przedziału: {ln}\")"
      ],
      "metadata": {
        "colab": {
          "base_uri": "https://localhost:8080/"
        },
        "id": "Z9NB16r42nOZ",
        "outputId": "9b789db5-6438-4e79-e0da-a0345f58a440"
      },
      "execution_count": 23,
      "outputs": [
        {
          "output_type": "stream",
          "name": "stdout",
          "text": [
            "Rozstęp: 3.6188800000000008\n",
            "Min: 4.51131\n",
            "Max: 8.13019\n",
            "Liczba klas: 10.0\n",
            "Długość przedziału: 0.3618880000000001\n"
          ]
        }
      ]
    },
    {
      "cell_type": "markdown",
      "source": [
        "Na potrzeby utworzenia szeregów oraz późniejszego badania hipotez wybrałem dwie kategorie gier do porównania: gry strategiczne - mój ulubiony gatunek gier planszowych oraz gry imprezowe, które w zbiorze pojawiają się zdecydowanie rzadziej. Postaram się zbadać, czy ma to związek z wysokością ocen obu gatunków."
      ],
      "metadata": {
        "id": "uDlsUmet2bLP"
      }
    },
    {
      "cell_type": "code",
      "source": [
        "ranges = [mn + x * ln for x in range(11)]\n",
        "middles = [round((ranges[i] + ranges[i+1]) / 2, 2) for i in range(10)]\n",
        "\n",
        "categories = [f'{round(i, 2)}-{round(i + ln, 2)}' for i in ranges[:-1]]\n",
        "\n",
        "middles"
      ],
      "metadata": {
        "colab": {
          "base_uri": "https://localhost:8080/"
        },
        "id": "rGV5E1C0CGg3",
        "outputId": "df4ec09c-16a7-4604-ac9d-000ca836c81b"
      },
      "execution_count": 24,
      "outputs": [
        {
          "output_type": "execute_result",
          "data": {
            "text/plain": [
              "[4.69, 5.05, 5.42, 5.78, 6.14, 6.5, 6.86, 7.23, 7.59, 7.95]"
            ]
          },
          "metadata": {},
          "execution_count": 24
        }
      ]
    },
    {
      "cell_type": "code",
      "source": [
        "len(ranges), len(categories)"
      ],
      "metadata": {
        "colab": {
          "base_uri": "https://localhost:8080/"
        },
        "id": "949urNobMp9E",
        "outputId": "b1f8430e-4ae8-492d-f433-71cba770f691"
      },
      "execution_count": 25,
      "outputs": [
        {
          "output_type": "execute_result",
          "data": {
            "text/plain": [
              "(11, 10)"
            ]
          },
          "metadata": {},
          "execution_count": 25
        }
      ]
    },
    {
      "cell_type": "code",
      "source": [
        "def create_series(column, ranges = ranges, middles = middles):\n",
        "  comp_df = pd.DataFrame()\n",
        "  comp_df[\"Range\"] = pd.cut(column, bins=ranges, labels=categories)\n",
        "  grouped_df = comp_df.groupby('Range').size().reset_index(name='Count')\n",
        "  grouped_df[\"Middle\"] = middles\n",
        "  return grouped_df"
      ],
      "metadata": {
        "id": "O5Wvu9YHNL6K"
      },
      "execution_count": 63,
      "outputs": []
    },
    {
      "cell_type": "code",
      "source": [
        "strategy_df = create_series(samples_df[\"Strategy\"])"
      ],
      "metadata": {
        "id": "6g2hw4ZeLqsI"
      },
      "execution_count": 74,
      "outputs": []
    },
    {
      "cell_type": "code",
      "source": [
        "strategy_df"
      ],
      "metadata": {
        "colab": {
          "base_uri": "https://localhost:8080/",
          "height": 363
        },
        "id": "vqLO9BiwM0Su",
        "outputId": "69a6cc78-c968-4675-dd38-e1847c7f5410"
      },
      "execution_count": 75,
      "outputs": [
        {
          "output_type": "execute_result",
          "data": {
            "text/plain": [
              "       Range  Count  Middle\n",
              "0  4.51-4.87      0    4.69\n",
              "1  4.87-5.24      0    5.05\n",
              "2   5.24-5.6      9    5.42\n",
              "3   5.6-5.96     35    5.78\n",
              "4  5.96-6.32     20    6.14\n",
              "5  6.32-6.68     14    6.50\n",
              "6  6.68-7.04      9    6.86\n",
              "7  7.04-7.41      6    7.23\n",
              "8  7.41-7.77      6    7.59\n",
              "9  7.77-8.13      1    7.95"
            ],
            "text/html": [
              "\n",
              "  <div id=\"df-71bb9078-a01e-4a66-818b-f0d35e497244\">\n",
              "    <div class=\"colab-df-container\">\n",
              "      <div>\n",
              "<style scoped>\n",
              "    .dataframe tbody tr th:only-of-type {\n",
              "        vertical-align: middle;\n",
              "    }\n",
              "\n",
              "    .dataframe tbody tr th {\n",
              "        vertical-align: top;\n",
              "    }\n",
              "\n",
              "    .dataframe thead th {\n",
              "        text-align: right;\n",
              "    }\n",
              "</style>\n",
              "<table border=\"1\" class=\"dataframe\">\n",
              "  <thead>\n",
              "    <tr style=\"text-align: right;\">\n",
              "      <th></th>\n",
              "      <th>Range</th>\n",
              "      <th>Count</th>\n",
              "      <th>Middle</th>\n",
              "    </tr>\n",
              "  </thead>\n",
              "  <tbody>\n",
              "    <tr>\n",
              "      <th>0</th>\n",
              "      <td>4.51-4.87</td>\n",
              "      <td>0</td>\n",
              "      <td>4.69</td>\n",
              "    </tr>\n",
              "    <tr>\n",
              "      <th>1</th>\n",
              "      <td>4.87-5.24</td>\n",
              "      <td>0</td>\n",
              "      <td>5.05</td>\n",
              "    </tr>\n",
              "    <tr>\n",
              "      <th>2</th>\n",
              "      <td>5.24-5.6</td>\n",
              "      <td>9</td>\n",
              "      <td>5.42</td>\n",
              "    </tr>\n",
              "    <tr>\n",
              "      <th>3</th>\n",
              "      <td>5.6-5.96</td>\n",
              "      <td>35</td>\n",
              "      <td>5.78</td>\n",
              "    </tr>\n",
              "    <tr>\n",
              "      <th>4</th>\n",
              "      <td>5.96-6.32</td>\n",
              "      <td>20</td>\n",
              "      <td>6.14</td>\n",
              "    </tr>\n",
              "    <tr>\n",
              "      <th>5</th>\n",
              "      <td>6.32-6.68</td>\n",
              "      <td>14</td>\n",
              "      <td>6.50</td>\n",
              "    </tr>\n",
              "    <tr>\n",
              "      <th>6</th>\n",
              "      <td>6.68-7.04</td>\n",
              "      <td>9</td>\n",
              "      <td>6.86</td>\n",
              "    </tr>\n",
              "    <tr>\n",
              "      <th>7</th>\n",
              "      <td>7.04-7.41</td>\n",
              "      <td>6</td>\n",
              "      <td>7.23</td>\n",
              "    </tr>\n",
              "    <tr>\n",
              "      <th>8</th>\n",
              "      <td>7.41-7.77</td>\n",
              "      <td>6</td>\n",
              "      <td>7.59</td>\n",
              "    </tr>\n",
              "    <tr>\n",
              "      <th>9</th>\n",
              "      <td>7.77-8.13</td>\n",
              "      <td>1</td>\n",
              "      <td>7.95</td>\n",
              "    </tr>\n",
              "  </tbody>\n",
              "</table>\n",
              "</div>\n",
              "      <button class=\"colab-df-convert\" onclick=\"convertToInteractive('df-71bb9078-a01e-4a66-818b-f0d35e497244')\"\n",
              "              title=\"Convert this dataframe to an interactive table.\"\n",
              "              style=\"display:none;\">\n",
              "        \n",
              "  <svg xmlns=\"http://www.w3.org/2000/svg\" height=\"24px\"viewBox=\"0 0 24 24\"\n",
              "       width=\"24px\">\n",
              "    <path d=\"M0 0h24v24H0V0z\" fill=\"none\"/>\n",
              "    <path d=\"M18.56 5.44l.94 2.06.94-2.06 2.06-.94-2.06-.94-.94-2.06-.94 2.06-2.06.94zm-11 1L8.5 8.5l.94-2.06 2.06-.94-2.06-.94L8.5 2.5l-.94 2.06-2.06.94zm10 10l.94 2.06.94-2.06 2.06-.94-2.06-.94-.94-2.06-.94 2.06-2.06.94z\"/><path d=\"M17.41 7.96l-1.37-1.37c-.4-.4-.92-.59-1.43-.59-.52 0-1.04.2-1.43.59L10.3 9.45l-7.72 7.72c-.78.78-.78 2.05 0 2.83L4 21.41c.39.39.9.59 1.41.59.51 0 1.02-.2 1.41-.59l7.78-7.78 2.81-2.81c.8-.78.8-2.07 0-2.86zM5.41 20L4 18.59l7.72-7.72 1.47 1.35L5.41 20z\"/>\n",
              "  </svg>\n",
              "      </button>\n",
              "      \n",
              "  <style>\n",
              "    .colab-df-container {\n",
              "      display:flex;\n",
              "      flex-wrap:wrap;\n",
              "      gap: 12px;\n",
              "    }\n",
              "\n",
              "    .colab-df-convert {\n",
              "      background-color: #E8F0FE;\n",
              "      border: none;\n",
              "      border-radius: 50%;\n",
              "      cursor: pointer;\n",
              "      display: none;\n",
              "      fill: #1967D2;\n",
              "      height: 32px;\n",
              "      padding: 0 0 0 0;\n",
              "      width: 32px;\n",
              "    }\n",
              "\n",
              "    .colab-df-convert:hover {\n",
              "      background-color: #E2EBFA;\n",
              "      box-shadow: 0px 1px 2px rgba(60, 64, 67, 0.3), 0px 1px 3px 1px rgba(60, 64, 67, 0.15);\n",
              "      fill: #174EA6;\n",
              "    }\n",
              "\n",
              "    [theme=dark] .colab-df-convert {\n",
              "      background-color: #3B4455;\n",
              "      fill: #D2E3FC;\n",
              "    }\n",
              "\n",
              "    [theme=dark] .colab-df-convert:hover {\n",
              "      background-color: #434B5C;\n",
              "      box-shadow: 0px 1px 3px 1px rgba(0, 0, 0, 0.15);\n",
              "      filter: drop-shadow(0px 1px 2px rgba(0, 0, 0, 0.3));\n",
              "      fill: #FFFFFF;\n",
              "    }\n",
              "  </style>\n",
              "\n",
              "      <script>\n",
              "        const buttonEl =\n",
              "          document.querySelector('#df-71bb9078-a01e-4a66-818b-f0d35e497244 button.colab-df-convert');\n",
              "        buttonEl.style.display =\n",
              "          google.colab.kernel.accessAllowed ? 'block' : 'none';\n",
              "\n",
              "        async function convertToInteractive(key) {\n",
              "          const element = document.querySelector('#df-71bb9078-a01e-4a66-818b-f0d35e497244');\n",
              "          const dataTable =\n",
              "            await google.colab.kernel.invokeFunction('convertToInteractive',\n",
              "                                                     [key], {});\n",
              "          if (!dataTable) return;\n",
              "\n",
              "          const docLinkHtml = 'Like what you see? Visit the ' +\n",
              "            '<a target=\"_blank\" href=https://colab.research.google.com/notebooks/data_table.ipynb>data table notebook</a>'\n",
              "            + ' to learn more about interactive tables.';\n",
              "          element.innerHTML = '';\n",
              "          dataTable['output_type'] = 'display_data';\n",
              "          await google.colab.output.renderOutput(dataTable, element);\n",
              "          const docLink = document.createElement('div');\n",
              "          docLink.innerHTML = docLinkHtml;\n",
              "          element.appendChild(docLink);\n",
              "        }\n",
              "      </script>\n",
              "    </div>\n",
              "  </div>\n",
              "  "
            ]
          },
          "metadata": {},
          "execution_count": 75
        }
      ]
    },
    {
      "cell_type": "code",
      "source": [
        "# plot the counts as a bar chart\n",
        "plt.figure(figsize=(12, 10))\n",
        "plt.bar(strategy_df[\"Range\"], strategy_df[\"Count\"])\n",
        "\n",
        "# add x and y axis labels and a title\n",
        "plt.xlabel('Rating')\n",
        "plt.ylabel('Count')\n",
        "plt.title('Strategy games (sample)')\n",
        "\n",
        "# show the plot\n",
        "plt.show()"
      ],
      "metadata": {
        "colab": {
          "base_uri": "https://localhost:8080/",
          "height": 753
        },
        "id": "DnoYGoO7Q7zJ",
        "outputId": "59ce5422-4ca5-4667-c3ef-4b59f8695723"
      },
      "execution_count": 68,
      "outputs": [
        {
          "output_type": "display_data",
          "data": {
            "text/plain": [
              "<Figure size 1200x1000 with 1 Axes>"
            ],
            "image/png": "[encoded data removed]"
          },
          "metadata": {}
        }
      ]
    },
    {
      "cell_type": "code",
      "source": [
        "party_df = create_series(samples_df[\"Party\"])"
      ],
      "metadata": {
        "id": "yxJKly49VEPE"
      },
      "execution_count": 69,
      "outputs": []
    },
    {
      "cell_type": "code",
      "source": [
        "# plot the counts as a bar chart\n",
        "plt.figure(figsize=(12, 10))\n",
        "plt.bar(party_df[\"Range\"], party_df[\"Count\"])\n",
        "\n",
        "# add x and y axis labels and a title\n",
        "plt.xlabel('Rating')\n",
        "plt.ylabel('Count')\n",
        "plt.title('Party games (sample)')\n",
        "\n",
        "# show the plot\n",
        "plt.show()"
      ],
      "metadata": {
        "colab": {
          "base_uri": "https://localhost:8080/",
          "height": 753
        },
        "id": "-nCByCeXVNUt",
        "outputId": "f5839ef9-933e-496f-e172-75b64222896b"
      },
      "execution_count": 70,
      "outputs": [
        {
          "output_type": "display_data",
          "data": {
            "text/plain": [
              "<Figure size 1200x1000 with 1 Axes>"
            ],
            "image/png": "[encoded data removed]"
          },
          "metadata": {}
        }
      ]
    },
    {
      "cell_type": "code",
      "source": [
        "import numpy as np\n",
        "\n",
        "\n",
        "def get_array_desc(df, ln = ln):\n",
        "  avg = (df['Count'].astype(np.float16) * df['Middle'].astype(np.float16)).sum() / df['Count'].astype(np.float16).sum()\n",
        "  var = (pow(df['Middle'].astype(np.float16) - avg, 2) * df['Count'].astype(np.float16)).sum() / df['Count'].astype(np.float16).sum()\n",
        "  std = round(math.sqrt(var), 4)\n",
        "  \n",
        "  ind = df[df[\"Count\"].cumsum() > (df[\"Count\"].sum() + 1) / 2].index[0]\n",
        "  x0 = (df.loc[ind][\"Middle\"] + df.loc[max(ind - 1, 0)][\"Middle\"]) / 2\n",
        "  nj = df.loc[ind][\"Count\"]\n",
        "  cum_nj = df[\"Count\"].cumsum().iloc[max(ind - 1, 0)]\n",
        "  n2 = df['Count'].astype(np.int8).sum() / 2\n",
        "\n",
        "  median = x0 + (ln * (n2 - cum_nj)) / nj\n",
        "\n",
        "  print(f\"Średnia: {avg}\")\n",
        "  print(f\"Mediana: {median}\")\n",
        "  print(f\"Wariancja: {var}\")\n",
        "  print(f\"Odchylenie standardowe: {std}\")"
      ],
      "metadata": {
        "id": "zZla_l6Rf1vh"
      },
      "execution_count": 76,
      "outputs": []
    },
    {
      "cell_type": "markdown",
      "source": [
        "Przygotowałem również funkcję służącą do obliczenia statystyk opisowych dla szeregów"
      ],
      "metadata": {
        "id": "O80391A020NK"
      }
    },
    {
      "cell_type": "code",
      "source": [
        "print(\"Gry strategiczne\")\n",
        "get_array_desc(strategy_df)\n",
        "print(\"\\nGry imprezowe\")\n",
        "get_array_desc(party_df)"
      ],
      "metadata": {
        "colab": {
          "base_uri": "https://localhost:8080/"
        },
        "id": "WhZLK4J127HZ",
        "outputId": "8455a7e8-911a-4ec5-8dec-941893dc45cd"
      },
      "execution_count": 77,
      "outputs": [
        {
          "output_type": "stream",
          "name": "stdout",
          "text": [
            "Gry strategiczne\n",
            "Średnia: 6.234375\n",
            "Mediana: 6.0685664\n",
            "Wariancja: 0.377197265625\n",
            "Odchylenie standardowe: 0.6142\n",
            "\n",
            "Gry imprezowe\n",
            "Średnia: 5.80859375\n",
            "Mediana: 5.7484668717948715\n",
            "Wariancja: 0.2308349609375\n",
            "Odchylenie standardowe: 0.4805\n"
          ]
        }
      ]
    },
    {
      "cell_type": "markdown",
      "source": [
        "Wydaje się, że użytkownicy BGG preferują gry strategiczne, niż imprezowe. Prawdziwość tej hipotezy postaram się zbadać w dalszej części zadania."
      ],
      "metadata": {
        "id": "DyrqQ1vb_6V4"
      }
    },
    {
      "cell_type": "markdown",
      "source": [
        "### 4. Korelacja"
      ],
      "metadata": {
        "id": "heMSAQ9L3QJt"
      }
    },
    {
      "cell_type": "code",
      "source": [
        "import seaborn as sns\n",
        "\n",
        "df_cp = df.drop([\"StdDev\", \"BestPlayers\"], axis=1)\n",
        "\n",
        "corr = df_cp.corr()\n",
        "\n",
        "sns.set_theme(style=\"white\")\n",
        "fig, ax = plt.subplots(figsize=(12, 10))\n",
        "mask = np.triu(np.ones_like(corr, dtype=bool))\n",
        "cmap = sns.color_palette(\"Blues_r\", as_cmap=True)\n",
        "\n",
        "sns.heatmap(corr, mask=mask, cmap = cmap, vmax=.5, linewidths=1, center=0, square=True, cbar_kws={\"shrink\": .5})"
      ],
      "metadata": {
        "colab": {
          "base_uri": "https://localhost:8080/",
          "height": 849
        },
        "id": "wq_Hd0SS5QRD",
        "outputId": "498f6885-14d5-4521-ac51-9fd5ced7998e"
      },
      "execution_count": 78,
      "outputs": [
        {
          "output_type": "stream",
          "name": "stderr",
          "text": [
            "<ipython-input-78-be2ea55652de>:5: FutureWarning: The default value of numeric_only in DataFrame.corr is deprecated. In a future version, it will default to False. Select only valid columns or specify the value of numeric_only to silence this warning.\n",
            "  corr = df_cp.corr()\n"
          ]
        },
        {
          "output_type": "execute_result",
          "data": {
            "text/plain": [
              "<Axes: >"
            ]
          },
          "metadata": {},
          "execution_count": 78
        },
        {
          "output_type": "display_data",
          "data": {
            "text/plain": [
              "<Figure size 1200x1000 with 2 Axes>"
            ],
            "image/png": "[encoded data removed]"
          },
          "metadata": {}
        }
      ]
    },
    {
      "cell_type": "markdown",
      "source": [
        "Między niektórymi parametrami występuje umiarkowana korelacja. Dodatnia korelacja dotyczy przede wszystkim:\n",
        "* Średniej oraz estymacji mediany\n",
        "* Liczby ocen i liczbą posiadaczy gry\n",
        "\n",
        "Z kolei ujemna korelacja pojawia się między:\n",
        "* Pozycją w rankingu a oceną\n",
        "* W delikatnym stopniu liczbą posiadaczy a pozycją oraz liczbą ocen a pozycją\n",
        "\n",
        "Dodatkowo na grafie widoczna jest delikatna przewaga gier strategicznych dotycząca wysokości ocen, zauważalna również na wykresach kolumnowych w poprzednim punkcie\n",
        "\n",
        "Podsumowując: analiza wartości korelacji między parametrami nie dostarczyła mi nowych informacji na temat zbioru danych.\n"
      ],
      "metadata": {
        "id": "RXzsjbeE9uAL"
      }
    },
    {
      "cell_type": "markdown",
      "source": [
        "## Przykładowe testy statystyczne"
      ],
      "metadata": {
        "id": "ZbayPS4XAja5"
      }
    },
    {
      "cell_type": "markdown",
      "source": [
        "### Hipoteza numer 1 - rozkład ocen losowo wybranej próbki z populcji jest taki sam jak rozkład wartości w całej populacji\n",
        "Jako że posiadam wiedzę dotyczącą całej populacji mogę łatwo sprawdzić, czy rozkład ocen próbki 100 gier strategicznych nie odbiega od rozkładu ocen dla całej populacji gier strategicznych. Tym razem podzielę wartości punktacji na przedziały rozmiaru 1, jako że przedziały utworzone w podpunkcie dotyczącym szeregu nie obejmują wszystkich możliwych punktacji dla gier strategicznych."
      ],
      "metadata": {
        "id": "U3UP9Zvmlt5i"
      }
    },
    {
      "cell_type": "code",
      "source": [
        "ranges = range(0, 11)\n",
        "categories = [f'{i}-{i + 1}' for i in ranges[:-1]]"
      ],
      "metadata": {
        "colab": {
          "base_uri": "https://localhost:8080/"
        },
        "id": "ha4jo_samTYJ",
        "outputId": "eee35b63-4f62-4a92-964a-674bd358332f"
      },
      "execution_count": 101,
      "outputs": [
        {
          "output_type": "stream",
          "name": "stdout",
          "text": [
            "range(0, 11) ['0-1', '1-2', '2-3', '3-4', '4-5', '5-6', '6-7', '7-8', '8-9', '9-10']\n"
          ]
        }
      ]
    },
    {
      "cell_type": "code",
      "source": [
        "full_pop_str = df[df[\"Cat:Strategy\"] == 1][\"BayesAvgRating\"]\n",
        "\n",
        "pop_distr = pd.DataFrame()\n",
        "pop_distr[\"Range\"] = pd.cut(full_pop_str, bins=ranges, labels=categories)\n",
        "pop_distr = pop_distr.groupby('Range').size().reset_index(name='Count')\n",
        "\n",
        "sample_distr = pd.DataFrame()\n",
        "sample_distr[\"Range\"] = pd.cut(samples[\"Strategy\"], bins=ranges, labels=categories)\n",
        "sample_distr = sample_distr.groupby('Range').size().reset_index(name='Count')"
      ],
      "metadata": {
        "id": "jcU2_ylG0fio"
      },
      "execution_count": 104,
      "outputs": []
    },
    {
      "cell_type": "code",
      "source": [
        "pop_distr, sample_distr"
      ],
      "metadata": {
        "colab": {
          "base_uri": "https://localhost:8080/"
        },
        "id": "lwFYUFSr1QB1",
        "outputId": "01dad96e-0fc2-4c29-e825-a67cec57d11e"
      },
      "execution_count": 107,
      "outputs": [
        {
          "output_type": "execute_result",
          "data": {
            "text/plain": [
              "(  Range  Count\n",
              " 0   0-1      0\n",
              " 1   1-2      0\n",
              " 2   2-3      0\n",
              " 3   3-4      0\n",
              " 4   4-5      0\n",
              " 5   5-6   1164\n",
              " 6   6-7    900\n",
              " 7   7-8    242\n",
              " 8   8-9     13\n",
              " 9  9-10      0,\n",
              "   Range  Count\n",
              " 0   0-1      0\n",
              " 1   1-2      0\n",
              " 2   2-3      0\n",
              " 3   3-4      0\n",
              " 4   4-5      0\n",
              " 5   5-6     45\n",
              " 6   6-7     42\n",
              " 7   7-8     12\n",
              " 8   8-9      1\n",
              " 9  9-10      0)"
            ]
          },
          "metadata": {},
          "execution_count": 107
        }
      ]
    },
    {
      "cell_type": "code",
      "source": [
        "data = pd.DataFrame()\n",
        "data[\"Range\"] = pop_distr[\"Range\"]\n",
        "data[\"Prob_dist\"] = (pop_distr[\"Count\"] / pop_distr[\"Count\"].sum()).astype(np.float16)\n",
        "data[\"Observed_freq\"] = sample_distr[\"Count\"].astype(np.float16)\n",
        "data['Expected_freq'] = (data['Observed_freq'].sum() * data['Prob_dist']).astype(np.float16)\n",
        "data = data[(data['Expected_freq'] != 0) & (data['Observed_freq'] != 0)] # Usunąłem wiersze o wartości 0, ponieważ generowały błędy w dalszej części kodu\n",
        "data"
      ],
      "metadata": {
        "colab": {
          "base_uri": "https://localhost:8080/",
          "height": 174
        },
        "id": "Oxhv3u511u30",
        "outputId": "f1a14c44-5da8-4867-8057-aab7228252ef"
      },
      "execution_count": 131,
      "outputs": [
        {
          "output_type": "execute_result",
          "data": {
            "text/plain": [
              "  Range  Prob_dist  Observed_freq  Expected_freq\n",
              "5   5-6   0.501953           45.0      50.187500\n",
              "6   6-7   0.388184           42.0      38.812500\n",
              "7   7-8   0.104370           12.0      10.437500\n",
              "8   8-9   0.005608            1.0       0.560547"
            ],
            "text/html": [
              "\n",
              "  <div id=\"df-9bacf73d-7732-4c3b-9d1a-1d7522be3ba3\">\n",
              "    <div class=\"colab-df-container\">\n",
              "      <div>\n",
              "<style scoped>\n",
              "    .dataframe tbody tr th:only-of-type {\n",
              "        vertical-align: middle;\n",
              "    }\n",
              "\n",
              "    .dataframe tbody tr th {\n",
              "        vertical-align: top;\n",
              "    }\n",
              "\n",
              "    .dataframe thead th {\n",
              "        text-align: right;\n",
              "    }\n",
              "</style>\n",
              "<table border=\"1\" class=\"dataframe\">\n",
              "  <thead>\n",
              "    <tr style=\"text-align: right;\">\n",
              "      <th></th>\n",
              "      <th>Range</th>\n",
              "      <th>Prob_dist</th>\n",
              "      <th>Observed_freq</th>\n",
              "      <th>Expected_freq</th>\n",
              "    </tr>\n",
              "  </thead>\n",
              "  <tbody>\n",
              "    <tr>\n",
              "      <th>5</th>\n",
              "      <td>5-6</td>\n",
              "      <td>0.501953</td>\n",
              "      <td>45.0</td>\n",
              "      <td>50.187500</td>\n",
              "    </tr>\n",
              "    <tr>\n",
              "      <th>6</th>\n",
              "      <td>6-7</td>\n",
              "      <td>0.388184</td>\n",
              "      <td>42.0</td>\n",
              "      <td>38.812500</td>\n",
              "    </tr>\n",
              "    <tr>\n",
              "      <th>7</th>\n",
              "      <td>7-8</td>\n",
              "      <td>0.104370</td>\n",
              "      <td>12.0</td>\n",
              "      <td>10.437500</td>\n",
              "    </tr>\n",
              "    <tr>\n",
              "      <th>8</th>\n",
              "      <td>8-9</td>\n",
              "      <td>0.005608</td>\n",
              "      <td>1.0</td>\n",
              "      <td>0.560547</td>\n",
              "    </tr>\n",
              "  </tbody>\n",
              "</table>\n",
              "</div>\n",
              "      <button class=\"colab-df-convert\" onclick=\"convertToInteractive('df-9bacf73d-7732-4c3b-9d1a-1d7522be3ba3')\"\n",
              "              title=\"Convert this dataframe to an interactive table.\"\n",
              "              style=\"display:none;\">\n",
              "        \n",
              "  <svg xmlns=\"http://www.w3.org/2000/svg\" height=\"24px\"viewBox=\"0 0 24 24\"\n",
              "       width=\"24px\">\n",
              "    <path d=\"M0 0h24v24H0V0z\" fill=\"none\"/>\n",
              "    <path d=\"M18.56 5.44l.94 2.06.94-2.06 2.06-.94-2.06-.94-.94-2.06-.94 2.06-2.06.94zm-11 1L8.5 8.5l.94-2.06 2.06-.94-2.06-.94L8.5 2.5l-.94 2.06-2.06.94zm10 10l.94 2.06.94-2.06 2.06-.94-2.06-.94-.94-2.06-.94 2.06-2.06.94z\"/><path d=\"M17.41 7.96l-1.37-1.37c-.4-.4-.92-.59-1.43-.59-.52 0-1.04.2-1.43.59L10.3 9.45l-7.72 7.72c-.78.78-.78 2.05 0 2.83L4 21.41c.39.39.9.59 1.41.59.51 0 1.02-.2 1.41-.59l7.78-7.78 2.81-2.81c.8-.78.8-2.07 0-2.86zM5.41 20L4 18.59l7.72-7.72 1.47 1.35L5.41 20z\"/>\n",
              "  </svg>\n",
              "      </button>\n",
              "      \n",
              "  <style>\n",
              "    .colab-df-container {\n",
              "      display:flex;\n",
              "      flex-wrap:wrap;\n",
              "      gap: 12px;\n",
              "    }\n",
              "\n",
              "    .colab-df-convert {\n",
              "      background-color: #E8F0FE;\n",
              "      border: none;\n",
              "      border-radius: 50%;\n",
              "      cursor: pointer;\n",
              "      display: none;\n",
              "      fill: #1967D2;\n",
              "      height: 32px;\n",
              "      padding: 0 0 0 0;\n",
              "      width: 32px;\n",
              "    }\n",
              "\n",
              "    .colab-df-convert:hover {\n",
              "      background-color: #E2EBFA;\n",
              "      box-shadow: 0px 1px 2px rgba(60, 64, 67, 0.3), 0px 1px 3px 1px rgba(60, 64, 67, 0.15);\n",
              "      fill: #174EA6;\n",
              "    }\n",
              "\n",
              "    [theme=dark] .colab-df-convert {\n",
              "      background-color: #3B4455;\n",
              "      fill: #D2E3FC;\n",
              "    }\n",
              "\n",
              "    [theme=dark] .colab-df-convert:hover {\n",
              "      background-color: #434B5C;\n",
              "      box-shadow: 0px 1px 3px 1px rgba(0, 0, 0, 0.15);\n",
              "      filter: drop-shadow(0px 1px 2px rgba(0, 0, 0, 0.3));\n",
              "      fill: #FFFFFF;\n",
              "    }\n",
              "  </style>\n",
              "\n",
              "      <script>\n",
              "        const buttonEl =\n",
              "          document.querySelector('#df-9bacf73d-7732-4c3b-9d1a-1d7522be3ba3 button.colab-df-convert');\n",
              "        buttonEl.style.display =\n",
              "          google.colab.kernel.accessAllowed ? 'block' : 'none';\n",
              "\n",
              "        async function convertToInteractive(key) {\n",
              "          const element = document.querySelector('#df-9bacf73d-7732-4c3b-9d1a-1d7522be3ba3');\n",
              "          const dataTable =\n",
              "            await google.colab.kernel.invokeFunction('convertToInteractive',\n",
              "                                                     [key], {});\n",
              "          if (!dataTable) return;\n",
              "\n",
              "          const docLinkHtml = 'Like what you see? Visit the ' +\n",
              "            '<a target=\"_blank\" href=https://colab.research.google.com/notebooks/data_table.ipynb>data table notebook</a>'\n",
              "            + ' to learn more about interactive tables.';\n",
              "          element.innerHTML = '';\n",
              "          dataTable['output_type'] = 'display_data';\n",
              "          await google.colab.output.renderOutput(dataTable, element);\n",
              "          const docLink = document.createElement('div');\n",
              "          docLink.innerHTML = docLinkHtml;\n",
              "          element.appendChild(docLink);\n",
              "        }\n",
              "      </script>\n",
              "    </div>\n",
              "  </div>\n",
              "  "
            ]
          },
          "metadata": {},
          "execution_count": 131
        }
      ]
    },
    {
      "cell_type": "markdown",
      "source": [
        "Hipoteza zerowa - dane mają ten sam rozkład\n",
        "\n",
        "Hipoteza alternatywna - dane mają różne rozkłady\n",
        "\n",
        "Rodzaj testu - test chi-squared"
      ],
      "metadata": {
        "id": "fOfXQMSs6WOc"
      }
    },
    {
      "cell_type": "code",
      "source": [
        "import scipy.stats as stats\n",
        "\n",
        "alpha = 0.05 # poziom istotności\n",
        "\n",
        "chi_square = 0\n",
        "for i in range(5, 9):\n",
        "    O = data.loc[i, 'Observed_freq']\n",
        "    E = data.loc[i, 'Expected_freq']\n",
        "    chi_square += (O-E) ** 2 / E\n",
        "\n",
        "critical_value = stats.chi2.ppf(1-alpha, data['Range'].nunique() - 1)\n",
        "conclusion = \"Nie udało się odrzucić hipotezy zerowej.\"\n",
        "if chi_square > critical_value:\n",
        "    conclusion = \"Hipoteza zerowa zostałą odrzucona.\"\n",
        "        \n",
        "print(\"Wynik testu:\", chi_square)\n",
        "print(\"Wartość krytyczna\", critical_value)\n",
        "print(conclusion)"
      ],
      "metadata": {
        "colab": {
          "base_uri": "https://localhost:8080/"
        },
        "id": "5JeNrYxY3Hcz",
        "outputId": "22d2becb-456e-4905-b121-174ce8e72ab9"
      },
      "execution_count": 134,
      "outputs": [
        {
          "output_type": "stream",
          "name": "stdout",
          "text": [
            "Wynik testu: 1.3763939518700472\n",
            "Wartość krytyczna 7.814727903251179\n",
            "Nie udało się odrzucić hipotezy zerowej.\n"
          ]
        }
      ]
    },
    {
      "cell_type": "markdown",
      "source": [
        "Wniosek - pobrana losowo próbka zachowuje ten sam rozkład wartości co cała populacja, więc mogę ją wykorzystać w kolejnych testach"
      ],
      "metadata": {
        "id": "MwFYIxKd7mtk"
      }
    },
    {
      "cell_type": "markdown",
      "source": [
        "### Hipoteza numer 2 - gry strategiczne otrzymują oceny wyższe od średniej"
      ],
      "metadata": {
        "id": "8csnUeWCESbd"
      }
    },
    {
      "cell_type": "code",
      "source": [
        "get_descriptive_stats(df[\"BayesAvgRating\"])"
      ],
      "metadata": {
        "colab": {
          "base_uri": "https://localhost:8080/"
        },
        "id": "KLCyWD0faYz0",
        "outputId": "c5525ca3-e784-4c97-d1e9-42221c93ad0d"
      },
      "execution_count": 79,
      "outputs": [
        {
          "output_type": "stream",
          "name": "stdout",
          "text": [
            "Podstawowe:\n",
            "count    21925.000000\n",
            "mean         5.685673\n",
            "std          0.365311\n",
            "min          3.574810\n",
            "25%          5.510300\n",
            "50%          5.546540\n",
            "75%          5.679890\n",
            "max          8.514880\n",
            "Name: BayesAvgRating, dtype: float64\n",
            "\n",
            "Wartości unikatowych: 15950\n",
            "Skośność: 2.8544084816398474\n",
            "Kurtoza: 10.029189454859733\n",
            "Rozstęp: 4.94007\n"
          ]
        }
      ]
    },
    {
      "cell_type": "code",
      "source": [
        "print(\"Gry strategiczne\")\n",
        "get_array_desc(strategy_df)"
      ],
      "metadata": {
        "colab": {
          "base_uri": "https://localhost:8080/"
        },
        "id": "Jgvl8TSlcXfm",
        "outputId": "f307d819-0930-4299-d771-9f9c85ffcd61"
      },
      "execution_count": 80,
      "outputs": [
        {
          "output_type": "stream",
          "name": "stdout",
          "text": [
            "Gry strategiczne\n",
            "Średnia: 6.234375\n",
            "Mediana: 6.0685664\n",
            "Wariancja: 0.377197265625\n",
            "Odchylenie standardowe: 0.6142\n"
          ]
        }
      ]
    },
    {
      "cell_type": "code",
      "source": [
        "pop_avg = 5.686 # średnia populacji u\n",
        "pop_std = 0.365 # odchylenie standardowe w populacji\n",
        "\n",
        "str_avg = 6.234 # średnia z próby\n",
        "str_count = 100 # rozmiar próby n\n",
        "\n",
        "a = 0.05 # poziom istotności\n",
        "test_type = \"r\" # rodzaj testu"
      ],
      "metadata": {
        "id": "yl71wCtPb0R-"
      },
      "execution_count": 85,
      "outputs": []
    },
    {
      "cell_type": "markdown",
      "source": [
        "Hipoteza zerowa - gry strategiczne otrzymują średnio takie same oceny jak inne gry\n",
        "\n",
        "Hipoteza alternatywna - gry strategiczne otrzymują średnio wyższe oceny niż inne gry\n",
        "\n",
        "Rodzaj testu - test Z"
      ],
      "metadata": {
        "id": "q-o591tVcwpl"
      }
    },
    {
      "cell_type": "code",
      "source": [
        "from scipy.stats import norm, t\n",
        "\n",
        "def test_z(p0, p_hat, alpha, n, sigma, test_type):\n",
        "    z = math.sqrt(n) * (p_hat - p0) / sigma  # test statistic\n",
        "    z_crit = round(norm.ppf(1 - alpha), 3)\n",
        "    if test_type == \"l\":\n",
        "        print(\"Obszar krytyczny: \", \"(-inf, \", -z_crit, \")\")\n",
        "    elif test_type == \"r\":\n",
        "        print(\"Obszar krytyczny: \", \"(\", z_crit, \", inf)\")\n",
        "    elif test_type == \"b\":\n",
        "        print(\"Obszary krytyczne: \", \"(-inf, \", -z_crit, \")\\n\", \"(\", z_crit, \", inf )\")\n",
        "\n",
        "    print(\"Wartość statystyki testowej:\", round(z, 3))\n",
        "\n",
        "    if (test_type == \"l\" and z < -z_crit) or (test_type == \"r\" and z > z_crit) or (\n",
        "            test_type == \"b\" and (z > z_crit or z < -z_crit)):\n",
        "        print(\"Odrzucamy H0 na rzecz H1\")\n",
        "    else:\n",
        "        print(\"Brak podstaw do odrzucenia H0\")"
      ],
      "metadata": {
        "id": "a8S9RQAcdQb1"
      },
      "execution_count": 91,
      "outputs": []
    },
    {
      "cell_type": "code",
      "source": [
        "test_z(pop_avg, str_avg, a, str_count, pop_std, test_type)"
      ],
      "metadata": {
        "colab": {
          "base_uri": "https://localhost:8080/"
        },
        "id": "oV6zR_eReX_-",
        "outputId": "889bd67a-e116-4074-9279-57d17c989934"
      },
      "execution_count": 92,
      "outputs": [
        {
          "output_type": "stream",
          "name": "stdout",
          "text": [
            "Obszar krytyczny:  ( 1.645 , inf)\n",
            "Wartość statystyki testowej: 15.014\n",
            "Odrzucamy H0 na rzecz H1\n"
          ]
        }
      ]
    },
    {
      "cell_type": "markdown",
      "source": [
        "Ten sam test powtórzyłem dla oryginalnych danych - tym razem zamiast podzielonych na przedziały wartości pochodzących z szeregu wykorzystałem oryginalną próbkę, a także funkcję służącą do przeprowadzania testu Z pochodzącą z biblioteki statsmodels"
      ],
      "metadata": {
        "id": "q_4CpyBXkP1o"
      }
    },
    {
      "cell_type": "code",
      "source": [
        "from statsmodels.stats.weightstats import ztest as ztest\n",
        "z_test = ztest(samples[\"Strategy\"], value=5.686)\n",
        "print(f\"Wartość statystyki testowej: {round(z_test[0], 3)}\")\n",
        "print(f\"P-value: {round(z_test[1], 3)}\")"
      ],
      "metadata": {
        "colab": {
          "base_uri": "https://localhost:8080/"
        },
        "id": "FmKTpF-2ha6J",
        "outputId": "a178ae26-f3ce-4a7f-bd34-7e08a4ec51f3"
      },
      "execution_count": 93,
      "outputs": [
        {
          "output_type": "stream",
          "name": "stdout",
          "text": [
            "Wartość statystyki testowej: 8.972\n",
            "P-value: 0.0\n"
          ]
        }
      ]
    },
    {
      "cell_type": "markdown",
      "source": [
        "Wartość p jest tak niska, że została zaokrąglona do 0.\n",
        "\n",
        "Ostatecznie odrzucamy himpotezę zerową na korzyść alternatywnej - gry strategiczne faktycznie mają śrenio wyższe oceny w serwisie"
      ],
      "metadata": {
        "id": "B4qSfOZHlLLe"
      }
    },
    {
      "cell_type": "markdown",
      "source": [
        "W obu testach zastosowałem poziom istotności alfa wynoszący 5% - jest to prawdopodobieństwo, że popełniłem błąd **pierwszego rodzaju**"
      ],
      "metadata": {
        "id": "dcc644l69cKo"
      }
    },
    {
      "cell_type": "markdown",
      "source": [
        "# Wnioski"
      ],
      "metadata": {
        "id": "r36tNygm-Gzv"
      }
    },
    {
      "cell_type": "markdown",
      "source": [
        "Większość obserwacji zawarłem już w komentarzach do poszczególnych podpunktów, jednak postaram się sporządzić krotkie podsumowanie:\n",
        "\n",
        "Motywacje wyborów: Przede wszystkim zależało mi na znalezieniu najczęściej posiadanych przez użytkowników serwisu typów gier. Chciałem się również dowiedzieć, jak plasuje mój ulubiony gatunek gier planszowych na tle innych popularnych typów.\n",
        "\n",
        "\n",
        "Wnioski: Poczynione obserwacje jedynie częściowo zgadzały się z moimi przypuszczeniami.\n",
        "* Nie dziwi mnie na przykład, że dużą część stanowiły gry cztero i dwu osobowe. Gry dwuosobowe są idealne dla ludzi, którzy nie mają czasu na organizowanie większych spotkań, z kolei 4 osobowe gry są łatwiejsze do zbalansowania niż 3 osobowe, a ich czas trwania nie jest tak duży jak gier pięcioosobowych, ze względu na np. konieczność czekania na swoją turę. Są idealne do rozegrania w rodzinnie lub w niewielkiej grupce znajomych.\n",
        "* Zaskoczył mnie fakt, że bardzo często produkowane są gry strategiczne i wojenne. W tym przypadku spodziewam się, że dane są lekko tendencyjne. BGG to serwis dla fanów planszówek, informacje zostały więc pozyskane od grona odbiorców, którzy najprawdopodobniej preferują gry bardziej nastawione na strategiczne myślenie, niż prostotę rozgrywki. Osobiście uważam, że gdyby ankietę popularności przeprowadzić w losowo wybranej grupie ludzi dużo popularniejsze okazałyby się gry imprezowe lub familijne, o niższej złożoności zasad (choć gry familijne i tak znalazły się w trójce najpopularniejszych gatunków).\n",
        "\n",
        "Dalsze kroki:\n",
        "* Przeprowadzenie wspomnianej przeze mnie ankiety w losowej grupie ludzi nie będącyh koniecznie użytkownikami serisu.\n",
        "* Zbadanie faktu, dlaczego produkcja gier zmalała znacznie po roku 2019? Czy ma to związek z pandemią i kryzysem ekonomicznym? Czy może spowodowane to było innymi czynnikami?\n",
        "* Zbadanie rozkłądów ocen i pozycji w rankingu innych typów gier - wyłonienie najlepszego typu gier nie tyle według ilości gier danego gaunku, a wedle średniej wartości ocen.\n",
        "* Zbadanie korelacji i wspólnych parametrów najlepszych gier. Czy gry czteroosobowe faktycznie dostają średnio lepsze oceny? Jak duży wpływ na oceny ma czas gry?\n"
      ],
      "metadata": {
        "id": "mPVnPC9z-Iy2"
      }
    }
  ]
}