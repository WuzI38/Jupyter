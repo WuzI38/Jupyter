{
  "nbformat": 4,
  "nbformat_minor": 0,
  "metadata": {
    "colab": {
      "provenance": [],
      "authorship_tag": "ABX9TyO4auciBKxBSp8p1pn/Qus1",
      "include_colab_link": true
    },
    "kernelspec": {
      "name": "python3",
      "display_name": "Python 3"
    },
    "language_info": {
      "name": "python"
    }
  },
  "cells": [
    {
      "cell_type": "markdown",
      "metadata": {
        "id": "view-in-github",
        "colab_type": "text"
      },
      "source": [
        "<a href=\"https://colab.research.google.com/github/WuzI38/Data/blob/Jupyter/MidiGen.ipynb\" target=\"_parent\"><img src=\"https://colab.research.google.com/assets/colab-badge.svg\" alt=\"Open In Colab\"/></a>"
      ]
    },
    {
      "cell_type": "markdown",
      "source": [
        "# Second attempt on music generation"
      ],
      "metadata": {
        "id": "ZY6KpIEZ_Oi3"
      }
    },
    {
      "cell_type": "markdown",
      "source": [
        "## Download data"
      ],
      "metadata": {
        "id": "6CmoA837DeWP"
      }
    },
    {
      "cell_type": "code",
      "source": [
        "!pip install -q kaggle"
      ],
      "metadata": {
        "id": "BUx4f1NZAfRS"
      },
      "execution_count": 1,
      "outputs": []
    },
    {
      "cell_type": "code",
      "source": [
        "from google.colab import drive\n",
        "drive.mount('/content/gdrive/')"
      ],
      "metadata": {
        "colab": {
          "base_uri": "https://localhost:8080/"
        },
        "id": "0SKvpUgaAn53",
        "outputId": "ed58332f-e910-4b9c-ec9c-9e1444368385"
      },
      "execution_count": 2,
      "outputs": [
        {
          "output_type": "stream",
          "name": "stdout",
          "text": [
            "Mounted at /content/gdrive/\n"
          ]
        }
      ]
    },
    {
      "cell_type": "code",
      "source": [
        "!mkdir -p ~/.kaggle\n",
        "!cp /content/gdrive/MyDrive/Kaggle/kaggle.json ~/.kaggle/\n",
        "!chmod 600 /root/.kaggle/kaggle.json"
      ],
      "metadata": {
        "id": "tWJVCAc3BTed"
      },
      "execution_count": 3,
      "outputs": []
    },
    {
      "cell_type": "code",
      "source": [
        "!kaggle datasets download programgeek01/anime-music-midi"
      ],
      "metadata": {
        "colab": {
          "base_uri": "https://localhost:8080/"
        },
        "id": "VCUGX-H7Dah0",
        "outputId": "bd136867-da38-4272-fd1f-1ce27f99b0fe"
      },
      "execution_count": 4,
      "outputs": [
        {
          "output_type": "stream",
          "name": "stdout",
          "text": [
            "Downloading anime-music-midi.zip to /content\n",
            "\r  0% 0.00/707k [00:00<?, ?B/s]\n",
            "\r100% 707k/707k [00:00<00:00, 114MB/s]\n"
          ]
        }
      ]
    },
    {
      "cell_type": "code",
      "source": [
        "# Unzip data\n",
        "import zipfile\n",
        "\n",
        "zip_ref = zipfile.ZipFile(\"anime-music-midi.zip\", \"r\") # Hey, don't blame me for the name, I am not this dataset's creator\n",
        "zip_ref.extractall()\n",
        "zip_ref.close()"
      ],
      "metadata": {
        "id": "_eVX_xi7Dg1f"
      },
      "execution_count": 5,
      "outputs": []
    },
    {
      "cell_type": "code",
      "source": [
        "# enables music21 to render images of musical notes\n",
        "print('installing lilypond...')\n",
        "!apt-get install lilypond > /dev/null\n",
        "\n",
        "# enables playing midi files\n",
        "print('installing fluidsynth...')\n",
        "!apt-get install fluidsynth > /dev/null\n",
        "\n",
        "# Copy soundfont to content directory\n",
        "!cp /usr/share/sounds/sf2/FluidR3_GM.sf2 ./font.sf2"
      ],
      "metadata": {
        "colab": {
          "base_uri": "https://localhost:8080/"
        },
        "id": "4KBtibLzDs3n",
        "outputId": "5fdf984d-f251-4c54-9cba-f1f41d0a4b03"
      },
      "execution_count": 6,
      "outputs": [
        {
          "output_type": "stream",
          "name": "stdout",
          "text": [
            "installing lilypond...\n",
            "Extracting templates from packages: 100%\n",
            "installing fluidsynth...\n"
          ]
        }
      ]
    },
    {
      "cell_type": "markdown",
      "source": [
        "## Loading and preprocessing"
      ],
      "metadata": {
        "id": "biyx9idHD_e3"
      }
    },
    {
      "cell_type": "markdown",
      "source": [
        "### Parsing files"
      ],
      "metadata": {
        "id": "QqWG_Bz1EINe"
      }
    },
    {
      "cell_type": "code",
      "source": [
        "import os\n",
        "from music21 import *\n",
        "from fractions import Fraction\n",
        "\n",
        "path = \"/content/data/undertale/\"\n",
        "midi_list = []\n",
        "for filename in os.listdir(path):\n",
        "  # print(filename)\n",
        "  parsed_file = converter.parse(path + filename)\n",
        "  midi_list.append(parsed_file)"
      ],
      "metadata": {
        "id": "6MaDbh8_EKjP",
        "colab": {
          "base_uri": "https://localhost:8080/",
          "height": 363
        },
        "outputId": "9748ede0-db60-49a9-9d7d-7fc647e0e3d9"
      },
      "execution_count": 42,
      "outputs": [
        {
          "output_type": "error",
          "ename": "KeyboardInterrupt",
          "evalue": "ignored",
          "traceback": [
            "\u001b[0;31m---------------------------------------------------------------------------\u001b[0m",
            "\u001b[0;31mKeyboardInterrupt\u001b[0m                         Traceback (most recent call last)",
            "\u001b[0;32m<ipython-input-42-048c5ff6988b>\u001b[0m in \u001b[0;36m<module>\u001b[0;34m\u001b[0m\n\u001b[1;32m      7\u001b[0m \u001b[0;32mfor\u001b[0m \u001b[0mfilename\u001b[0m \u001b[0;32min\u001b[0m \u001b[0mos\u001b[0m\u001b[0;34m.\u001b[0m\u001b[0mlistdir\u001b[0m\u001b[0;34m(\u001b[0m\u001b[0mpath\u001b[0m\u001b[0;34m)\u001b[0m\u001b[0;34m:\u001b[0m\u001b[0;34m\u001b[0m\u001b[0;34m\u001b[0m\u001b[0m\n\u001b[1;32m      8\u001b[0m   \u001b[0;31m# print(filename)\u001b[0m\u001b[0;34m\u001b[0m\u001b[0;34m\u001b[0m\u001b[0;34m\u001b[0m\u001b[0m\n\u001b[0;32m----> 9\u001b[0;31m   \u001b[0mparsed_file\u001b[0m \u001b[0;34m=\u001b[0m \u001b[0mconverter\u001b[0m\u001b[0;34m.\u001b[0m\u001b[0mparse\u001b[0m\u001b[0;34m(\u001b[0m\u001b[0mpath\u001b[0m \u001b[0;34m+\u001b[0m \u001b[0mfilename\u001b[0m\u001b[0;34m)\u001b[0m\u001b[0;34m\u001b[0m\u001b[0;34m\u001b[0m\u001b[0m\n\u001b[0m\u001b[1;32m     10\u001b[0m   \u001b[0mmidi_list\u001b[0m\u001b[0;34m.\u001b[0m\u001b[0mappend\u001b[0m\u001b[0;34m(\u001b[0m\u001b[0mparsed_file\u001b[0m\u001b[0;34m)\u001b[0m\u001b[0;34m\u001b[0m\u001b[0;34m\u001b[0m\u001b[0m\n",
            "\u001b[0;32m/usr/local/lib/python3.8/dist-packages/music21/converter/__init__.py\u001b[0m in \u001b[0;36mparse\u001b[0;34m(value, *args, **keywords)\u001b[0m\n\u001b[1;32m   1124\u001b[0m         \u001b[0;32mreturn\u001b[0m \u001b[0mparseData\u001b[0m\u001b[0;34m(\u001b[0m\u001b[0mvalue\u001b[0m\u001b[0;34m,\u001b[0m \u001b[0mnumber\u001b[0m\u001b[0;34m=\u001b[0m\u001b[0mnumber\u001b[0m\u001b[0;34m,\u001b[0m \u001b[0mformat\u001b[0m\u001b[0;34m=\u001b[0m\u001b[0mm21Format\u001b[0m\u001b[0;34m,\u001b[0m \u001b[0;34m**\u001b[0m\u001b[0mkeywords\u001b[0m\u001b[0;34m)\u001b[0m\u001b[0;34m\u001b[0m\u001b[0;34m\u001b[0m\u001b[0m\n\u001b[1;32m   1125\u001b[0m     \u001b[0;32melif\u001b[0m \u001b[0;32mnot\u001b[0m \u001b[0misinstance\u001b[0m\u001b[0;34m(\u001b[0m\u001b[0mvalue\u001b[0m\u001b[0;34m,\u001b[0m \u001b[0mbytes\u001b[0m\u001b[0;34m)\u001b[0m \u001b[0;32mand\u001b[0m \u001b[0mos\u001b[0m\u001b[0;34m.\u001b[0m\u001b[0mpath\u001b[0m\u001b[0;34m.\u001b[0m\u001b[0mexists\u001b[0m\u001b[0;34m(\u001b[0m\u001b[0mvalueStr\u001b[0m\u001b[0;34m)\u001b[0m\u001b[0;34m:\u001b[0m\u001b[0;34m\u001b[0m\u001b[0;34m\u001b[0m\u001b[0m\n\u001b[0;32m-> 1126\u001b[0;31m         return parseFile(valueStr, number=number, format=m21Format,\n\u001b[0m\u001b[1;32m   1127\u001b[0m                          forceSource=forceSource, **keywords)\n\u001b[1;32m   1128\u001b[0m     \u001b[0;32melif\u001b[0m \u001b[0;32mnot\u001b[0m \u001b[0misinstance\u001b[0m\u001b[0;34m(\u001b[0m\u001b[0mvalue\u001b[0m\u001b[0;34m,\u001b[0m \u001b[0mbytes\u001b[0m\u001b[0;34m)\u001b[0m \u001b[0;32mand\u001b[0m \u001b[0mos\u001b[0m\u001b[0;34m.\u001b[0m\u001b[0mpath\u001b[0m\u001b[0;34m.\u001b[0m\u001b[0mexists\u001b[0m\u001b[0;34m(\u001b[0m\u001b[0mcommon\u001b[0m\u001b[0;34m.\u001b[0m\u001b[0mcleanpath\u001b[0m\u001b[0;34m(\u001b[0m\u001b[0mvalueStr\u001b[0m\u001b[0;34m)\u001b[0m\u001b[0;34m)\u001b[0m\u001b[0;34m:\u001b[0m\u001b[0;34m\u001b[0m\u001b[0;34m\u001b[0m\u001b[0m\n",
            "\u001b[0;32m/usr/local/lib/python3.8/dist-packages/music21/converter/__init__.py\u001b[0m in \u001b[0;36mparseFile\u001b[0;34m(fp, number, format, forceSource, **keywords)\u001b[0m\n\u001b[1;32m   1005\u001b[0m     \u001b[0mv\u001b[0m \u001b[0;34m=\u001b[0m \u001b[0mConverter\u001b[0m\u001b[0;34m(\u001b[0m\u001b[0;34m)\u001b[0m\u001b[0;34m\u001b[0m\u001b[0;34m\u001b[0m\u001b[0m\n\u001b[1;32m   1006\u001b[0m     \u001b[0mfp\u001b[0m \u001b[0;34m=\u001b[0m \u001b[0mcommon\u001b[0m\u001b[0;34m.\u001b[0m\u001b[0mcleanpath\u001b[0m\u001b[0;34m(\u001b[0m\u001b[0mfp\u001b[0m\u001b[0;34m,\u001b[0m \u001b[0mreturnPathlib\u001b[0m\u001b[0;34m=\u001b[0m\u001b[0;32mTrue\u001b[0m\u001b[0;34m)\u001b[0m\u001b[0;34m\u001b[0m\u001b[0;34m\u001b[0m\u001b[0m\n\u001b[0;32m-> 1007\u001b[0;31m     \u001b[0mv\u001b[0m\u001b[0;34m.\u001b[0m\u001b[0mparseFile\u001b[0m\u001b[0;34m(\u001b[0m\u001b[0mfp\u001b[0m\u001b[0;34m,\u001b[0m \u001b[0mnumber\u001b[0m\u001b[0;34m=\u001b[0m\u001b[0mnumber\u001b[0m\u001b[0;34m,\u001b[0m \u001b[0mformat\u001b[0m\u001b[0;34m=\u001b[0m\u001b[0mformat\u001b[0m\u001b[0;34m,\u001b[0m \u001b[0mforceSource\u001b[0m\u001b[0;34m=\u001b[0m\u001b[0mforceSource\u001b[0m\u001b[0;34m,\u001b[0m \u001b[0;34m**\u001b[0m\u001b[0mkeywords\u001b[0m\u001b[0;34m)\u001b[0m\u001b[0;34m\u001b[0m\u001b[0;34m\u001b[0m\u001b[0m\n\u001b[0m\u001b[1;32m   1008\u001b[0m     \u001b[0;32mreturn\u001b[0m \u001b[0mv\u001b[0m\u001b[0;34m.\u001b[0m\u001b[0mstream\u001b[0m\u001b[0;34m\u001b[0m\u001b[0;34m\u001b[0m\u001b[0m\n\u001b[1;32m   1009\u001b[0m \u001b[0;34m\u001b[0m\u001b[0m\n",
            "\u001b[0;32m/usr/local/lib/python3.8/dist-packages/music21/converter/__init__.py\u001b[0m in \u001b[0;36mparseFile\u001b[0;34m(self, fp, number, format, forceSource, storePickle, **keywords)\u001b[0m\n\u001b[1;32m    529\u001b[0m             \u001b[0menvironLocal\u001b[0m\u001b[0;34m.\u001b[0m\u001b[0mprintDebug\u001b[0m\u001b[0;34m(\u001b[0m\u001b[0;34m\"Loading Pickled version\"\u001b[0m\u001b[0;34m)\u001b[0m\u001b[0;34m\u001b[0m\u001b[0;34m\u001b[0m\u001b[0m\n\u001b[1;32m    530\u001b[0m             \u001b[0;32mtry\u001b[0m\u001b[0;34m:\u001b[0m\u001b[0;34m\u001b[0m\u001b[0;34m\u001b[0m\u001b[0m\n\u001b[0;32m--> 531\u001b[0;31m                 \u001b[0mself\u001b[0m\u001b[0;34m.\u001b[0m\u001b[0m_thawedStream\u001b[0m \u001b[0;34m=\u001b[0m \u001b[0mthaw\u001b[0m\u001b[0;34m(\u001b[0m\u001b[0mfpPickle\u001b[0m\u001b[0;34m,\u001b[0m \u001b[0mzipType\u001b[0m\u001b[0;34m=\u001b[0m\u001b[0;34m'zlib'\u001b[0m\u001b[0;34m)\u001b[0m\u001b[0;34m\u001b[0m\u001b[0;34m\u001b[0m\u001b[0m\n\u001b[0m\u001b[1;32m    532\u001b[0m             \u001b[0;32mexcept\u001b[0m \u001b[0mfreezeThaw\u001b[0m\u001b[0;34m.\u001b[0m\u001b[0mFreezeThawException\u001b[0m\u001b[0;34m:\u001b[0m\u001b[0;34m\u001b[0m\u001b[0;34m\u001b[0m\u001b[0m\n\u001b[1;32m    533\u001b[0m                 \u001b[0menvironLocal\u001b[0m\u001b[0;34m.\u001b[0m\u001b[0mwarn\u001b[0m\u001b[0;34m(\u001b[0m\u001b[0;34m\"Could not parse pickle, %s ...rewriting\"\u001b[0m \u001b[0;34m%\u001b[0m \u001b[0mfpPickle\u001b[0m\u001b[0;34m)\u001b[0m\u001b[0;34m\u001b[0m\u001b[0;34m\u001b[0m\u001b[0m\n",
            "\u001b[0;32m/usr/local/lib/python3.8/dist-packages/music21/converter/__init__.py\u001b[0m in \u001b[0;36mthaw\u001b[0;34m(fp, zipType)\u001b[0m\n\u001b[1;32m   1198\u001b[0m     \u001b[0;32mfrom\u001b[0m \u001b[0mmusic21\u001b[0m \u001b[0;32mimport\u001b[0m \u001b[0mfreezeThaw\u001b[0m\u001b[0;34m\u001b[0m\u001b[0;34m\u001b[0m\u001b[0m\n\u001b[1;32m   1199\u001b[0m     \u001b[0mv\u001b[0m \u001b[0;34m=\u001b[0m \u001b[0mfreezeThaw\u001b[0m\u001b[0;34m.\u001b[0m\u001b[0mStreamThawer\u001b[0m\u001b[0;34m(\u001b[0m\u001b[0;34m)\u001b[0m\u001b[0;34m\u001b[0m\u001b[0;34m\u001b[0m\u001b[0m\n\u001b[0;32m-> 1200\u001b[0;31m     \u001b[0mv\u001b[0m\u001b[0;34m.\u001b[0m\u001b[0mopen\u001b[0m\u001b[0;34m(\u001b[0m\u001b[0mfp\u001b[0m\u001b[0;34m,\u001b[0m \u001b[0mzipType\u001b[0m\u001b[0;34m=\u001b[0m\u001b[0mzipType\u001b[0m\u001b[0;34m)\u001b[0m\u001b[0;34m\u001b[0m\u001b[0;34m\u001b[0m\u001b[0m\n\u001b[0m\u001b[1;32m   1201\u001b[0m     \u001b[0;32mreturn\u001b[0m \u001b[0mv\u001b[0m\u001b[0;34m.\u001b[0m\u001b[0mstream\u001b[0m\u001b[0;34m\u001b[0m\u001b[0;34m\u001b[0m\u001b[0m\n\u001b[1;32m   1202\u001b[0m \u001b[0;34m\u001b[0m\u001b[0m\n",
            "\u001b[0;32m/usr/local/lib/python3.8/dist-packages/music21/freezeThaw.py\u001b[0m in \u001b[0;36mopen\u001b[0;34m(self, fp, zipType)\u001b[0m\n\u001b[1;32m    951\u001b[0m                 \u001b[0muncompressed\u001b[0m \u001b[0;34m=\u001b[0m \u001b[0mzlib\u001b[0m\u001b[0;34m.\u001b[0m\u001b[0mdecompress\u001b[0m\u001b[0;34m(\u001b[0m\u001b[0mcompressedString\u001b[0m\u001b[0;34m)\u001b[0m\u001b[0;34m\u001b[0m\u001b[0;34m\u001b[0m\u001b[0m\n\u001b[1;32m    952\u001b[0m                 \u001b[0;32mtry\u001b[0m\u001b[0;34m:\u001b[0m\u001b[0;34m\u001b[0m\u001b[0;34m\u001b[0m\u001b[0m\n\u001b[0;32m--> 953\u001b[0;31m                     \u001b[0mstorage\u001b[0m \u001b[0;34m=\u001b[0m \u001b[0mpickle\u001b[0m\u001b[0;34m.\u001b[0m\u001b[0mloads\u001b[0m\u001b[0;34m(\u001b[0m\u001b[0muncompressed\u001b[0m\u001b[0;34m)\u001b[0m\u001b[0;34m\u001b[0m\u001b[0;34m\u001b[0m\u001b[0m\n\u001b[0m\u001b[1;32m    954\u001b[0m                 \u001b[0;32mexcept\u001b[0m \u001b[0mAttributeError\u001b[0m \u001b[0;32mas\u001b[0m \u001b[0me\u001b[0m\u001b[0;34m:\u001b[0m\u001b[0;34m\u001b[0m\u001b[0;34m\u001b[0m\u001b[0m\n\u001b[1;32m    955\u001b[0m                     \u001b[0;32mraise\u001b[0m \u001b[0mFreezeThawException\u001b[0m\u001b[0;34m(\u001b[0m\u001b[0;34m'Problem in decoding: {}'\u001b[0m\u001b[0;34m.\u001b[0m\u001b[0mformat\u001b[0m\u001b[0;34m(\u001b[0m\u001b[0me\u001b[0m\u001b[0;34m)\u001b[0m\u001b[0;34m)\u001b[0m\u001b[0;34m\u001b[0m\u001b[0;34m\u001b[0m\u001b[0m\n",
            "\u001b[0;32m/usr/local/lib/python3.8/dist-packages/music21/volume.py\u001b[0m in \u001b[0;36m__setstate__\u001b[0;34m(self, state)\u001b[0m\n\u001b[1;32m     98\u001b[0m         \u001b[0;32mreturn\u001b[0m \u001b[0mSlottedObjectMixin\u001b[0m\u001b[0;34m.\u001b[0m\u001b[0m__getstate__\u001b[0m\u001b[0;34m(\u001b[0m\u001b[0mself\u001b[0m\u001b[0;34m)\u001b[0m\u001b[0;34m\u001b[0m\u001b[0;34m\u001b[0m\u001b[0m\n\u001b[1;32m     99\u001b[0m \u001b[0;34m\u001b[0m\u001b[0m\n\u001b[0;32m--> 100\u001b[0;31m     \u001b[0;32mdef\u001b[0m \u001b[0m__setstate__\u001b[0m\u001b[0;34m(\u001b[0m\u001b[0mself\u001b[0m\u001b[0;34m,\u001b[0m \u001b[0mstate\u001b[0m\u001b[0;34m)\u001b[0m\u001b[0;34m:\u001b[0m\u001b[0;34m\u001b[0m\u001b[0;34m\u001b[0m\u001b[0m\n\u001b[0m\u001b[1;32m    101\u001b[0m         \u001b[0mSlottedObjectMixin\u001b[0m\u001b[0;34m.\u001b[0m\u001b[0m__setstate__\u001b[0m\u001b[0;34m(\u001b[0m\u001b[0mself\u001b[0m\u001b[0;34m,\u001b[0m \u001b[0mstate\u001b[0m\u001b[0;34m)\u001b[0m\u001b[0;34m\u001b[0m\u001b[0;34m\u001b[0m\u001b[0m\n\u001b[1;32m    102\u001b[0m         \u001b[0mself\u001b[0m\u001b[0;34m.\u001b[0m\u001b[0m_client\u001b[0m \u001b[0;34m=\u001b[0m \u001b[0mcommon\u001b[0m\u001b[0;34m.\u001b[0m\u001b[0mwrapWeakref\u001b[0m\u001b[0;34m(\u001b[0m\u001b[0mself\u001b[0m\u001b[0;34m.\u001b[0m\u001b[0m_client\u001b[0m\u001b[0;34m)\u001b[0m\u001b[0;34m\u001b[0m\u001b[0;34m\u001b[0m\u001b[0m\n",
            "\u001b[0;31mKeyboardInterrupt\u001b[0m: "
          ]
        }
      ]
    },
    {
      "cell_type": "code",
      "source": [
        "midi_list[0]"
      ],
      "metadata": {
        "colab": {
          "base_uri": "https://localhost:8080/"
        },
        "id": "TP5OKnpQEMro",
        "outputId": "70eb574b-5a0a-4505-868d-d4946f3be3e6"
      },
      "execution_count": 8,
      "outputs": [
        {
          "output_type": "execute_result",
          "data": {
            "text/plain": [
              "<music21.stream.Score 0x7f1048476070>"
            ]
          },
          "metadata": {},
          "execution_count": 8
        }
      ]
    },
    {
      "cell_type": "markdown",
      "source": [
        "### Extracting notes and chords\n",
        "\n"
      ],
      "metadata": {
        "id": "Rvsia1LdJYcz"
      }
    },
    {
      "cell_type": "code",
      "source": [
        "def fragmentise(midi_stream):\n",
        "  return [part.flat.notes for part in midi_stream.parts]"
      ],
      "metadata": {
        "id": "nYSX6tC8PQu6"
      },
      "execution_count": 9,
      "outputs": []
    },
    {
      "cell_type": "code",
      "source": [
        "def signature(midi_stream):\n",
        "  sig = midi_stream.getTimeSignatures()[0]\n",
        "  return [sig.numerator, sig.denominator]"
      ],
      "metadata": {
        "id": "Qsvr_VhQQnBN"
      },
      "execution_count": 10,
      "outputs": []
    },
    {
      "cell_type": "code",
      "source": [
        "frag = fragmentise(midi_list[2])\n",
        "frag"
      ],
      "metadata": {
        "colab": {
          "base_uri": "https://localhost:8080/"
        },
        "id": "hQcUMS4TLYep",
        "outputId": "b0b18341-d344-47d6-c434-26517a5c8293"
      },
      "execution_count": 11,
      "outputs": [
        {
          "output_type": "execute_result",
          "data": {
            "text/plain": [
              "[<music21.stream.iterator.StreamIterator for Part:0x7f1033a518b0_flat @:0>]"
            ]
          },
          "metadata": {},
          "execution_count": 11
        }
      ]
    },
    {
      "cell_type": "code",
      "source": [
        "sg = signature(frag[0])\n",
        "sg"
      ],
      "metadata": {
        "colab": {
          "base_uri": "https://localhost:8080/"
        },
        "id": "xVsAdaJ_Qb8T",
        "outputId": "91aab398-63c0-4ebc-b021-099785ed66ca"
      },
      "execution_count": 12,
      "outputs": [
        {
          "output_type": "execute_result",
          "data": {
            "text/plain": [
              "[4, 4]"
            ]
          },
          "metadata": {},
          "execution_count": 12
        }
      ]
    },
    {
      "cell_type": "code",
      "source": [
        "# Part one - extract notes from both streams and save them into a list\n",
        "def get_all_notes(midi_piece):\n",
        "  all_notes = list()\n",
        "  note_types = set()\n",
        "  midi_part = fragmentise(midi_piece)[0] # use only notes that belong to main melody\n",
        "  for nt in midi_part.flat.notes: \n",
        "    if isinstance(nt, note.Note):\n",
        "      pitch = str(max(0.0, nt.pitch.ps))\n",
        "      all_notes.append([nt.offset, pitch, nt.duration.quarterLength])\n",
        "    elif isinstance(nt, chord.Chord):\n",
        "      pitches = sorted([str(max(0.0, n.ps)) for n in nt.pitches])\n",
        "      pitches = ' '.join(pitches)\n",
        "      all_notes.append([nt.offset, pitches, nt.duration.quarterLength])\n",
        "  return all_notes\n",
        "  \n",
        "notes_list = get_all_notes(midi_list[0])\n",
        "notes_list[:10]"
      ],
      "metadata": {
        "id": "wJfX8VwCWGLE",
        "colab": {
          "base_uri": "https://localhost:8080/"
        },
        "outputId": "ecad3b9a-764f-409e-e538-5c264deea658"
      },
      "execution_count": 43,
      "outputs": [
        {
          "output_type": "execute_result",
          "data": {
            "text/plain": [
              "[[8.0, '68.0', 0.25],\n",
              " [8.25, '68.0', 0.0],\n",
              " [8.5, '69.0', 0.0],\n",
              " [8.75, '69.0', 0.0],\n",
              " [9.0, '70.0', 0.0],\n",
              " [9.25, '70.0', 0.0],\n",
              " [9.5, '71.0', 0.0],\n",
              " [9.75, '71.0', 0.0],\n",
              " [10.0, '72.0', 0.0],\n",
              " [10.25, '72.0', 0.0]]"
            ]
          },
          "metadata": {},
          "execution_count": 43
        }
      ]
    },
    {
      "cell_type": "code",
      "source": [
        "# Part 2 extract all chord types from the dataset\n",
        "import numpy as np\n",
        "\n",
        "def get_chord_types(dataset):\n",
        "  chord_types = dict()\n",
        "  for d in dataset:\n",
        "    notes_list = np.array(get_all_notes(d))\n",
        "    strings = notes_list[:, 1]\n",
        "    for s in strings:\n",
        "      chord_types[s] = 1 + chord_types[s] if chord_types.get(s) is not None else 1\n",
        "  return chord_types\n",
        "\n",
        "types = get_chord_types(midi_list)"
      ],
      "metadata": {
        "id": "n9emf8arWo4f"
      },
      "execution_count": 14,
      "outputs": []
    },
    {
      "cell_type": "code",
      "source": [
        "print(len(types))"
      ],
      "metadata": {
        "colab": {
          "base_uri": "https://localhost:8080/"
        },
        "id": "Im4dtrGwcjUb",
        "outputId": "9b80d0d6-2f1d-4e23-8077-f916a581e0eb"
      },
      "execution_count": 15,
      "outputs": [
        {
          "output_type": "stream",
          "name": "stdout",
          "text": [
            "1881\n"
          ]
        }
      ]
    },
    {
      "cell_type": "markdown",
      "source": [
        "### Counting invidual chords and removing the rare ones"
      ],
      "metadata": {
        "id": "fk7Iyf_tfbzr"
      }
    },
    {
      "cell_type": "code",
      "source": [
        "chord_counts = dict()\n",
        "for item in sorted(list(types.values())):\n",
        "  chord_counts[str(item)] = 1 + chord_counts[str(item)] if chord_counts.get(str(item)) is not None else 1\n",
        "\n",
        "chord_counts = {k: v for k, v in chord_counts.items() if v > 1}"
      ],
      "metadata": {
        "id": "VfX3UuRzfxKM"
      },
      "execution_count": 16,
      "outputs": []
    },
    {
      "cell_type": "code",
      "source": [
        "# Plotting the values\n",
        "import matplotlib.pyplot as plt\n",
        "\n",
        "# Extract the keys and values from the dictionary as lists\n",
        "keys = list(chord_counts.keys())\n",
        "values = list(chord_counts.values())\n",
        "\n",
        "# Change size\n",
        "plt.figure(figsize=(16, 12))\n",
        "\n",
        "# Create a bar chart using the plot function\n",
        "plt.bar(keys, values)\n",
        "\n",
        "# Add a title and axis labels\n",
        "plt.title('Number of types among chords with the same popularity (only values > 1)')\n",
        "plt.xlabel('Popularity')\n",
        "plt.ylabel('Types')\n",
        "\n",
        "# Rotate labels\n",
        "plt.xticks(rotation=90)\n",
        "\n",
        "# Display the plot\n",
        "plt.show()"
      ],
      "metadata": {
        "colab": {
          "base_uri": "https://localhost:8080/",
          "height": 738
        },
        "id": "N-qqcFaJeLsr",
        "outputId": "7bc15565-ae9f-473c-9210-d60ce55a1e17"
      },
      "execution_count": 17,
      "outputs": [
        {
          "output_type": "display_data",
          "data": {
            "text/plain": [
              "<Figure size 1152x864 with 1 Axes>"
            ],
            "image/png": "[encoded data removed]"
          },
          "metadata": {
            "image/png": {
              "width": 946,
              "height": 721
            },
            "needs_background": "light"
          }
        }
      ]
    },
    {
      "cell_type": "code",
      "source": [
        "from statistics import mean\n",
        "HOW_MANY = 20\n",
        "means = [mean([len(k)//4 for k, v in types.items() if v <= i]) for i in range(1, HOW_MANY + 1)]"
      ],
      "metadata": {
        "id": "Bx29u1RklvNM"
      },
      "execution_count": 18,
      "outputs": []
    },
    {
      "cell_type": "code",
      "source": [
        "# Plotting the means\n",
        "plt.figure(figsize=(10, 7))\n",
        "\n",
        "# Create a bar chart using the plot function\n",
        "plt.bar(list(range(1, HOW_MANY + 1)), means)\n",
        "\n",
        "# Add a title and axis labels\n",
        "plt.title('Avg length of rare chords')\n",
        "plt.xlabel('Popularity of a chord')\n",
        "plt.ylabel('Avg length')\n",
        "\n",
        "# Rotate labels\n",
        "plt.xticks(rotation=90)\n",
        "\n",
        "# Display the plot\n",
        "plt.show()"
      ],
      "metadata": {
        "colab": {
          "base_uri": "https://localhost:8080/",
          "height": 470
        },
        "id": "8uXOIKobmiLl",
        "outputId": "96566f86-7ca9-445a-9e52-9fd717f4f24d"
      },
      "execution_count": 19,
      "outputs": [
        {
          "output_type": "display_data",
          "data": {
            "text/plain": [
              "<Figure size 720x504 with 1 Axes>"
            ],
            "image/png": "[encoded data removed]"
          },
          "metadata": {
            "image/png": {
              "width": 608,
              "height": 453
            },
            "needs_background": "light"
          }
        }
      ]
    },
    {
      "cell_type": "markdown",
      "source": [
        "The avg length is around 3 for the rare chords, so I can probably shorten them to 2 notes for the encoding purposes, so i don't have to use 1881 different values"
      ],
      "metadata": {
        "id": "zj9AyFwHo3yl"
      }
    },
    {
      "cell_type": "markdown",
      "source": [
        "## Visualize melodies"
      ],
      "metadata": {
        "id": "VtYKuLXOo31g"
      }
    },
    {
      "cell_type": "code",
      "source": [
        "import music21\n",
        "from IPython.display import Image, Audio\n",
        "\n",
        "def show(music):\n",
        "  display(Image(str(music.write('lily.png'))))\n",
        "\n",
        "def play(music):\n",
        "  filename = music.write('mid')\n",
        "  !fluidsynth -ni font.sf2 $filename -F $filename\\.wav -r 16000 > /dev/null\n",
        "  display(Audio(filename + '.wav'))"
      ],
      "metadata": {
        "id": "LuD7JsX2pAJK"
      },
      "execution_count": 37,
      "outputs": []
    },
    {
      "cell_type": "code",
      "source": [
        "n = music21.note.Note('D#3')\n",
        "n.duration = duration.Duration(0.75)\n",
        "show(n)"
      ],
      "metadata": {
        "colab": {
          "base_uri": "https://localhost:8080/",
          "height": 118
        },
        "id": "7WmhlpMZpBOz",
        "outputId": "0d52c89e-c29d-4bfb-9d80-fabe994b3281"
      },
      "execution_count": 38,
      "outputs": [
        {
          "output_type": "display_data",
          "data": {
            "image/png": "[encoded data removed]",
            "text/plain": [
              "<IPython.core.display.Image object>"
            ]
          },
          "metadata": {}
        }
      ]
    },
    {
      "cell_type": "code",
      "source": [
        "play(n)"
      ],
      "metadata": {
        "colab": {
          "base_uri": "https://localhost:8080/",
          "height": 75
        },
        "id": "voGuiWp0pFu7",
        "outputId": "360688b6-4472-45f4-d4f7-f983a8ca21e1"
      },
      "execution_count": 39,
      "outputs": [
        {
          "output_type": "display_data",
          "data": {
            "text/plain": [
              "<IPython.lib.display.Audio object>"
            ],
            "text/html": [
              "\n",
              "                <audio  controls=\"controls\" >\n",
              "                    <source src=\"data:audio/x-wav;base64,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\" type=\"audio/x-wav\" />\n",
              "                    Your browser does not support the audio element.\n",
              "                </audio>\n",
              "              "
            ]
          },
          "metadata": {}
        }
      ]
    },
    {
      "cell_type": "code",
      "source": [
        "def create_midi_part(part_n):\n",
        "  melody = get_all_notes(part_n)\n",
        "  melody_ready = []\n",
        "  # Create really ugly and unnecessary for loop just for \n",
        "  for sound in melody:\n",
        "    if len(sound[1]) > 4:\n",
        "      new_note = note.Note(float(sound[1]), quarterLength = sound[2]) # use .nameWithOctave for note name only\n",
        "    else:\n",
        "      # new_note = chord.Chord([float (s) for s in sound[1].split()], quarterLength = sound[2]) <--- error here\n",
        "      pass\n",
        "    new_note.offset = sound[0]\n",
        "    melody_ready.append(new_note)\n",
        "  return melody_ready"
      ],
      "metadata": {
        "id": "CPf_ZZv2pK6K"
      },
      "execution_count": 60,
      "outputs": []
    },
    {
      "cell_type": "code",
      "source": [
        "melody_visual = create_midi_part(midi_list[0])\n",
        "melody_midi = stream.Stream(melody_visual)"
      ],
      "metadata": {
        "id": "oq28LGoFqbHX"
      },
      "execution_count": 61,
      "outputs": []
    },
    {
      "cell_type": "markdown",
      "source": [
        "## Simpifying chords and encoding"
      ],
      "metadata": {
        "id": "VfSF6AcsdpOD"
      }
    },
    {
      "cell_type": "code",
      "source": [
        "LIMIT = 8\n",
        "\n",
        "### Check if removing rare chords helps\n",
        "types_short = dict()\n",
        "id = 0\n",
        "for key, value in types.items(): \n",
        "  kcp = key[:9] if value <= LIMIT and len(key) > 9 else key\n",
        "  if types_short.get(kcp) is None:\n",
        "    types_short[kcp] = id\n",
        "    id += 1\n",
        "\n",
        "print(len(types_short))"
      ],
      "metadata": {
        "colab": {
          "base_uri": "https://localhost:8080/"
        },
        "id": "qjMQBTaQeNnV",
        "outputId": "60a5239d-fa7f-4dde-e6ba-2f592f6d5e14"
      },
      "execution_count": 34,
      "outputs": [
        {
          "output_type": "stream",
          "name": "stdout",
          "text": [
            "1176\n"
          ]
        }
      ]
    },
    {
      "cell_type": "markdown",
      "source": [
        "### Encoding"
      ],
      "metadata": {
        "id": "B4yL-XwsnkAw"
      }
    },
    {
      "cell_type": "code",
      "source": [],
      "metadata": {
        "colab": {
          "base_uri": "https://localhost:8080/"
        },
        "id": "2MfJdONqjY5m",
        "outputId": "a06e0a8d-04a4-4a25-faa6-49297a8939b3"
      },
      "execution_count": 35,
      "outputs": [
        {
          "output_type": "execute_result",
          "data": {
            "text/plain": [
              "{'68.0': 0,\n",
              " '69.0': 1,\n",
              " '70.0': 2,\n",
              " '71.0': 3,\n",
              " '72.0': 4,\n",
              " '73.0': 5,\n",
              " '74.0': 6,\n",
              " '75.0': 7,\n",
              " '84.0': 8,\n",
              " '85.0': 9,\n",
              " '87.0': 10,\n",
              " '80.0': 11,\n",
              " '82.0': 12,\n",
              " '67.0 72.0': 13,\n",
              " '68.0 75.0': 14,\n",
              " '75.0 80.0': 15,\n",
              " '80.0 84.0': 16,\n",
              " '82.0 85.0': 17,\n",
              " '82.0 89.0': 18,\n",
              " '84.0 87.0': 19,\n",
              " '79.0 82.0': 20,\n",
              " '85.0 89.0': 21,\n",
              " '80.0 87.0': 22,\n",
              " '75.0 85.0': 23,\n",
              " '72.0 84.0': 24,\n",
              " '84.0 92.0': 25,\n",
              " '92.0 99.0': 26,\n",
              " '87.0 97.0': 27,\n",
              " '84.0 96.0': 28,\n",
              " '97.0': 29,\n",
              " '91.0 99.0': 30,\n",
              " '94.0': 31,\n",
              " '91.0': 32,\n",
              " '89.0': 33,\n",
              " '78.0': 34,\n",
              " '64.0': 35,\n",
              " '83.0': 36,\n",
              " '66.0': 37,\n",
              " '90.0': 38,\n",
              " '52.0': 39,\n",
              " '59.0': 40,\n",
              " '54.0': 41,\n",
              " '56.0': 42,\n",
              " '63.0': 43,\n",
              " '75.0 78.0': 44,\n",
              " '40.0': 45,\n",
              " '76.0 85.0': 46,\n",
              " '73.0 83.0': 47,\n",
              " '47.0': 48,\n",
              " '70.0 78.0': 49,\n",
              " '78.0 82.0': 50,\n",
              " '80.0 83.0': 51,\n",
              " '42.0': 52,\n",
              " '73.0 78.0': 53,\n",
              " '78.0 83.0': 54,\n",
              " '58.0': 55,\n",
              " '44.0': 56,\n",
              " '51.0': 57,\n",
              " '61.0': 58,\n",
              " '78.0 85.0': 59,\n",
              " '54.0 59.0': 60,\n",
              " '48.0 53.0': 61,\n",
              " '41.0 70.0': 62,\n",
              " '41.0': 63,\n",
              " '72.0 75.0': 64,\n",
              " '46.0 51.0': 65,\n",
              " '39.0 75.0': 66,\n",
              " '77.0 80.0': 67,\n",
              " '39.0': 68,\n",
              " '39.0 65.0': 69,\n",
              " '44.0 49.0': 70,\n",
              " '37.0': 71,\n",
              " '37.0 75.0': 72,\n",
              " '43.0 48.0': 73,\n",
              " '68.0 72.0': 74,\n",
              " '36.0': 75,\n",
              " '70.0 73.0': 76,\n",
              " '36.0 63.0': 77,\n",
              " '41.0 46.0': 78,\n",
              " '34.0': 79,\n",
              " '34.0 75.0': 80,\n",
              " '45.0 52.0 60.0': 81,\n",
              " '47.0 54.0 62.0': 82,\n",
              " '49.0 56.0': 83,\n",
              " '65.0': 84,\n",
              " '50.0 57.0': 85,\n",
              " '52.0 59.0 67.0': 86,\n",
              " '51.0 58.0': 87,\n",
              " '54.0 61.0': 88,\n",
              " '64.0 69.0 72.0': 89,\n",
              " '45.0': 90,\n",
              " '50.0': 91,\n",
              " '66.0 71.0 74.0': 92,\n",
              " '55.0': 93,\n",
              " '57.0': 94,\n",
              " '68.0 73.0 76.0': 95,\n",
              " '69.0 74.0 77.0': 96,\n",
              " '71.0 76.0 79.0': 97,\n",
              " '60.0': 98,\n",
              " '62.0': 99,\n",
              " '70.0 75.0 78.0': 100,\n",
              " '73.0 78.0 81.0': 101,\n",
              " '45.0 52.0': 102,\n",
              " '57.0 60.0': 103,\n",
              " '44.0 51.0': 104,\n",
              " '56.0 59.0': 105,\n",
              " '49.0': 106,\n",
              " '56.0 61.0': 107,\n",
              " '46.0': 108,\n",
              " '54.0 60.0 63.0': 109,\n",
              " '48.0': 110,\n",
              " '59.0 64.0 67.0': 111,\n",
              " '58.0 63.0 66.0': 112,\n",
              " '61.0 66.0': 113,\n",
              " '60.0 65.0': 114,\n",
              " '48.0 55.0': 115,\n",
              " '60.0 64.0': 116,\n",
              " '59.0 66.0': 117,\n",
              " '76.0': 118,\n",
              " '86.0': 119,\n",
              " '88.0': 120,\n",
              " '79.0': 121,\n",
              " '93.0': 122,\n",
              " '24.0': 123,\n",
              " '23.0': 124,\n",
              " '28.0': 125,\n",
              " '67.0': 126,\n",
              " '33.0': 127,\n",
              " '57.0 66.0': 128,\n",
              " '59.0 67.0': 129,\n",
              " '60.0 69.0': 130,\n",
              " '27.0': 131,\n",
              " '63.0 71.0': 132,\n",
              " '64.0 67.0': 133,\n",
              " '59.0 64.0': 134,\n",
              " '57.0 62.0': 135,\n",
              " '55.0 60.0': 136,\n",
              " '54.0 62.0': 137,\n",
              " '52.0 60.0': 138,\n",
              " '50.0 59.0': 139,\n",
              " '54.0 64.0': 140,\n",
              " '55.0 59.0': 141,\n",
              " '54.0 57.0': 142,\n",
              " '26.0': 143,\n",
              " '54.0 66.0': 144,\n",
              " '55.0 67.0': 145,\n",
              " '64.0 69.0': 146,\n",
              " '30.0': 147,\n",
              " '31.0': 148,\n",
              " '62.0 66.0': 149,\n",
              " '38.0': 150,\n",
              " '60.0 67.0': 151,\n",
              " '61.0 67.0': 152,\n",
              " '62.0 67.0': 153,\n",
              " '35.0': 154,\n",
              " '55.0 64.0': 155,\n",
              " '57.0 65.0': 156,\n",
              " '29.0': 157,\n",
              " '74.0 86.0': 158,\n",
              " '76.0 88.0': 159,\n",
              " '71.0 83.0': 160,\n",
              " '52.0 57.0 61.0': 161,\n",
              " '50.0 55.0 59.0': 162,\n",
              " '67.0 71.0': 163,\n",
              " '81.0': 164,\n",
              " '69.0 71.0': 165,\n",
              " '66.0 69.0': 166,\n",
              " '67.0 69.0': 167,\n",
              " '83.0 86.0': 168,\n",
              " '71.0 74.0': 169,\n",
              " '76.0 79.0': 170,\n",
              " '78.0 81.0': 171,\n",
              " '79.0 83.0': 172,\n",
              " '74.0 83.0': 173,\n",
              " '74.0 78.0': 174,\n",
              " '74.0 79.0': 175,\n",
              " '67.0 74.0': 176,\n",
              " '74.0 76.0': 177,\n",
              " '69.0 73.0': 178,\n",
              " '73.0 76.0': 179,\n",
              " '81.0 88.0': 180,\n",
              " '78.0 86.0': 181,\n",
              " '74.0 81.0': 182,\n",
              " '72.0 77.0': 183,\n",
              " '71.0 76.0': 184,\n",
              " '95.0': 185,\n",
              " '70.0 74.0': 186,\n",
              " '92.0': 187,\n",
              " '71.0 75.0': 188,\n",
              " '73.0 75.0': 189,\n",
              " '71.0 78.0': 190,\n",
              " '58.0 65.0': 191,\n",
              " '57.0 58.0': 192,\n",
              " '55.0 56.0': 193,\n",
              " '55.0 63.0': 194,\n",
              " '55.0 58.0': 195,\n",
              " '65.0 69.0': 196,\n",
              " '62.0 65.0': 197,\n",
              " '63.0 67.0': 198,\n",
              " '58.0 62.0': 199,\n",
              " '55.0 70.0': 200,\n",
              " '69.0 72.0': 201,\n",
              " '53.0': 202,\n",
              " '67.0 70.0': 203,\n",
              " '53.0 58.0': 204,\n",
              " '53.0 57.0': 205,\n",
              " '65.0 74.0': 206,\n",
              " '62.0 65.0 69.0': 207,\n",
              " '77.0': 208,\n",
              " '62.0 69.0': 209,\n",
              " '62.0 74.0': 210,\n",
              " '56.0 60.0': 211,\n",
              " '63.0 68.0': 212,\n",
              " '63.0 70.0': 213,\n",
              " '57.0 64.0': 214,\n",
              " '65.0 70.0': 215,\n",
              " '75.0 79.0': 216,\n",
              " '74.0 77.0': 217,\n",
              " '44.0 58.0': 218,\n",
              " '51.0 65.0': 219,\n",
              " '44.0 63.0': 220,\n",
              " '51.0 63.0': 221,\n",
              " '43.0 58.0': 222,\n",
              " '43.0 63.0': 223,\n",
              " '43.0': 224,\n",
              " '51.0 67.0': 225,\n",
              " '46.0 58.0': 226,\n",
              " '46.0 63.0': 227,\n",
              " '48.0 63.0': 228,\n",
              " '56.0 63.0': 229,\n",
              " '58.0 63.0': 230,\n",
              " '58.0 70.0': 231,\n",
              " '70.0 82.0': 232,\n",
              " '65.0 77.0': 233,\n",
              " '63.0 75.0': 234,\n",
              " '43.0 51.0': 235,\n",
              " '48.0 51.0': 236,\n",
              " '44.0 89.0': 237,\n",
              " '51.0 87.0': 238,\n",
              " '75.0 87.0': 239,\n",
              " '43.0 74.0': 240,\n",
              " '43.0 79.0': 241,\n",
              " '53.0 84.0': 242,\n",
              " '74.0 89.0': 243,\n",
              " '82.0 87.0': 244,\n",
              " '44.0 87.0': 245,\n",
              " '51.0 89.0': 246,\n",
              " '82.0 91.0': 247,\n",
              " '32.0': 248,\n",
              " '63.0 82.0': 249,\n",
              " '60.0 63.0': 250,\n",
              " '56.0 79.0': 251,\n",
              " '60.0 62.0': 252,\n",
              " '56.0 75.0': 253,\n",
              " '60.0 75.0': 254,\n",
              " '58.0 75.0': 255,\n",
              " '46.0 72.0': 256,\n",
              " '70.0 75.0': 257,\n",
              " '46.0 74.0': 258,\n",
              " '46.0 75.0': 259,\n",
              " '53.0 77.0': 260,\n",
              " '43.0 75.0': 261,\n",
              " '43.0 70.0': 262,\n",
              " '46.0 87.0': 263,\n",
              " '51.0 86.0': 264,\n",
              " '55.0 82.0': 265,\n",
              " '53.0 70.0': 266,\n",
              " '44.0 75.0': 267,\n",
              " '44.0 77.0': 268,\n",
              " '46.0 70.0': 269,\n",
              " '43.0 82.0': 270,\n",
              " '36.0 58.0': 271,\n",
              " '46.0 79.0': 272,\n",
              " '55.0 87.0': 273,\n",
              " '53.0 82.0': 274,\n",
              " '39.0 51.0': 275,\n",
              " '43.0 55.0': 276,\n",
              " '44.0 56.0': 277,\n",
              " '53.0 65.0': 278,\n",
              " '51.0 55.0': 279,\n",
              " '46.0 50.0': 280,\n",
              " '45.0 76.0': 281,\n",
              " '45.0 78.0': 282,\n",
              " '66.0 71.0': 283,\n",
              " '47.0 52.0': 284,\n",
              " '47.0 71.0': 285,\n",
              " '47.0 73.0': 286,\n",
              " '68.0 71.0': 287,\n",
              " '44.0 83.0': 288,\n",
              " '44.0 76.0': 289,\n",
              " '37.0 59.0': 290,\n",
              " '47.0 80.0': 291,\n",
              " '52.0 87.0': 292,\n",
              " '56.0 88.0': 293,\n",
              " '54.0 83.0': 294,\n",
              " '66.0 78.0': 295,\n",
              " '44.0 71.0': 296,\n",
              " '37.0 64.0': 297,\n",
              " '47.0 88.0': 298,\n",
              " '56.0 83.0': 299,\n",
              " '54.0 71.0': 300,\n",
              " '43.0 60.0': 301,\n",
              " '45.0 72.0': 302,\n",
              " '43.0 67.0': 303,\n",
              " '42.0 60.0': 304,\n",
              " '42.0 57.0': 305,\n",
              " '42.0 72.0': 306,\n",
              " '43.0 72.0': 307,\n",
              " '42.0 63.0': 308,\n",
              " '45.0 67.0': 309,\n",
              " '72.0 80.0': 310,\n",
              " '71.0 79.0': 311,\n",
              " '43.0 78.0': 312,\n",
              " '79.0 84.0': 313,\n",
              " '42.0 67.0': 314,\n",
              " '71.0 77.0': 315,\n",
              " '42.0 69.0': 316,\n",
              " '43.0 69.0': 317,\n",
              " '59.0 71.0': 318,\n",
              " '36.0 60.0 72.0': 319,\n",
              " '48.0 65.0': 320,\n",
              " '48.0 72.0': 321,\n",
              " '65.0 68.0': 322,\n",
              " '50.0 67.0': 323,\n",
              " '50.0 74.0': 324,\n",
              " '51.0 72.0': 325,\n",
              " '51.0 80.0': 326,\n",
              " '46.0 80.0': 327,\n",
              " '50.0 84.0': 328,\n",
              " '50.0 80.0': 329,\n",
              " '55.0 79.0': 330,\n",
              " '41.0 53.0': 331,\n",
              " '38.0 50.0': 332,\n",
              " '60.0 72.0': 333,\n",
              " '62.0 77.0': 334,\n",
              " '50.0 75.0': 335,\n",
              " '46.0 53.0 58.0': 336,\n",
              " '48.0 60.0': 337,\n",
              " '50.0 57.0 62.0': 338,\n",
              " '69.0 76.0': 339,\n",
              " '56.0 84.0': 340,\n",
              " '41.0 68.0': 341,\n",
              " '34.0 72.0': 342,\n",
              " '48.0 70.0': 343,\n",
              " '36.0 72.0': 344,\n",
              " '48.0 68.0': 345,\n",
              " '44.0 72.0': 346,\n",
              " '48.0 80.0': 347,\n",
              " '44.0 68.0': 348,\n",
              " '49.0 75.0': 349,\n",
              " '37.0 77.0': 350,\n",
              " '44.0 70.0': 351,\n",
              " '49.0 72.0': 352,\n",
              " '37.0 70.0': 353,\n",
              " '34.0 67.0': 354,\n",
              " '41.0 63.0': 355,\n",
              " '48.0 75.0': 356,\n",
              " '37.0 65.0': 357,\n",
              " '49.0 68.0': 358,\n",
              " '64.0 72.0': 359,\n",
              " '62.0 71.0': 360,\n",
              " '64.0 71.0': 361,\n",
              " '67.0 76.0': 362,\n",
              " '68.0 71.0 73.0': 363,\n",
              " '66.0 71.0 75.0': 364,\n",
              " '68.0 71.0 76.0': 365,\n",
              " '56.0 68.0': 366,\n",
              " '37.0 68.0': 367,\n",
              " '64.0 69.0 73.0': 368,\n",
              " '66.0 69.0 74.0': 369,\n",
              " '35.0 66.0 69.0 71.0': 370,\n",
              " '42.0 66.0 69.0 71.0': 371,\n",
              " '37.0 76.0': 372,\n",
              " '44.0 73.0': 373,\n",
              " '51.0 75.0': 374,\n",
              " '40.0 68.0': 375,\n",
              " '44.0 68.0 71.0': 376,\n",
              " '56.0 76.0': 377,\n",
              " '37.0 80.0': 378,\n",
              " '44.0 78.0': 379,\n",
              " '51.0 83.0': 380,\n",
              " '39.0 68.0': 381,\n",
              " '51.0 71.0': 382,\n",
              " '76.0 80.0': 383,\n",
              " '80.0 85.0': 384,\n",
              " '43.0 83.0': 385,\n",
              " '31.0 81.0': 386,\n",
              " '43.0 76.0': 387,\n",
              " '31.0 74.0': 388,\n",
              " '66.0 74.0': 389,\n",
              " '42.0 83.0': 390,\n",
              " '30.0 81.0': 391,\n",
              " '42.0 76.0': 392,\n",
              " '30.0 74.0': 393,\n",
              " '45.0 83.0': 394,\n",
              " '33.0 81.0': 395,\n",
              " '64.0 73.0': 396,\n",
              " '32.0 81.0': 397,\n",
              " '32.0 74.0': 398,\n",
              " '32.0 76.0': 399,\n",
              " '66.0 73.0': 400,\n",
              " '42.0 82.0': 401,\n",
              " '30.0 80.0': 402,\n",
              " '46.0 76.0': 403,\n",
              " '34.0 78.0': 404,\n",
              " '35.0 66.0': 405,\n",
              " '69.0 75.0': 406,\n",
              " '45.0 69.0': 407,\n",
              " '68.0 76.0': 408,\n",
              " '40.0 71.0': 409,\n",
              " '42.0 71.0': 410,\n",
              " '45.0 85.0': 411,\n",
              " '33.0 83.0': 412,\n",
              " '33.0 76.0': 413,\n",
              " '44.0 85.0': 414,\n",
              " '32.0 83.0': 415,\n",
              " '47.0 85.0': 416,\n",
              " '35.0 83.0': 417,\n",
              " '47.0 78.0': 418,\n",
              " '66.0 75.0': 419,\n",
              " '46.0 85.0': 420,\n",
              " '34.0 83.0': 421,\n",
              " '46.0 78.0': 422,\n",
              " '34.0 76.0': 423,\n",
              " '68.0 73.0': 424,\n",
              " '44.0 84.0': 425,\n",
              " '32.0 82.0': 426,\n",
              " '48.0 78.0': 427,\n",
              " '36.0 80.0': 428,\n",
              " '62.0 83.0': 429,\n",
              " '62.0 76.0': 430,\n",
              " '62.0 81.0': 431,\n",
              " '62.0 85.0': 432,\n",
              " '61.0 83.0': 433,\n",
              " '61.0 76.0': 434,\n",
              " '61.0 81.0': 435,\n",
              " '66.0 76.0': 436,\n",
              " '66.0 85.0': 437,\n",
              " '66.0 83.0': 438,\n",
              " '73.0 81.0': 439,\n",
              " '71.0 80.0': 440,\n",
              " '73.0 80.0': 441,\n",
              " '61.0 71.0': 442,\n",
              " '58.0 64.0 67.0': 443,\n",
              " '61.0 67.0 70.0': 444,\n",
              " '63.0 69.0 72.0': 445,\n",
              " '65.0 71.0 74.0': 446,\n",
              " '69.0 74.0': 447,\n",
              " '63.0 69.0': 448,\n",
              " '68.0 74.0 77.0': 449,\n",
              " '57.0 63.0 66.0': 450,\n",
              " '60.0 66.0': 451,\n",
              " '56.0 62.0 65.0': 452,\n",
              " '59.0 65.0': 453,\n",
              " '53.0 59.0 62.0': 454,\n",
              " '30.0 78.0': 455,\n",
              " '38.0 81.0': 456,\n",
              " '66.0 72.0': 457,\n",
              " '67.0 79.0': 458,\n",
              " '61.0 73.0': 459,\n",
              " '43.0 73.0': 460,\n",
              " '67.0 78.0': 461,\n",
              " '43.0 70.0 74.0': 462,\n",
              " '36.0 61.0 73.0': 463,\n",
              " '34.0 70.0': 464,\n",
              " '36.0 55.0 67.0': 465,\n",
              " '37.0 62.0': 466,\n",
              " '38.0 53.0 60.0 65.0': 467,\n",
              " '43.0 55.0 62.0 67.0': 468,\n",
              " '43.0 65.0': 469,\n",
              " '72.0 79.0': 470,\n",
              " '39.0 73.0': 471,\n",
              " '39.0 72.0': 472,\n",
              " '58.0 61.0': 473,\n",
              " '39.0 60.0 67.0 73.0': 474,\n",
              " '43.0 53.0 62.0 65.0': 475,\n",
              " '42.0 54.0 63.0 66.0': 476,\n",
              " '43.0 55.0 64.0 67.0': 477,\n",
              " '58.0 67.0': 478,\n",
              " '52.0 58.0 61.0': 479,\n",
              " '53.0 56.0 62.0 65.0': 480,\n",
              " '54.0 57.0 63.0 66.0': 481,\n",
              " '55.0 58.0 64.0 67.0': 482,\n",
              " '50.0 53.0 59.0 62.0': 483,\n",
              " '53.0 62.0': 484,\n",
              " '55.0 58.0 67.0': 485,\n",
              " '51.0 54.0 60.0 63.0': 486,\n",
              " '41.0 50.0 53.0 62.0 74.0': 487,\n",
              " '42.0 51.0 54.0 65.0 77.0': 488,\n",
              " '43.0 52.0 55.0 70.0 79.0': 489,\n",
              " '38.0 67.0': 490,\n",
              " '41.0 50.0 53.0 74.0': 491,\n",
              " '42.0 51.0 54.0 77.0': 492,\n",
              " '54.0 70.0': 493,\n",
              " '41.0 53.0 72.0 82.0': 494,\n",
              " '41.0 50.0 53.0 82.0': 495,\n",
              " '53.0 72.0': 496,\n",
              " '42.0 81.0': 497,\n",
              " '51.0 70.0': 498,\n",
              " '38.0 47.0 50.0 67.0 77.0': 499,\n",
              " '42.0 77.0': 500,\n",
              " '54.0 65.0': 501,\n",
              " '43.0 52.0 55.0 67.0 79.0': 502,\n",
              " '42.0 70.0': 503,\n",
              " '38.0 47.0 50.0': 504,\n",
              " '43.0 72.0 79.0': 505,\n",
              " '37.0 46.0 49.0': 506,\n",
              " '70.0 77.0': 507,\n",
              " '39.0 48.0 51.0': 508,\n",
              " '70.0 74.0 79.0': 509,\n",
              " '50.0 62.0': 510,\n",
              " '50.0 54.0': 511,\n",
              " '50.0 55.0': 512,\n",
              " '43.0 50.0': 513,\n",
              " '70.0 79.0': 514,\n",
              " '46.0 62.0': 515,\n",
              " '55.0 62.0': 516,\n",
              " '46.0 64.0': 517,\n",
              " '48.0 64.0': 518,\n",
              " '50.0 69.0': 519,\n",
              " '45.0 64.0': 520,\n",
              " '65.0 66.0': 521,\n",
              " '63.0 64.0': 522,\n",
              " '66.0 70.0': 523,\n",
              " '66.0 68.0': 524,\n",
              " '65.0 73.0': 525,\n",
              " '83.0 90.0': 526,\n",
              " '87.0 94.0': 527,\n",
              " '85.0 92.0': 528,\n",
              " '73.0 77.0': 529,\n",
              " '63.0 72.0': 530,\n",
              " '63.0 66.0': 531,\n",
              " '61.0 65.0': 532,\n",
              " '96.0 99.0': 533,\n",
              " '94.0 97.0': 534,\n",
              " '90.0 96.0': 535,\n",
              " '92.0 96.0': 536,\n",
              " '90.0 94.0': 537,\n",
              " '89.0 92.0': 538,\n",
              " '64.0 76.0': 539,\n",
              " '72.0 76.0': 540,\n",
              " '77.0 81.0': 541,\n",
              " '69.0 82.0': 542,\n",
              " '65.0 79.0': 543,\n",
              " '67.0 75.0': 544,\n",
              " '67.0 77.0': 545,\n",
              " '70.0 76.0': 546,\n",
              " '60.0 68.0': 547,\n",
              " '68.0 74.0': 548,\n",
              " '68.0 77.0': 549,\n",
              " '76.0 81.0': 550,\n",
              " '40.0 52.0': 551,\n",
              " '40.0 50.0': 552,\n",
              " '40.0 47.0': 553,\n",
              " '40.0 45.0': 554,\n",
              " '40.0 43.0': 555,\n",
              " '43.0 52.0': 556,\n",
              " '43.0 47.0': 557,\n",
              " '43.0 45.0': 558,\n",
              " '42.0 52.0': 559,\n",
              " '42.0 50.0': 560,\n",
              " '42.0 47.0': 561,\n",
              " '42.0 45.0': 562,\n",
              " '42.0 43.0': 563,\n",
              " '52.0 59.0': 564,\n",
              " '45.0 55.0': 565,\n",
              " '52.0 69.0': 566,\n",
              " '52.0 67.0': 567,\n",
              " '45.0 62.0': 568,\n",
              " '52.0 64.0': 569,\n",
              " '52.0 62.0': 570,\n",
              " '45.0 57.0': 571,\n",
              " '50.0 52.0': 572,\n",
              " '45.0 50.0': 573,\n",
              " '43.0 53.0': 574,\n",
              " '44.0 48.0': 575,\n",
              " '52.0 55.0': 576,\n",
              " '40.0 41.0 58.0': 577,\n",
              " '40.0 41.0 46.0 58.0 70.0': 578,\n",
              " '46.0 58.0 70.0': 579,\n",
              " '40.0 41.0': 580,\n",
              " '40.0 46.0': 581,\n",
              " '39.0 40.0 57.0': 582,\n",
              " '39.0 40.0 45.0 57.0 69.0': 583,\n",
              " '39.0 45.0': 584,\n",
              " '43.0 44.0 61.0': 585,\n",
              " '49.0 73.0': 586,\n",
              " '43.0 44.0 49.0 61.0 73.0': 587,\n",
              " '43.0 49.0': 588,\n",
              " '43.0 61.0': 589,\n",
              " '40.0 58.0': 590,\n",
              " '44.0 62.0': 591,\n",
              " '44.0 45.0 62.0': 592,\n",
              " '44.0 45.0 50.0 62.0 74.0': 593,\n",
              " '44.0 50.0': 594,\n",
              " '56.0 61.0 65.0': 595,\n",
              " '35.0 47.0': 596,\n",
              " '48.0 56.0': 597,\n",
              " '49.0 63.0': 598,\n",
              " '47.0 59.0': 599,\n",
              " '58.0 63.0 67.0': 600,\n",
              " '52.0 56.0': 601,\n",
              " '41.0 58.0': 602,\n",
              " '57.0 81.0': 603,\n",
              " '59.0 78.0': 604,\n",
              " '52.0 80.0': 605,\n",
              " '59.0 75.0': 606,\n",
              " '57.0 73.0': 607,\n",
              " '54.0 76.0': 608,\n",
              " '61.0 75.0': 609,\n",
              " '57.0 78.0': 610,\n",
              " '59.0 73.0': 611,\n",
              " '47.0 68.0': 612,\n",
              " '59.0 63.0': 613,\n",
              " '47.0 87.0': 614,\n",
              " '54.0 88.0': 615,\n",
              " '57.0 87.0': 616,\n",
              " '51.0 54.0': 617,\n",
              " '47.0 51.0': 618,\n",
              " '49.0 52.0': 619,\n",
              " '80.0 92.0': 620,\n",
              " '81.0 93.0': 621,\n",
              " '76.0 83.0': 622,\n",
              " '78.0 87.0': 623,\n",
              " '61.0 68.0': 624,\n",
              " '59.0 68.0': 625,\n",
              " '61.0 69.0': 626,\n",
              " '77.0 85.0': 627,\n",
              " '38.0 73.0': 628,\n",
              " '42.0 78.0': 629,\n",
              " '49.0 81.0': 630,\n",
              " '40.0 73.0': 631,\n",
              " '54.0 78.0': 632,\n",
              " '38.0 66.0': 633,\n",
              " '42.0 73.0': 634,\n",
              " '49.0 78.0': 635,\n",
              " '40.0 69.0': 636,\n",
              " '81.0 85.0': 637,\n",
              " '83.0 88.0': 638,\n",
              " '56.0 64.0': 639,\n",
              " '57.0 61.0': 640,\n",
              " '45.0 61.0': 641,\n",
              " '42.0 62.0': 642,\n",
              " '40.0 61.0': 643,\n",
              " '52.0 61.0': 644,\n",
              " '47.0 64.0': 645,\n",
              " '52.0 68.0': 646,\n",
              " '52.0 73.0': 647,\n",
              " '64.0 68.0': 648,\n",
              " '39.0 70.0': 649,\n",
              " '45.0 70.0': 650,\n",
              " '58.0 77.0': 651,\n",
              " '47.0 82.0': 652,\n",
              " '55.0 77.0': 653,\n",
              " '39.0 74.0': 654,\n",
              " '39.0 94.0': 655,\n",
              " '38.0 89.0': 656,\n",
              " '38.0 74.0': 657,\n",
              " '36.0 70.0': 658,\n",
              " '39.0 67.0': 659,\n",
              " '38.0 70.0': 660,\n",
              " '69.0 77.0': 661,\n",
              " '56.0 77.0': 662,\n",
              " '45.0 75.0': 663,\n",
              " '46.0 65.0': 664,\n",
              " '56.0 70.0': 665,\n",
              " '44.0 74.0': 666,\n",
              " '77.0 86.0': 667,\n",
              " '79.0 87.0 91.0': 668,\n",
              " '75.0 84.0': 669,\n",
              " '53.0 81.0': 670,\n",
              " '77.0 82.0': 671,\n",
              " '74.0 82.0': 672,\n",
              " '70.0 86.0': 673,\n",
              " '75.0 82.0': 674,\n",
              " '75.0 86.0': 675,\n",
              " '41.0 72.0': 676,\n",
              " '43.0 46.0': 677,\n",
              " '63.0 65.0': 678,\n",
              " '63.0 65.0 70.0': 679,\n",
              " '77.0 84.0': 680,\n",
              " '65.0 72.0': 681,\n",
              " '72.0 81.0': 682,\n",
              " '84.0 93.0': 683,\n",
              " '86.0 94.0': 684,\n",
              " '81.0 89.0': 685,\n",
              " '82.0 86.0': 686,\n",
              " '57.0 69.0': 687,\n",
              " '39.0 46.0 51.0': 688,\n",
              " '38.0 45.0 50.0': 689,\n",
              " '46.0 82.0': 690,\n",
              " '46.0 81.0': 691,\n",
              " '46.0 77.0': 692,\n",
              " '48.0 74.0': 693,\n",
              " '50.0 65.0': 694,\n",
              " '36.0 43.0': 695,\n",
              " '36.0 43.0 48.0': 696,\n",
              " '38.0 45.0': 697,\n",
              " '39.0 46.0': 698,\n",
              " '41.0 48.0': 699,\n",
              " '41.0 48.0 53.0': 700,\n",
              " '36.0 53.0': 701,\n",
              " '38.0 60.0': 702,\n",
              " '39.0 53.0': 703,\n",
              " '41.0 60.0': 704,\n",
              " '43.0 50.0 55.0': 705,\n",
              " '62.0 70.0': 706,\n",
              " '39.0 62.0': 707,\n",
              " '39.0 63.0': 708,\n",
              " '41.0 67.0': 709,\n",
              " '37.0 44.0 49.0': 710,\n",
              " '37.0 54.0': 711,\n",
              " '37.0 44.0': 712,\n",
              " '39.0 61.0': 713,\n",
              " '61.0 64.0': 714,\n",
              " '40.0 47.0 52.0': 715,\n",
              " '40.0 54.0': 716,\n",
              " '42.0 49.0': 717,\n",
              " '42.0 68.0': 718,\n",
              " '44.0 59.0': 719,\n",
              " '44.0 54.0': 720,\n",
              " '49.0 61.0': 721,\n",
              " '42.0 54.0': 722,\n",
              " '54.0 58.0': 723,\n",
              " '37.0 49.0': 724,\n",
              " '39.0 66.0 70.0 78.0': 725,\n",
              " '44.0 66.0': 726,\n",
              " '64.0 70.0 73.0': 727,\n",
              " '39.0 66.0': 728,\n",
              " '54.0 73.0': 729,\n",
              " '23.0 35.0': 730,\n",
              " '62.0 78.0': 731,\n",
              " '69.0 78.0': 732,\n",
              " '59.0 76.0': 733,\n",
              " '63.0 78.0': 734,\n",
              " '55.0 78.0': 735,\n",
              " '59.0 79.0': 736,\n",
              " '61.0 78.0': 737,\n",
              " '59.0 62.0': 738,\n",
              " '73.0 85.0': 739,\n",
              " '58.0 73.0': 740,\n",
              " '64.0 74.0': 741,\n",
              " '53.0 56.0': 742,\n",
              " '46.0 49.0 58.0': 743,\n",
              " '46.0 49.0': 744,\n",
              " '44.0 60.0': 745,\n",
              " '49.0 53.0': 746,\n",
              " '42.0 58.0': 747,\n",
              " '41.0 44.0': 748,\n",
              " '37.0 51.0': 749,\n",
              " '48.0 51.0 54.0 60.0': 750,\n",
              " '37.0 49.0 71.0 78.0 83.0': 751,\n",
              " '37.0 49.0 64.0 71.0 76.0': 752,\n",
              " '35.0 61.0': 753,\n",
              " '35.0 59.0': 754,\n",
              " '33.0 45.0': 755,\n",
              " '38.0 50.0 72.0 79.0 84.0': 756,\n",
              " '38.0 50.0 65.0 72.0 77.0': 757,\n",
              " '36.0 62.0': 758,\n",
              " '36.0 60.0': 759,\n",
              " '34.0 46.0': 760,\n",
              " '36.0 48.0': 761,\n",
              " '56.0 62.0': 762,\n",
              " '56.0 58.0': 763,\n",
              " '99.0': 764,\n",
              " '52.0 88.0': 765,\n",
              " '44.0 52.0': 766,\n",
              " '54.0 85.0': 767,\n",
              " '75.0 90.0': 768,\n",
              " '52.0 90.0': 769,\n",
              " '83.0 92.0': 770,\n",
              " '49.0 76.0': 771,\n",
              " '56.0 65.0': 772,\n",
              " '61.0 70.0': 773,\n",
              " '48.0 84.0': 774,\n",
              " '41.0 65.0': 775,\n",
              " '52.0 70.0': 776,\n",
              " '68.0 80.0': 777,\n",
              " '68.0 77.0 80.0': 778,\n",
              " '65.0 72.0 77.0': 779,\n",
              " '67.0 73.0': 780,\n",
              " '77.0 89.0': 781,\n",
              " '49.0 71.0': 782,\n",
              " '41.0 77.0': 783,\n",
              " '49.0 77.0': 784,\n",
              " '48.0 79.0': 785,\n",
              " '48.0 77.0': 786,\n",
              " '53.0 80.0': 787,\n",
              " '48.0 82.0': 788,\n",
              " '56.0 80.0': 789,\n",
              " '53.0 79.0': 790,\n",
              " '49.0 85.0': 791,\n",
              " '70.0 94.0': 792,\n",
              " '68.0 92.0': 793,\n",
              " '68.0 94.0': 794,\n",
              " '70.0 92.0': 795,\n",
              " '65.0 92.0': 796,\n",
              " '72.0 94.0': 797,\n",
              " '73.0 88.0': 798,\n",
              " '65.0 95.0': 799,\n",
              " '72.0 92.0': 800,\n",
              " '63.0 94.0': 801,\n",
              " '62.0 92.0': 802,\n",
              " '58.0 80.0': 803,\n",
              " '60.0 82.0': 804,\n",
              " '58.0 82.0': 805,\n",
              " '56.0 82.0': 806,\n",
              " '51.0 82.0': 807,\n",
              " '60.0 80.0': 808,\n",
              " '65.0 68.0 72.0': 809,\n",
              " '75.0 77.0': 810,\n",
              " '72.0 73.0': 811,\n",
              " '63.0 67.0 70.0': 812,\n",
              " '79.0 91.0': 813,\n",
              " '75.0 81.0': 814,\n",
              " '55.0 61.0': 815,\n",
              " '82.0 94.0': 816,\n",
              " '83.0 95.0': 817,\n",
              " '85.0 97.0': 818,\n",
              " '63.0 66.0 70.0': 819,\n",
              " '66.0 70.0 73.0': 820,\n",
              " '55.0 72.0': 821,\n",
              " '53.0 69.0': 822,\n",
              " '48.0 52.0': 823,\n",
              " '51.0 74.0': 824,\n",
              " '38.0 72.0': 825,\n",
              " '38.0 69.0': 826,\n",
              " '53.0 60.0': 827,\n",
              " '45.0 60.0': 828,\n",
              " '41.0 69.0': 829,\n",
              " '48.0 69.0': 830,\n",
              " '50.0 70.0': 831,\n",
              " '43.0 62.0': 832,\n",
              " '38.0 65.0': 833,\n",
              " '50.0 68.0': 834,\n",
              " '48.0 67.0': 835,\n",
              " '48.0 62.0': 836,\n",
              " '47.0 74.0': 837,\n",
              " '47.0 69.0': 838,\n",
              " '47.0 67.0': 839,\n",
              " '47.0 62.0': 840,\n",
              " '47.0 65.0': 841,\n",
              " '46.0 69.0': 842,\n",
              " '38.0 62.0': 843,\n",
              " '36.0 69.0': 844,\n",
              " '36.0 67.0': 845,\n",
              " '35.0 69.0': 846,\n",
              " '35.0 67.0': 847,\n",
              " '35.0 62.0': 848,\n",
              " '34.0 69.0': 849,\n",
              " '38.0 77.0': 850,\n",
              " '36.0 77.0': 851,\n",
              " '36.0 79.0': 852,\n",
              " '36.0 74.0': 853,\n",
              " '35.0 77.0': 854,\n",
              " '35.0 79.0': 855,\n",
              " '35.0 81.0': 856,\n",
              " '34.0 86.0': 857,\n",
              " '34.0 81.0': 858,\n",
              " '46.0 86.0': 859,\n",
              " '50.0 77.0': 860,\n",
              " '38.0 43.0': 861,\n",
              " '36.0 45.0': 862,\n",
              " '36.0 76.0': 863,\n",
              " '50.0 72.0': 864,\n",
              " '35.0 45.0': 865,\n",
              " '35.0 74.0': 866,\n",
              " '50.0 71.0': 867,\n",
              " '35.0 43.0': 868,\n",
              " '35.0 71.0': 869,\n",
              " '50.0 76.0': 870,\n",
              " '41.0 71.0': 871,\n",
              " '34.0 45.0': 872,\n",
              " '34.0 74.0': 873,\n",
              " '76.0 84.0': 874,\n",
              " '34.0 77.0': 875,\n",
              " '38.0 79.0': 876,\n",
              " '37.0 85.0': 877,\n",
              " '37.0 79.0': 878,\n",
              " '34.0 62.0': 879,\n",
              " '38.0 80.0': 880,\n",
              " '50.0 79.0': 881,\n",
              " '38.0 78.0': 882,\n",
              " '38.0 76.0': 883,\n",
              " '34.0 57.0': 884,\n",
              " '34.0 50.0': 885,\n",
              " '36.0 57.0': 886,\n",
              " '36.0 50.0': 887,\n",
              " '35.0 57.0': 888,\n",
              " '35.0 50.0': 889,\n",
              " '34.0 53.0 58.0': 890,\n",
              " '36.0 55.0 60.0': 891,\n",
              " '48.0 55.0 60.0': 892,\n",
              " '38.0 57.0': 893,\n",
              " '37.0 56.0': 894,\n",
              " '35.0 54.0': 895,\n",
              " '47.0 54.0': 896,\n",
              " '38.0 55.0': 897,\n",
              " '49.0 54.0': 898,\n",
              " '49.0 55.0': 899,\n",
              " '51.0 56.0': 900,\n",
              " '58.0 68.0': 901,\n",
              " '35.0 42.0': 902,\n",
              " '28.0 40.0': 903,\n",
              " '30.0 42.0': 904,\n",
              " '46.0 53.0': 905,\n",
              " '45.0 48.0': 906,\n",
              " '42.0 75.0': 907,\n",
              " '35.0 73.0': 908,\n",
              " '39.0 42.0': 909,\n",
              " '30.0 73.0': 910,\n",
              " '58.0 66.0': 911,\n",
              " '37.0 41.0': 912,\n",
              " '37.0 39.0': 913,\n",
              " '27.0 73.0': 914,\n",
              " '35.0 39.0': 915,\n",
              " '39.0 77.0': 916,\n",
              " '80.0 89.0': 917,\n",
              " '85.0 90.0': 918,\n",
              " '37.0 42.0': 919,\n",
              " '34.0 73.0': 920,\n",
              " '34.0 37.0': 921,\n",
              " '25.0': 922,\n",
              " '30.0 77.0': 923,\n",
              " '62.0 68.0': 924,\n",
              " '77.0 83.0': 925,\n",
              " '100.0 88.': 926,\n",
              " '86.0 98.0': 927,\n",
              " '100.0': 928,\n",
              " '98.0': 929,\n",
              " '104.0': 930,\n",
              " '40.0 55.0': 931,\n",
              " '47.0 50.0': 932,\n",
              " '69.0 81.0': 933,\n",
              " '69.0 74.0 78.0': 934,\n",
              " '36.0 71.0': 935,\n",
              " '42.0 74.0': 936,\n",
              " '43.0 86.0': 937,\n",
              " '81.0 90.0': 938,\n",
              " '38.0 71.0': 939,\n",
              " '59.0 69.0': 940,\n",
              " '52.0 76.0': 941,\n",
              " '41.0 45.0': 942,\n",
              " '52.0 57.0': 943,\n",
              " '67.0 86.0': 944,\n",
              " '50.0 66.0': 945,\n",
              " '54.0 69.0': 946,\n",
              " '49.0 64.0': 947,\n",
              " '61.0 66.0 68.0': 948,\n",
              " '59.0 64.0 66.0': 949,\n",
              " '64.0 66.0': 950,\n",
              " '55.0 65.0': 951,\n",
              " '81.0 84.0': 952,\n",
              " '77.0 84.0 89.0': 953,\n",
              " '84.0 92.0 96.0': 954,\n",
              " '82.0 91.0 94.0': 955,\n",
              " '80.0 89.0 92.0': 956,\n",
              " '56.0 91.0': 957,\n",
              " '54.0 77.0': 958,\n",
              " '65.0 82.0': 959,\n",
              " '61.0 85.0': 960,\n",
              " '59.0 77.0': 961,\n",
              " '49.0 59.0': 962,\n",
              " '44.0 91.0': 963,\n",
              " '44.0 79.0': 964,\n",
              " '52.0 58.0': 965,\n",
              " '34.0 41.0 46.0': 966,\n",
              " '29.0 41.0': 967,\n",
              " '31.0 43.0': 968,\n",
              " '55.0 60.0 64.0': 969,\n",
              " '58.0 64.0': 970,\n",
              " '65.0 80.0': 971,\n",
              " '65.0 85.0': 972,\n",
              " '65.0 90.0': 973,\n",
              " '65.0 89.0': 974,\n",
              " '64.0 79.0': 975,\n",
              " '64.0 84.0': 976,\n",
              " '64.0 89.0': 977,\n",
              " '64.0 88.0': 978,\n",
              " '47.0 75.0': 979,\n",
              " '46.0 71.0': 980,\n",
              " '52.0 63.0': 981,\n",
              " '51.0 64.0': 982,\n",
              " '47.0 63.0': 983,\n",
              " '46.0 67.0': 984,\n",
              " '47.0 70.0': 985,\n",
              " '70.0 71.0': 986,\n",
              " '51.0 68.0': 987,\n",
              " '46.0 68.0': 988,\n",
              " '51.0 62.0': 989,\n",
              " '39.0 58.0': 990,\n",
              " '46.0 56.0': 991,\n",
              " '47.0 58.0': 992,\n",
              " '46.0 59.0': 993,\n",
              " '47.0 61.0': 994,\n",
              " '39.0 55.0': 995,\n",
              " '46.0 52.0': 996,\n",
              " '47.0 55.0': 997,\n",
              " '39.0 56.0': 998,\n",
              " '46.0 73.0': 999,\n",
              " ...}"
            ]
          },
          "metadata": {},
          "execution_count": 35
        }
      ]
    },
    {
      "cell_type": "markdown",
      "source": [
        "Possible lengths are fractions with a denominator of 12\n",
        "\n",
        "Time signatures' denominators are always equal to 4 "
      ],
      "metadata": {
        "id": "KZ0D2w-GVTAh"
      }
    }
  ]
}