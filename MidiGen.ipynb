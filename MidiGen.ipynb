{
  "nbformat": 4,
  "nbformat_minor": 0,
  "metadata": {
    "colab": {
      "provenance": [],
      "authorship_tag": "ABX9TyMtAjwce8sH74jNc2VBDlVE",
      "include_colab_link": true
    },
    "kernelspec": {
      "name": "python3",
      "display_name": "Python 3"
    },
    "language_info": {
      "name": "python"
    }
  },
  "cells": [
    {
      "cell_type": "markdown",
      "metadata": {
        "id": "view-in-github",
        "colab_type": "text"
      },
      "source": [
        "<a href=\"https://colab.research.google.com/github/WuzI38/Data/blob/Jupyter/MidiGen.ipynb\" target=\"_parent\"><img src=\"https://colab.research.google.com/assets/colab-badge.svg\" alt=\"Open In Colab\"/></a>"
      ]
    },
    {
      "cell_type": "markdown",
      "source": [
        "# Second attempt on music generation"
      ],
      "metadata": {
        "id": "ZY6KpIEZ_Oi3"
      }
    },
    {
      "cell_type": "markdown",
      "source": [
        "## Download data"
      ],
      "metadata": {
        "id": "6CmoA837DeWP"
      }
    },
    {
      "cell_type": "code",
      "source": [
        "!pip install -q kaggle"
      ],
      "metadata": {
        "id": "BUx4f1NZAfRS"
      },
      "execution_count": 1,
      "outputs": []
    },
    {
      "cell_type": "code",
      "source": [
        "from google.colab import drive\n",
        "drive.mount('/content/gdrive/')"
      ],
      "metadata": {
        "colab": {
          "base_uri": "https://localhost:8080/"
        },
        "id": "0SKvpUgaAn53",
        "outputId": "4c87ea91-e411-4dd8-af21-d3584784c8ef"
      },
      "execution_count": 2,
      "outputs": [
        {
          "output_type": "stream",
          "name": "stdout",
          "text": [
            "Mounted at /content/gdrive/\n"
          ]
        }
      ]
    },
    {
      "cell_type": "code",
      "source": [
        "!mkdir -p ~/.kaggle\n",
        "!cp /content/gdrive/MyDrive/Kaggle/kaggle.json ~/.kaggle/\n",
        "!chmod 600 /root/.kaggle/kaggle.json"
      ],
      "metadata": {
        "id": "tWJVCAc3BTed"
      },
      "execution_count": 3,
      "outputs": []
    },
    {
      "cell_type": "code",
      "source": [
        "!kaggle datasets download programgeek01/anime-music-midi"
      ],
      "metadata": {
        "colab": {
          "base_uri": "https://localhost:8080/"
        },
        "id": "VCUGX-H7Dah0",
        "outputId": "9b11878c-5aee-4309-cb7f-30000673b4da"
      },
      "execution_count": 4,
      "outputs": [
        {
          "output_type": "stream",
          "name": "stdout",
          "text": [
            "Downloading anime-music-midi.zip to /content\n",
            "\r  0% 0.00/707k [00:00<?, ?B/s]\n",
            "\r100% 707k/707k [00:00<00:00, 112MB/s]\n"
          ]
        }
      ]
    },
    {
      "cell_type": "code",
      "source": [
        "# Unzip data\n",
        "import zipfile\n",
        "\n",
        "zip_ref = zipfile.ZipFile(\"anime-music-midi.zip\", \"r\") # Hey, don't blame me for the name, I am not this dataset's creator\n",
        "zip_ref.extractall()\n",
        "zip_ref.close()"
      ],
      "metadata": {
        "id": "_eVX_xi7Dg1f"
      },
      "execution_count": 5,
      "outputs": []
    },
    {
      "cell_type": "code",
      "source": [
        "# enables music21 to render images of musical notes\n",
        "print('installing lilypond...')\n",
        "!apt-get install lilypond > /dev/null\n",
        "\n",
        "# enables playing midi files\n",
        "print('installing fluidsynth...')\n",
        "!apt-get install fluidsynth > /dev/null\n",
        "\n",
        "# Copy soundfont to content directory\n",
        "!cp /usr/share/sounds/sf2/FluidR3_GM.sf2 ./font.sf2"
      ],
      "metadata": {
        "colab": {
          "base_uri": "https://localhost:8080/"
        },
        "id": "4KBtibLzDs3n",
        "outputId": "e1568e3b-8bbf-4222-bc37-788796e45097"
      },
      "execution_count": 6,
      "outputs": [
        {
          "output_type": "stream",
          "name": "stdout",
          "text": [
            "installing lilypond...\n",
            "Extracting templates from packages: 100%\n",
            "installing fluidsynth...\n"
          ]
        }
      ]
    },
    {
      "cell_type": "markdown",
      "source": [
        "## Loading and preprocessing"
      ],
      "metadata": {
        "id": "biyx9idHD_e3"
      }
    },
    {
      "cell_type": "markdown",
      "source": [
        "### Parsing files"
      ],
      "metadata": {
        "id": "QqWG_Bz1EINe"
      }
    },
    {
      "cell_type": "code",
      "source": [
        "import os\n",
        "from music21 import *\n",
        "\n",
        "path = \"/content/data/undertale/\"\n",
        "midi_list = []\n",
        "for filename in os.listdir(path):\n",
        "  # print(filename)\n",
        "  parsed_file = converter.parse(path + filename)\n",
        "  midi_list.append(parsed_file)"
      ],
      "metadata": {
        "id": "6MaDbh8_EKjP"
      },
      "execution_count": 7,
      "outputs": []
    },
    {
      "cell_type": "code",
      "source": [
        "midi_list[0]"
      ],
      "metadata": {
        "colab": {
          "base_uri": "https://localhost:8080/"
        },
        "id": "TP5OKnpQEMro",
        "outputId": "08873d33-1b89-45e3-c07d-be4999800b9f"
      },
      "execution_count": 8,
      "outputs": [
        {
          "output_type": "execute_result",
          "data": {
            "text/plain": [
              "<music21.stream.Score 0x7f49f152e130>"
            ]
          },
          "metadata": {},
          "execution_count": 8
        }
      ]
    },
    {
      "cell_type": "markdown",
      "source": [
        "### Extracting notes and chords\n",
        "\n"
      ],
      "metadata": {
        "id": "Rvsia1LdJYcz"
      }
    },
    {
      "cell_type": "code",
      "source": [
        "def fragmentise(midi_stream):\n",
        "  return [part.flat.notes for part in midi_stream.parts]"
      ],
      "metadata": {
        "id": "nYSX6tC8PQu6"
      },
      "execution_count": 9,
      "outputs": []
    },
    {
      "cell_type": "code",
      "source": [
        "def signature(midi_stream):\n",
        "  sig = midi_stream.getTimeSignatures()[0]\n",
        "  return [sig.numerator, sig.denominator]"
      ],
      "metadata": {
        "id": "Qsvr_VhQQnBN"
      },
      "execution_count": 10,
      "outputs": []
    },
    {
      "cell_type": "code",
      "source": [
        "frag = fragmentise(midi_list[2])\n",
        "frag"
      ],
      "metadata": {
        "colab": {
          "base_uri": "https://localhost:8080/"
        },
        "id": "hQcUMS4TLYep",
        "outputId": "55512ba5-e9e0-418d-8b1d-a2708aff4eff"
      },
      "execution_count": 19,
      "outputs": [
        {
          "output_type": "execute_result",
          "data": {
            "text/plain": [
              "[<music21.stream.iterator.StreamIterator for Part:0x7f49f1a1a190_flat @:0>,\n",
              " <music21.stream.iterator.StreamIterator for Part:0x7f49f1d3d280_flat @:0>]"
            ]
          },
          "metadata": {},
          "execution_count": 19
        }
      ]
    },
    {
      "cell_type": "code",
      "source": [
        "sg = signature(frag[0])\n",
        "sg"
      ],
      "metadata": {
        "colab": {
          "base_uri": "https://localhost:8080/"
        },
        "id": "xVsAdaJ_Qb8T",
        "outputId": "df2c625a-d03f-49a3-e152-edc4dfd59f68"
      },
      "execution_count": 12,
      "outputs": [
        {
          "output_type": "execute_result",
          "data": {
            "text/plain": [
              "[4, 4]"
            ]
          },
          "metadata": {},
          "execution_count": 12
        }
      ]
    },
    {
      "cell_type": "code",
      "source": [
        "# Part one - extract notes from both streams and save them into a list\n",
        "def get_all_notes(midi_piece):\n",
        "  all_notes = list()\n",
        "  note_types = set()\n",
        "  midi_part = fragmentise(midi_piece)[0] # use only notes that belong to main melody\n",
        "  for nt in midi_part.flat.notes: \n",
        "    if isinstance(nt, note.Note):\n",
        "      pitch = str(max(0.0, nt.pitch.ps))\n",
        "      all_notes.append([nt.offset, pitch, nt.duration.quarterLength])\n",
        "    elif isinstance(nt, chord.Chord):\n",
        "      pitches = sorted([str(max(0.0, n.ps)) for n in nt.pitches])\n",
        "      pitches = ' '.join(pitches)\n",
        "      all_notes.append([nt.offset, pitches, nt.duration.quarterLength])\n",
        "  return all_notes\n",
        "  \n",
        "notes_list = get_all_notes(midi_list[0])\n",
        "notes_list[:10]"
      ],
      "metadata": {
        "id": "wJfX8VwCWGLE",
        "colab": {
          "base_uri": "https://localhost:8080/"
        },
        "outputId": "cd2ade44-de85-485e-bcea-a660f6c0746a"
      },
      "execution_count": 40,
      "outputs": [
        {
          "output_type": "execute_result",
          "data": {
            "text/plain": [
              "[[0.0, '39.0 70.0 74.0 77.0', 1.0],\n",
              " [1.0, '46.0', 0.25],\n",
              " [1.25, '39.0 65.0', 0.25],\n",
              " [1.5, '70.0', 0.25],\n",
              " [1.75, '72.0', 0.25],\n",
              " [1.75, '46.0', 0.25],\n",
              " [2.5, '39.0 73.0', 0.25],\n",
              " [Fraction(8, 3), '74.0', Fraction(1, 3)],\n",
              " [3.0, '72.0', 0.5],\n",
              " [3.0, '39.0', 0.25]]"
            ]
          },
          "metadata": {},
          "execution_count": 40
        }
      ]
    },
    {
      "cell_type": "code",
      "source": [
        "# Part 2 extract all chord types from the dataset\n",
        "import numpy as np\n",
        "\n",
        "def get_chord_types(dataset):\n",
        "  chord_types = dict()\n",
        "  for d in dataset:\n",
        "    notes_list = np.array(get_all_notes(d))\n",
        "    strings = notes_list[:, 1]\n",
        "    for s in strings:\n",
        "      chord_types[s] = 1 + chord_types[s] if chord_types.get(s) is not None else 1\n",
        "  return chord_types\n",
        "\n",
        "types = get_chord_types(midi_list)"
      ],
      "metadata": {
        "id": "n9emf8arWo4f"
      },
      "execution_count": 50,
      "outputs": []
    },
    {
      "cell_type": "code",
      "source": [
        "print(len(types))"
      ],
      "metadata": {
        "colab": {
          "base_uri": "https://localhost:8080/"
        },
        "id": "Im4dtrGwcjUb",
        "outputId": "f6041561-30ba-40e1-b515-38ff405c11a9"
      },
      "execution_count": 51,
      "outputs": [
        {
          "output_type": "stream",
          "name": "stdout",
          "text": [
            "1881\n"
          ]
        }
      ]
    },
    {
      "cell_type": "markdown",
      "source": [
        "### Counting invidual chords and removing the rare ones"
      ],
      "metadata": {
        "id": "fk7Iyf_tfbzr"
      }
    },
    {
      "cell_type": "code",
      "source": [
        "chord_counts = dict()\n",
        "for item in sorted(list(types.values())):\n",
        "  chord_counts[str(item)] = 1 + chord_counts[str(item)] if chord_counts.get(str(item)) is not None else 1\n",
        "\n",
        "chord_counts = {k: v for k, v in chord_counts.items() if v > 1}"
      ],
      "metadata": {
        "id": "VfX3UuRzfxKM"
      },
      "execution_count": 63,
      "outputs": []
    },
    {
      "cell_type": "code",
      "source": [
        "# Plotting the values\n",
        "import matplotlib.pyplot as plt\n",
        "\n",
        "# Extract the keys and values from the dictionary as lists\n",
        "keys = list(chord_counts.keys())\n",
        "values = list(chord_counts.values())\n",
        "\n",
        "# Change size\n",
        "plt.figure(figsize=(16, 12))\n",
        "\n",
        "# Create a bar chart using the plot function\n",
        "plt.bar(keys, values)\n",
        "\n",
        "# Add a title and axis labels\n",
        "plt.title('Number of types among chords with the same popularity (only values > 1)')\n",
        "plt.xlabel('Popularity')\n",
        "plt.ylabel('Types')\n",
        "\n",
        "# Rotate labels\n",
        "plt.xticks(rotation=90)\n",
        "\n",
        "# Display the plot\n",
        "plt.show()"
      ],
      "metadata": {
        "colab": {
          "base_uri": "https://localhost:8080/",
          "height": 738
        },
        "id": "N-qqcFaJeLsr",
        "outputId": "b3cd9bb5-5d28-4bd2-e06e-6a2160b29ff5"
      },
      "execution_count": 65,
      "outputs": [
        {
          "output_type": "display_data",
          "data": {
            "text/plain": [
              "<Figure size 1152x864 with 1 Axes>"
            ],
            "image/png": "[encoded data removed]"
          },
          "metadata": {
            "image/png": {
              "width": 946,
              "height": 721
            },
            "needs_background": "light"
          }
        }
      ]
    },
    {
      "cell_type": "code",
      "source": [
        "from statistics import mean\n",
        "HOW_MANY = 20\n",
        "means = [mean([len(k)//4 for k, v in types.items() if v <= i]) for i in range(1, HOW_MANY + 1)]"
      ],
      "metadata": {
        "id": "Bx29u1RklvNM"
      },
      "execution_count": 90,
      "outputs": []
    },
    {
      "cell_type": "code",
      "source": [
        "# Plotting the means\n",
        "plt.figure(figsize=(10, 7))\n",
        "\n",
        "# Create a bar chart using the plot function\n",
        "plt.bar(list(range(1, HOW_MANY + 1)), means)\n",
        "\n",
        "# Add a title and axis labels\n",
        "plt.title('Avg length of rare chords')\n",
        "plt.xlabel('Popularity of a chord')\n",
        "plt.ylabel('Avg length')\n",
        "\n",
        "# Rotate labels\n",
        "plt.xticks(rotation=90)\n",
        "\n",
        "# Display the plot\n",
        "plt.show()"
      ],
      "metadata": {
        "colab": {
          "base_uri": "https://localhost:8080/",
          "height": 470
        },
        "id": "8uXOIKobmiLl",
        "outputId": "b92b1ce0-32aa-47e8-acd0-61668add80f1"
      },
      "execution_count": 91,
      "outputs": [
        {
          "output_type": "display_data",
          "data": {
            "text/plain": [
              "<Figure size 720x504 with 1 Axes>"
            ],
            "image/png": "[encoded data removed]"
          },
          "metadata": {
            "image/png": {
              "width": 608,
              "height": 453
            },
            "needs_background": "light"
          }
        }
      ]
    },
    {
      "cell_type": "markdown",
      "source": [
        "The avg length is around 3 for the rare chords, so I can probably shorten them to 2 notes for the encoding purposes, so i don't have to use 1881 different values"
      ],
      "metadata": {
        "id": "zj9AyFwHo3yl"
      }
    },
    {
      "cell_type": "code",
      "source": [
        "# (This cell is mostly stolen from kaggle, but does it really matter?)\n",
        "# I turned it into a dict cuz I have no idea how to use the library\n",
        "\n",
        "def part_to_dict(midi_part):\n",
        "  # If what I think is correct midi stream is divided into midi parts which \n",
        "  # Represents instruments (or left/right hand piano melody)\n",
        "  notes_as_dict = []\n",
        "  for n in midi_part.flat.notes:     \n",
        "    sound_dict = dict()\n",
        "    if isinstance(n, note.Note):\n",
        "      sound_dict[\"type\"] = \"Note\"\n",
        "      sound_dict[\"pitch\"] = max(0.0, n.pitch.ps)\n",
        "      sound_dict[\"duration\"] = n.duration.quarterLength\n",
        "    elif isinstance(n, chord.Chord):\n",
        "      sound_dict[\"type\"] = \"Chord\"\n",
        "      sound_dict[\"pitches\"] = [] \n",
        "      for pitch in n.pitches:\n",
        "        sound_dict[\"pitches\"].append(max(0.0, pitch.ps))\n",
        "    sound_dict[\"duration\"] = n.duration.quarterLength\n",
        "    sound_dict[\"offset\"] = n.offset\n",
        "    notes_as_dict.append(sound_dict)\n",
        "    \n",
        "  return notes_as_dict\n",
        "\n",
        "part_to_dict(frag[1])[:50]"
      ],
      "metadata": {
        "id": "EDW6IAxOHu65"
      },
      "execution_count": null,
      "outputs": []
    },
    {
      "cell_type": "code",
      "source": [
        "durs = set()\n",
        "for lst in midi_list:\n",
        "  for frg in fragmentise(lst):\n",
        "    durs.add(signature(frg)[1])"
      ],
      "metadata": {
        "id": "ooOjxg2SUfRP"
      },
      "execution_count": null,
      "outputs": []
    },
    {
      "cell_type": "markdown",
      "source": [
        "Possible lengths are fractions with a denominator of 12\n",
        "\n",
        "Time signatures' denominators are always equal to 4 "
      ],
      "metadata": {
        "id": "KZ0D2w-GVTAh"
      }
    }
  ]
}