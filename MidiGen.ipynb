{
  "nbformat": 4,
  "nbformat_minor": 0,
  "metadata": {
    "colab": {
      "provenance": [],
      "authorship_tag": "ABX9TyP+jdWcCRzUpfClQddQNLqe",
      "include_colab_link": true
    },
    "kernelspec": {
      "name": "python3",
      "display_name": "Python 3"
    },
    "language_info": {
      "name": "python"
    }
  },
  "cells": [
    {
      "cell_type": "markdown",
      "metadata": {
        "id": "view-in-github",
        "colab_type": "text"
      },
      "source": [
        "<a href=\"https://colab.research.google.com/github/WuzI38/Data/blob/Jupyter/MidiGen.ipynb\" target=\"_parent\"><img src=\"https://colab.research.google.com/assets/colab-badge.svg\" alt=\"Open In Colab\"/></a>"
      ]
    },
    {
      "cell_type": "markdown",
      "source": [
        "# Second attempt on music generation"
      ],
      "metadata": {
        "id": "ZY6KpIEZ_Oi3"
      }
    },
    {
      "cell_type": "markdown",
      "source": [
        "## Download data"
      ],
      "metadata": {
        "id": "6CmoA837DeWP"
      }
    },
    {
      "cell_type": "code",
      "source": [
        "!pip install -q kaggle"
      ],
      "metadata": {
        "id": "BUx4f1NZAfRS"
      },
      "execution_count": null,
      "outputs": []
    },
    {
      "cell_type": "code",
      "source": [
        "from google.colab import drive\n",
        "drive.mount('/content/gdrive/')"
      ],
      "metadata": {
        "colab": {
          "base_uri": "https://localhost:8080/"
        },
        "id": "0SKvpUgaAn53",
        "outputId": "3794ef10-b4dd-4ab9-c192-49f3a3c842ef"
      },
      "execution_count": null,
      "outputs": [
        {
          "output_type": "stream",
          "name": "stdout",
          "text": [
            "Mounted at /content/gdrive/\n"
          ]
        }
      ]
    },
    {
      "cell_type": "code",
      "source": [
        "!mkdir -p ~/.kaggle\n",
        "!cp /content/gdrive/MyDrive/Kaggle/kaggle.json ~/.kaggle/\n",
        "!chmod 600 /root/.kaggle/kaggle.json"
      ],
      "metadata": {
        "id": "tWJVCAc3BTed"
      },
      "execution_count": null,
      "outputs": []
    },
    {
      "cell_type": "code",
      "source": [
        "!kaggle datasets download programgeek01/anime-music-midi"
      ],
      "metadata": {
        "colab": {
          "base_uri": "https://localhost:8080/"
        },
        "id": "VCUGX-H7Dah0",
        "outputId": "30f11b6f-fc7e-4ceb-c87d-55de3a9dec19"
      },
      "execution_count": null,
      "outputs": [
        {
          "output_type": "stream",
          "name": "stdout",
          "text": [
            "Downloading anime-music-midi.zip to /content\n",
            "\r  0% 0.00/707k [00:00<?, ?B/s]\n",
            "\r100% 707k/707k [00:00<00:00, 89.9MB/s]\n"
          ]
        }
      ]
    },
    {
      "cell_type": "code",
      "source": [
        "# Unzip data\n",
        "import zipfile\n",
        "\n",
        "zip_ref = zipfile.ZipFile(\"anime-music-midi.zip\", \"r\") # Hey, don't blame me for the name, I am not this dataset's creator\n",
        "zip_ref.extractall()\n",
        "zip_ref.close()"
      ],
      "metadata": {
        "id": "_eVX_xi7Dg1f"
      },
      "execution_count": null,
      "outputs": []
    },
    {
      "cell_type": "code",
      "source": [
        "# enables music21 to render images of musical notes\n",
        "print('installing lilypond...')\n",
        "!apt-get install lilypond > /dev/null\n",
        "\n",
        "# enables playing midi files\n",
        "print('installing fluidsynth...')\n",
        "!apt-get install fluidsynth > /dev/null\n",
        "\n",
        "# Copy soundfont to content directory\n",
        "!cp /usr/share/sounds/sf2/FluidR3_GM.sf2 ./font.sf2"
      ],
      "metadata": {
        "colab": {
          "base_uri": "https://localhost:8080/"
        },
        "id": "4KBtibLzDs3n",
        "outputId": "4674befe-28f5-41f9-d97e-bfa081fbc742"
      },
      "execution_count": null,
      "outputs": [
        {
          "output_type": "stream",
          "name": "stdout",
          "text": [
            "installing lilypond...\n",
            "Extracting templates from packages: 100%\n",
            "installing fluidsynth...\n"
          ]
        }
      ]
    },
    {
      "cell_type": "markdown",
      "source": [
        "## Loading and preprocessing"
      ],
      "metadata": {
        "id": "biyx9idHD_e3"
      }
    },
    {
      "cell_type": "markdown",
      "source": [
        "### Parsing files"
      ],
      "metadata": {
        "id": "QqWG_Bz1EINe"
      }
    },
    {
      "cell_type": "code",
      "source": [
        "import os\n",
        "from music21 import *\n",
        "\n",
        "path = \"/content/data/undertale/\"\n",
        "midi_list = []\n",
        "for filename in os.listdir(path):\n",
        "  # print(filename)\n",
        "  parsed_file = converter.parse(path + filename)\n",
        "  midi_list.append(parsed_file)"
      ],
      "metadata": {
        "id": "6MaDbh8_EKjP"
      },
      "execution_count": null,
      "outputs": []
    },
    {
      "cell_type": "code",
      "source": [
        "midi_list[0]"
      ],
      "metadata": {
        "colab": {
          "base_uri": "https://localhost:8080/"
        },
        "id": "TP5OKnpQEMro",
        "outputId": "49d19f7d-35dd-4b11-e2bc-be26afd8279d"
      },
      "execution_count": null,
      "outputs": [
        {
          "output_type": "execute_result",
          "data": {
            "text/plain": [
              "<music21.stream.Score 0x7f3830a259a0>"
            ]
          },
          "metadata": {},
          "execution_count": 8
        }
      ]
    },
    {
      "cell_type": "markdown",
      "source": [
        "### Formatting\n",
        "Possible lengths are fractions with a denominator of 12\n",
        "\n",
        "Time signatures' denominators are always equal to 4 \n",
        "\n"
      ],
      "metadata": {
        "id": "Rvsia1LdJYcz"
      }
    },
    {
      "cell_type": "code",
      "source": [
        "def fragmentise(midi_stream):\n",
        "  return [part.flat.notes for part in midi_stream.parts]"
      ],
      "metadata": {
        "id": "nYSX6tC8PQu6"
      },
      "execution_count": null,
      "outputs": []
    },
    {
      "cell_type": "code",
      "source": [
        "def signature(midi_stream):\n",
        "  sig = midi_stream.getTimeSignatures()[0]\n",
        "  return [sig.numerator, sig.denominator]"
      ],
      "metadata": {
        "id": "Qsvr_VhQQnBN"
      },
      "execution_count": null,
      "outputs": []
    },
    {
      "cell_type": "code",
      "source": [
        "frag = fragmentise(midi_list[15])\n",
        "frag"
      ],
      "metadata": {
        "colab": {
          "base_uri": "https://localhost:8080/"
        },
        "id": "hQcUMS4TLYep",
        "outputId": "53bbaceb-1194-4b13-871f-961a457d7ec0"
      },
      "execution_count": null,
      "outputs": [
        {
          "output_type": "execute_result",
          "data": {
            "text/plain": [
              "[<music21.stream.iterator.StreamIterator for Part:0x7f383146a8e0_flat @:0>,\n",
              " <music21.stream.iterator.StreamIterator for Part:0x7f38310752b0_flat @:0>]"
            ]
          },
          "metadata": {},
          "execution_count": 52
        }
      ]
    },
    {
      "cell_type": "code",
      "source": [
        "sg = signature(frag[0])\n",
        "sg"
      ],
      "metadata": {
        "colab": {
          "base_uri": "https://localhost:8080/"
        },
        "id": "xVsAdaJ_Qb8T",
        "outputId": "b00cc560-85aa-4c66-a314-9c2c027829cb"
      },
      "execution_count": null,
      "outputs": [
        {
          "output_type": "execute_result",
          "data": {
            "text/plain": [
              "[4, 4]"
            ]
          },
          "metadata": {},
          "execution_count": 54
        }
      ]
    },
    {
      "cell_type": "code",
      "source": [
        "Piece is separated into "
      ],
      "metadata": {
        "id": "tu8UZpA_Zctc"
      },
      "execution_count": null,
      "outputs": []
    },
    {
      "cell_type": "code",
      "source": [
        "def part_formatter(midi_part):\n",
        "  # Part one "
      ],
      "metadata": {
        "id": "wJfX8VwCWGLE"
      },
      "execution_count": null,
      "outputs": []
    },
    {
      "cell_type": "code",
      "source": [
        "# (This cell is mostly stolen from kaggle, but does it really matter?)\n",
        "# I turned it into a dict cuz I have no idea how to use the library\n",
        "\n",
        "def part_to_dict(midi_part):\n",
        "  # If what I think is correct midi stream is divided into midi parts which \n",
        "  # Represents instruments (or left/right hand piano melody)\n",
        "  notes_as_dict = []\n",
        "  for n in midi_part.flat.notes:     \n",
        "    sound_dict = dict()\n",
        "    if isinstance(n, note.Note):\n",
        "      sound_dict[\"type\"] = \"Note\"\n",
        "      sound_dict[\"pitch\"] = max(0.0, n.pitch.ps)\n",
        "      sound_dict[\"duration\"] = n.duration.quarterLength\n",
        "    elif isinstance(n, chord.Chord):\n",
        "      sound_dict[\"type\"] = \"Chord\"\n",
        "      sound_dict[\"pitches\"] = [] \n",
        "      for pitch in n.pitches:\n",
        "        sound_dict[\"pitches\"].append(max(0.0, pitch.ps))\n",
        "    sound_dict[\"duration\"] = n.duration.quarterLength\n",
        "    sound_dict[\"offset\"] = n.offset\n",
        "    notes_as_dict.append(sound_dict)\n",
        "    \n",
        "  return notes_as_dict\n",
        "\n",
        "part_to_dict(frag[1])[:50]"
      ],
      "metadata": {
        "colab": {
          "base_uri": "https://localhost:8080/"
        },
        "id": "EDW6IAxOHu65",
        "outputId": "425286c7-37bc-47ba-894d-0fe660e3633d"
      },
      "execution_count": null,
      "outputs": [
        {
          "output_type": "execute_result",
          "data": {
            "text/plain": [
              "[{'type': 'Note', 'pitch': 38.0, 'duration': 0.25, 'offset': 3.5},\n",
              " {'type': 'Note', 'pitch': 43.0, 'duration': 0.5, 'offset': 4.0},\n",
              " {'type': 'Note', 'pitch': 38.0, 'duration': Fraction(1, 3), 'offset': 5.0},\n",
              " {'type': 'Note', 'pitch': 43.0, 'duration': Fraction(1, 3), 'offset': 6.0},\n",
              " {'type': 'Note', 'pitch': 38.0, 'duration': Fraction(1, 3), 'offset': 7.0},\n",
              " {'type': 'Note', 'pitch': 43.0, 'duration': 0.5, 'offset': 8.0},\n",
              " {'type': 'Note', 'pitch': 38.0, 'duration': Fraction(1, 3), 'offset': 9.0},\n",
              " {'type': 'Note', 'pitch': 43.0, 'duration': Fraction(1, 3), 'offset': 10.0},\n",
              " {'type': 'Note', 'pitch': 38.0, 'duration': Fraction(1, 3), 'offset': 11.0},\n",
              " {'type': 'Note', 'pitch': 43.0, 'duration': 0.5, 'offset': 12.0},\n",
              " {'type': 'Note', 'pitch': 38.0, 'duration': Fraction(1, 3), 'offset': 13.0},\n",
              " {'type': 'Note', 'pitch': 43.0, 'duration': Fraction(1, 3), 'offset': 14.0},\n",
              " {'type': 'Note', 'pitch': 38.0, 'duration': 0.25, 'offset': 15.0},\n",
              " {'type': 'Note', 'pitch': 38.0, 'duration': 0.25, 'offset': 15.5},\n",
              " {'type': 'Note', 'pitch': 43.0, 'duration': 0.5, 'offset': 16.0},\n",
              " {'type': 'Note', 'pitch': 38.0, 'duration': Fraction(1, 3), 'offset': 17.0},\n",
              " {'type': 'Note', 'pitch': 43.0, 'duration': Fraction(1, 3), 'offset': 18.0},\n",
              " {'type': 'Note', 'pitch': 38.0, 'duration': Fraction(1, 3), 'offset': 19.0},\n",
              " {'type': 'Note', 'pitch': 43.0, 'duration': 0.5, 'offset': 20.0},\n",
              " {'type': 'Note', 'pitch': 38.0, 'duration': Fraction(1, 3), 'offset': 21.0},\n",
              " {'type': 'Note', 'pitch': 43.0, 'duration': Fraction(1, 3), 'offset': 22.0},\n",
              " {'type': 'Note', 'pitch': 38.0, 'duration': Fraction(1, 3), 'offset': 23.0},\n",
              " {'type': 'Note', 'pitch': 43.0, 'duration': 0.5, 'offset': 24.0},\n",
              " {'type': 'Note', 'pitch': 38.0, 'duration': Fraction(1, 3), 'offset': 25.0},\n",
              " {'type': 'Note', 'pitch': 43.0, 'duration': Fraction(1, 3), 'offset': 26.0},\n",
              " {'type': 'Note', 'pitch': 38.0, 'duration': Fraction(1, 3), 'offset': 27.0},\n",
              " {'type': 'Note', 'pitch': 43.0, 'duration': 0.5, 'offset': 28.0},\n",
              " {'type': 'Note', 'pitch': 38.0, 'duration': Fraction(1, 3), 'offset': 29.0},\n",
              " {'type': 'Note', 'pitch': 43.0, 'duration': Fraction(1, 3), 'offset': 30.0},\n",
              " {'type': 'Note', 'pitch': 38.0, 'duration': 0.25, 'offset': 31.0},\n",
              " {'type': 'Note', 'pitch': 38.0, 'duration': 0.25, 'offset': 31.5},\n",
              " {'type': 'Note', 'pitch': 43.0, 'duration': 0.5, 'offset': 32.0},\n",
              " {'type': 'Note', 'pitch': 38.0, 'duration': Fraction(1, 3), 'offset': 33.0}]"
            ]
          },
          "metadata": {},
          "execution_count": 58
        }
      ]
    },
    {
      "cell_type": "code",
      "source": [
        "durs = set()\n",
        "for lst in midi_list:\n",
        "  for frg in fragmentise(lst):\n",
        "    durs.add(signature(frg)[1])"
      ],
      "metadata": {
        "id": "ooOjxg2SUfRP"
      },
      "execution_count": null,
      "outputs": []
    },
    {
      "cell_type": "code",
      "source": [
        "durs"
      ],
      "metadata": {
        "colab": {
          "base_uri": "https://localhost:8080/"
        },
        "id": "KZ0D2w-GVTAh",
        "outputId": "ef374157-91df-4c02-fcf9-585f56e747bb"
      },
      "execution_count": null,
      "outputs": [
        {
          "output_type": "execute_result",
          "data": {
            "text/plain": [
              "{4}"
            ]
          },
          "metadata": {},
          "execution_count": 64
        }
      ]
    }
  ]
}